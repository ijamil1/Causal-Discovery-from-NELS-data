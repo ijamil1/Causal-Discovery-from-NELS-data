{
 "cells": [
  {
   "cell_type": "code",
   "execution_count": 145,
   "metadata": {},
   "outputs": [],
   "source": [
    "import numpy as np\n",
    "from scipy.special import expit\n",
    "import statsmodels.api as sm\n",
    "import scipy.stats as stats\n",
    "import pandas as pd\n",
    "from ananke.graphs import CG\n",
    "import itertools\n",
    "from matplotlib import pyplot as plt"
   ]
  },
  {
   "cell_type": "code",
   "execution_count": 612,
   "metadata": {},
   "outputs": [],
   "source": [
    "df = pd.read_csv(\"NELS data.csv\", skiprows=1) #reading data in"
   ]
  },
  {
   "cell_type": "code",
   "execution_count": 613,
   "metadata": {},
   "outputs": [],
   "source": [
    "data=df.set_index('id')# setting index to id"
   ]
  },
  {
   "cell_type": "code",
   "execution_count": 614,
   "metadata": {},
   "outputs": [
    {
     "data": {
      "text/html": [
       "<div>\n",
       "<style scoped>\n",
       "    .dataframe tbody tr th:only-of-type {\n",
       "        vertical-align: middle;\n",
       "    }\n",
       "\n",
       "    .dataframe tbody tr th {\n",
       "        vertical-align: top;\n",
       "    }\n",
       "\n",
       "    .dataframe thead th {\n",
       "        text-align: right;\n",
       "    }\n",
       "</style>\n",
       "<table border=\"1\" class=\"dataframe\">\n",
       "  <thead>\n",
       "    <tr style=\"text-align: right;\">\n",
       "      <th></th>\n",
       "      <th>bys2a</th>\n",
       "      <th>bys4a</th>\n",
       "      <th>bys4occ</th>\n",
       "      <th>bys5a</th>\n",
       "      <th>bys7a</th>\n",
       "      <th>bys7occ</th>\n",
       "      <th>bys12</th>\n",
       "      <th>bys18</th>\n",
       "      <th>bys20</th>\n",
       "      <th>bys22</th>\n",
       "      <th>...</th>\n",
       "      <th>f1s64h</th>\n",
       "      <th>f1s64i</th>\n",
       "      <th>f1s64j</th>\n",
       "      <th>f1s64k</th>\n",
       "      <th>f1s64l</th>\n",
       "      <th>f1s74</th>\n",
       "      <th>f1s75</th>\n",
       "      <th>f1s76</th>\n",
       "      <th>f1s77</th>\n",
       "      <th>f1s78a</th>\n",
       "    </tr>\n",
       "    <tr>\n",
       "      <th>id</th>\n",
       "      <th></th>\n",
       "      <th></th>\n",
       "      <th></th>\n",
       "      <th></th>\n",
       "      <th></th>\n",
       "      <th></th>\n",
       "      <th></th>\n",
       "      <th></th>\n",
       "      <th></th>\n",
       "      <th></th>\n",
       "      <th></th>\n",
       "      <th></th>\n",
       "      <th></th>\n",
       "      <th></th>\n",
       "      <th></th>\n",
       "      <th></th>\n",
       "      <th></th>\n",
       "      <th></th>\n",
       "      <th></th>\n",
       "      <th></th>\n",
       "      <th></th>\n",
       "    </tr>\n",
       "  </thead>\n",
       "  <tbody>\n",
       "    <tr>\n",
       "      <td>124966</td>\n",
       "      <td>1</td>\n",
       "      <td>1</td>\n",
       "      <td>15</td>\n",
       "      <td>1</td>\n",
       "      <td>2</td>\n",
       "      <td>2</td>\n",
       "      <td>2</td>\n",
       "      <td>1</td>\n",
       "      <td>1</td>\n",
       "      <td>1</td>\n",
       "      <td>...</td>\n",
       "      <td>4.0</td>\n",
       "      <td>4.0</td>\n",
       "      <td>4.0</td>\n",
       "      <td>5.0</td>\n",
       "      <td>8.0</td>\n",
       "      <td>1.0</td>\n",
       "      <td>3.0</td>\n",
       "      <td>2.0</td>\n",
       "      <td>0.0</td>\n",
       "      <td>3.0</td>\n",
       "    </tr>\n",
       "    <tr>\n",
       "      <td>124968</td>\n",
       "      <td>8</td>\n",
       "      <td>1</td>\n",
       "      <td>1</td>\n",
       "      <td>1</td>\n",
       "      <td>1</td>\n",
       "      <td>8</td>\n",
       "      <td>1</td>\n",
       "      <td>99</td>\n",
       "      <td>1</td>\n",
       "      <td>99</td>\n",
       "      <td>...</td>\n",
       "      <td>3.0</td>\n",
       "      <td>4.0</td>\n",
       "      <td>4.0</td>\n",
       "      <td>3.0</td>\n",
       "      <td>3.0</td>\n",
       "      <td>1.0</td>\n",
       "      <td>3.0</td>\n",
       "      <td>2.0</td>\n",
       "      <td>0.0</td>\n",
       "      <td>2.0</td>\n",
       "    </tr>\n",
       "    <tr>\n",
       "      <td>124972</td>\n",
       "      <td>1</td>\n",
       "      <td>1</td>\n",
       "      <td>1</td>\n",
       "      <td>1</td>\n",
       "      <td>1</td>\n",
       "      <td>12</td>\n",
       "      <td>1</td>\n",
       "      <td>99</td>\n",
       "      <td>1</td>\n",
       "      <td>99</td>\n",
       "      <td>...</td>\n",
       "      <td>4.0</td>\n",
       "      <td>4.0</td>\n",
       "      <td>4.0</td>\n",
       "      <td>4.0</td>\n",
       "      <td>4.0</td>\n",
       "      <td>3.0</td>\n",
       "      <td>2.0</td>\n",
       "      <td>2.0</td>\n",
       "      <td>0.0</td>\n",
       "      <td>2.0</td>\n",
       "    </tr>\n",
       "    <tr>\n",
       "      <td>124999</td>\n",
       "      <td>1</td>\n",
       "      <td>1</td>\n",
       "      <td>15</td>\n",
       "      <td>1</td>\n",
       "      <td>1</td>\n",
       "      <td>5</td>\n",
       "      <td>1</td>\n",
       "      <td>99</td>\n",
       "      <td>1</td>\n",
       "      <td>99</td>\n",
       "      <td>...</td>\n",
       "      <td>4.0</td>\n",
       "      <td>4.0</td>\n",
       "      <td>4.0</td>\n",
       "      <td>4.0</td>\n",
       "      <td>4.0</td>\n",
       "      <td>1.0</td>\n",
       "      <td>3.0</td>\n",
       "      <td>2.0</td>\n",
       "      <td>0.0</td>\n",
       "      <td>3.0</td>\n",
       "    </tr>\n",
       "    <tr>\n",
       "      <td>175551</td>\n",
       "      <td>1</td>\n",
       "      <td>1</td>\n",
       "      <td>1</td>\n",
       "      <td>1</td>\n",
       "      <td>1</td>\n",
       "      <td>6</td>\n",
       "      <td>2</td>\n",
       "      <td>99</td>\n",
       "      <td>1</td>\n",
       "      <td>99</td>\n",
       "      <td>...</td>\n",
       "      <td>3.0</td>\n",
       "      <td>3.0</td>\n",
       "      <td>3.0</td>\n",
       "      <td>3.0</td>\n",
       "      <td>3.0</td>\n",
       "      <td>1.0</td>\n",
       "      <td>1.0</td>\n",
       "      <td>2.0</td>\n",
       "      <td>0.0</td>\n",
       "      <td>0.0</td>\n",
       "    </tr>\n",
       "  </tbody>\n",
       "</table>\n",
       "<p>5 rows × 255 columns</p>\n",
       "</div>"
      ],
      "text/plain": [
       "        bys2a  bys4a  bys4occ  bys5a  bys7a  bys7occ  bys12  bys18  bys20  \\\n",
       "id                                                                          \n",
       "124966      1      1       15      1      2        2      2      1      1   \n",
       "124968      8      1        1      1      1        8      1     99      1   \n",
       "124972      1      1        1      1      1       12      1     99      1   \n",
       "124999      1      1       15      1      1        5      1     99      1   \n",
       "175551      1      1        1      1      1        6      2     99      1   \n",
       "\n",
       "        bys22  ...  f1s64h  f1s64i  f1s64j  f1s64k  f1s64l  f1s74  f1s75  \\\n",
       "id             ...                                                         \n",
       "124966      1  ...     4.0     4.0     4.0     5.0     8.0    1.0    3.0   \n",
       "124968     99  ...     3.0     4.0     4.0     3.0     3.0    1.0    3.0   \n",
       "124972     99  ...     4.0     4.0     4.0     4.0     4.0    3.0    2.0   \n",
       "124999     99  ...     4.0     4.0     4.0     4.0     4.0    1.0    3.0   \n",
       "175551     99  ...     3.0     3.0     3.0     3.0     3.0    1.0    1.0   \n",
       "\n",
       "        f1s76  f1s77  f1s78a  \n",
       "id                            \n",
       "124966    2.0    0.0     3.0  \n",
       "124968    2.0    0.0     2.0  \n",
       "124972    2.0    0.0     2.0  \n",
       "124999    2.0    0.0     3.0  \n",
       "175551    2.0    0.0     0.0  \n",
       "\n",
       "[5 rows x 255 columns]"
      ]
     },
     "execution_count": 614,
     "metadata": {},
     "output_type": "execute_result"
    }
   ],
   "source": [
    "data.head()"
   ]
  },
  {
   "cell_type": "code",
   "execution_count": 615,
   "metadata": {},
   "outputs": [],
   "source": [
    "var2names = {} #dictionary mapping variables to what they represent"
   ]
  },
  {
   "cell_type": "code",
   "execution_count": 616,
   "metadata": {},
   "outputs": [],
   "source": [
    "var2names['bys2a']='FemGuardianLiving'\n",
    "var2names['bys5a']='MaleGaurdianLiving'\n",
    "var2names['bys4a']='FemGaurdianEmploymentStatus'\n",
    "var2names['bys7a']='MaleGaurdianEmploymentStatus'\n",
    "var2names['bys4occ']='FemGaurdianOccupation'\n",
    "var2names['bys7occ']='MaleGuardianOccupation'\n",
    "var2names['bys12']='RespondentSex'\n",
    "var2names['bys18']='FirstLanguageLearned'\n",
    "var2names['bys20']='LanguageUsuallySpokenNow'\n",
    "var2names['bys22']='LanguageSpokeninHome'\n",
    "var2names['bys27a']='EnglishUnderstandingAbility'\n",
    "var2names['bys27b']='EnglishSpeakingAbility'\n",
    "var2names['bys27c']='EnglishReadingAbility'\n",
    "var2names['bys27d']='EnglishWritingAbility'\n",
    "var2names['bys29']='EnrolledinESL'\n",
    "var2names['bys31a']='Race'\n",
    "var2names['bys31b']='API?'\n",
    "var2names['bys31c']='Hispanic?'\n",
    "var2names['bys31d']='HispanicRace'\n",
    "var2names['bys32']='NumSiblings'\n",
    "var2names['bys34a']='Father\\'sEducation'\n",
    "var2names['bys34b']='Mother\\sEducation'\n",
    "var2names['bys35a']='StudyPlaceinHome?'\n",
    "var2names['bys35p']='PersonalBedroom?'\n",
    "var2names['bys36a']='NumTimesDiscussedCourseSelectionWithGuardians'\n",
    "var2names['bys36b']='NumTimesDiscussedSchoolActivitiesWithGuardians'\n",
    "var2names['bys36c']='NumTimesDiscussedCourseMaterialWithGuardians'\n",
    "var2names['bys37a']='GuardiansAttendedSchoolMeeting?'\n",
    "var2names['bys37b']='GuardiansSpokenToSchool'\n",
    "var2names['bys37c']='GuardianHasVisitedClass'\n",
    "var2names['bys37d']='GaurdianAttendedSchoolEventRespondentIsIn'\n",
    "var2names['bys38a']='AskedIfHomeworkDone'\n",
    "var2names['bys38b']='AskedToDoChores'\n",
    "var2names['bys38c']='LimitOnTvTime'\n",
    "var2names['bys38d']='LimitOnTimeWithFriends'\n",
    "var2names['bys41']='TimeSpentAtHomeAfterSchoolWithoutAdult'\n",
    "var2names['bys42a']='HoursofTVonWeekdays'\n",
    "var2names['bys42b']='HoursofTVonWeekends'\n",
    "var2names['bys43']='NumCigsSmokedPerDay'\n",
    "\n"
   ]
  },
  {
   "cell_type": "code",
   "execution_count": 617,
   "metadata": {},
   "outputs": [],
   "source": [
    "var2names['bys44a']='IFeelGoodAboutMyself'\n",
    "var2names['bys44b']='IDontHaveEnoughControlOverTheDirectionMyLifeIsTaking'\n",
    "var2names['bys44c']='In my life, good luck is more important than hard work for success'\n",
    "var2names['bys44d']='I feel I am a person of worth, the equal of other people'\n",
    "var2names['bys44e']='I am able to do things as well as most other people'\n",
    "var2names['bys44f']='Every time I try to get ahead, something or somebody stops me'\n",
    "var2names['bys44g']='My plans hardly ever work out, so planning only makes me unhappy'\n",
    "var2names['bys44h']='On the whole, I am satisfied with myself'\n",
    "var2names['bys44i']='I certainly feel useless at times'\n",
    "var2names['bys44j']='At times I think I am no good at all'\n",
    "var2names['bys44k']='When I make plans, I am almost certain I can make them work'\n",
    "var2names['bys44l']='I feel I do not have much to be proud of'\n",
    "var2names['bys44m']='Chance and luck are very important for what happens in my life'\n",
    "var2names['bys45']='As things stand now, how far in school do you think you will get?'\n",
    "var2names['bys46']='How sure are you that you will graduate from high school?'\n",
    "var2names['bys52']='What kind of work do you expect to be doing when you are 30 years old? '\n",
    "var2names['bys53']='numHoursWorkedPerWeek'\n",
    "var2names['bys54']='TypeOfWorkRespondentDoes'\n",
    "var2names['bys55a']='Freq: I was sent to the office because I was misbehaving'\n",
    "var2names['bys55b']='Freq: I was sent to the office because of problems with my school work'\n",
    "var2names['bys55c']='Freq: My parents received a warning about my attendance'\n",
    "var2names['bys55d']='Freq: My parents received a warning about my grades'\n",
    "var2names['bys55e']='Freq: My parents received a warning about my behavior'\n",
    "var2names['bys55f']='Freq: I got into a physical fight with another student'\n",
    "var2names['bys56a']='Other students in class see you as popular'\n",
    "var2names['bys56b']='Other students in class see you as athletic'\n",
    "var2names['bys56c']='Other students in class see you as a good student'\n",
    "var2names['bys56d']='Other students in class see you as important'\n",
    "var2names['bys56e']='Other students in class see you as a trouble-maker'\n",
    "var2names['bys58a']='Problem of Student Tardiness for School'\n",
    "var2names['bys58b']='Problem of Student absenteeism for School'\n",
    "var2names['bys58c']='Problem of Cutting Class for School'\n",
    "var2names['bys58d']='Prolbem of Student fights for School'\n",
    "var2names['bys58e']='Problem of robbery or theft'\n",
    "var2names['bys58f']='Problem of Vandalism of school prop'\n",
    "var2names['bys58g']='Prolbem of student alc use'\n",
    "var2names['bys58h']='problem of student drug use'\n",
    "var2names['bys58i']='problem of student possession of weapons'\n",
    "var2names['bys58j']='problem of physical abuse of teachers'\n",
    "var2names['bys58k']='problem of verbal abuse of teachers'\n",
    "var2names['bys59a']='Students get along well with teachers?'\n",
    "var2names['bys59b']='There is real school spirit?'\n",
    "var2names['bys59c']='Rules for behavior are strict?'\n",
    "var2names['bys59d']='Discipline is fair?'\n",
    "var2names['bys59e']='Other students often disrupt class?'\n",
    "var2names['bys59f']='The teaching is good?'\n",
    "var2names['bys59g']='Teachers are interested in students?'\n",
    "var2names['bys59h']='When I work hard on schoolwork, my teachers praise my effort?'\n",
    "var2names['bys59i']='In class I often feel put down by my teachers?'\n",
    "var2names['bys59j']='Most of my teachers really listen to what I have to say?'\n",
    "var2names['bys59k']='I dont feel safe at this school?'\n",
    "var2names['bys59l']='Disruptions by other students get in the way of my learning?'\n",
    "var2names['bys59m']='Misbehaving students often get away with it?'\n",
    "var2names['bys60a']='MathAbilityGroup'\n",
    "var2names['bys60b']='ScienceAbilityGroup'\n",
    "var2names['bys60c']='EnglishClassAbilityGroup'\n",
    "var2names['bys60d']='HistoryAbilityGroup'\n",
    "var2names['bys66a']='InAdvancedEnglish'\n",
    "var2names['bys66b']='InAdvancedHistory'\n",
    "var2names['bys66c']='InAdvancedScience'\n",
    "var2names['bys66d']='InAdvancedMath'\n",
    "var2names['bys68a']='InGT'\n",
    "var2names['bys74']='HeldBackAGrade'\n",
    "var2names['bys75']='NumDaysSchoolMissedOverLast4Wks'\n",
    "var2names['bys76']='freq of you cutting class'\n",
    "var2names['bys77']='numDaysTardyOverLast4Wks'\n",
    "var2names['bys80']='AmtAdditionalReadingPerWk'\n",
    "var2names['bys81a']='PastEnglishGrades'\n",
    "var2names['bys81b']='PastMathGrades'\n",
    "var2names['bys81c']='PastScienceGrades'\n",
    "var2names['bys81d']='PastHistoryGrades'"
   ]
  },
  {
   "cell_type": "code",
   "execution_count": 618,
   "metadata": {},
   "outputs": [],
   "source": [
    "var2names['bys82a']='Participated this year in science fairs'\n",
    "var2names['bys82b']='Participated this year in varsity sports'\n",
    "var2names['bys82c']='Participated this year in intramural sports'\n",
    "var2names['bys82d']='Participated this year in cheerleading'\n",
    "var2names['bys82e']='Participated this year in band or orchestra'\n",
    "var2names['bys82f']='Participated this year in chorus or choir'\n",
    "var2names['bys82g']='Participated this year in dance'\n",
    "var2names['bys82h']='Participated this year in history club'\n",
    "var2names['bys82i']='Participated this year in science club'\n",
    "var2names['bys82j']='Participated this year in math club'\n",
    "var2names['bys82k']='Participated this year in foreign lang club'\n",
    "var2names['bys82l']='Participated this year in some subject matter club'\n",
    "var2names['bys82m']='Participated this year in debate team'\n",
    "var2names['bys82n']='Participated this year in drama club'\n",
    "var2names['bys82o']='Participated this year in academic honors society'\n",
    "var2names['bys82p']='Participated this year in student newspaper'\n",
    "var2names['bys82q']='Participated this year in student yearbook'\n",
    "var2names['bys82r']='Participated this year in student council'\n",
    "var2names['bys82s']='Participated this year in computer club'\n",
    "var2names['bys82t']='Participated this year in religious organizations'\n",
    "var2names['bys82u']='Participated this year in vocational educational club'\n",
    "\n",
    "\n"
   ]
  },
  {
   "cell_type": "code",
   "execution_count": 619,
   "metadata": {},
   "outputs": [],
   "source": [
    "var2names['byscenrl']='School Size'\n",
    "var2names['g8urban']='Urbanicity'\n",
    "var2names['g8regon']='Region'\n",
    "var2names['g8minor']='% Minority in 8th grade'\n",
    "var2names['g8lunch']='% of School with Discounted Lunch'\n",
    "var2names['birthmo']='Birth Month'\n",
    "var2names['birthyr']='Birth Year'\n",
    "var2names['bylocus1']='Aggregate Measure of Control 1'\n",
    "var2names['bylocus2']='Aggregate Measure of Control 2'\n",
    "var2names['bycncpt1']='Aggregate Measure of Self Esteem 1'\n",
    "var2names['bycncpt2']='Aggregate Measure of Self Esteem 2'\n",
    "var2names['byses']='Socioeconomic Status Composite'\n",
    "var2names['bypared']='Parents\\' Highest Education Level from Stu and Par qx\\'s'\n",
    "var2names['byfcomp']='Family Composition Index'\n",
    "var2names['byparmar']='Parents\\' Marital Status'\n",
    "var2names['byfaminc']='Annual Family Income'\n",
    "var2names['byhmlang']='Language Used in Home'\n",
    "var2names['bypsepln']='Post Sec Edu Plans'\n",
    "var2names['byhomewk']='NumHrsSpentonHWperWk'\n",
    "var2names['bylep']='Limited English Proficiency Composite'\n",
    "var2names['bylm']='Language Minority Composite'\n",
    "var2names['bygrads']='Overall Academic Performance Composite'\n",
    "var2names['by2xrpro']='Relative reading proficiency level'\n",
    "var2names['by2xmpro']='Relative math proficiency level'\n",
    "var2names['by2xspro']='Relative science proficiency level'\n",
    "var2names['byrisk']='Num Risk Factors of Dropping Out'\n"
   ]
  },
  {
   "cell_type": "code",
   "execution_count": 620,
   "metadata": {},
   "outputs": [],
   "source": [
    "var2names['f1s8a']='I have not won any awards or received recognition'\n",
    "var2names['f1s8b']='Elected officer of a school class'\n",
    "var2names['f1s8c']='Won an academic honor'\n",
    "var2names['f1s8d']='Participated in a science or math fair'\n",
    "var2names['f1s8e']='Received special recognition for good attendance'\n",
    "var2names['f1s8f']='Received special recognition for good grades or honor roll'\n",
    "var2names['f1s8g']='Received special recognition for writing an essay or poem'\n",
    "var2names['f1s8h']='Named most valuable player on a sports team'\n",
    "var2names['f1s8i']='Received a community service award'\n",
    "var2names['f1s8j']='Participated in vocational/technical skills competition'\n",
    "var2names['f1s10a']='Num Times Late for School in first 1/2 of year'\n",
    "var2names['f1s10b']='Num Times I cut class in first 1/2 of year'\n",
    "var2names['f1s10c']='Num Times I got in trouble in first 1/2 of year'\n",
    "var2names['f1s10d']='Num Times I got in school suspension in first 1/2 of year'\n",
    "var2names['f1s10e']='Num Times suspended in first 1/2 of year'\n",
    "var2names['f1s10f']='Num Times transferred to another school for displinary reasons in first 1/2 of year'\n",
    "var2names['f1s10g']='Num Times I was arrested in first 1/2 of year'\n",
    "var2names['f1s17']='num years til hs grad'\n",
    "var2names['f1s18a']='confidence of hs grad'\n",
    "var2names['f1s18b']='confidence of pursuing post hs education'\n",
    "var2names['f1s34a']='taken remedial english?'\n",
    "var2names['f1s34b']='taken remedial math?'\n",
    "var2names['f1s34c']='been in a billingual program'\n",
    "var2names['f1s34d']='ESL?'\n",
    "var2names['f1s34e']='been in an AP class?'\n",
    "var2names['f1s34f']='been in program for educational handicap'\n",
    "var2names['f1s34g']='been in program for physical handicap'\n",
    "var2names['f1s34h']='been in a dropout prevention program'\n",
    "var2names['f1s39a']='math grades in hs'\n",
    "var2names['f1s39b']='english grades in hs'\n",
    "var2names['f1s39c']='history grades in hs'\n",
    "var2names['f1s39d']='science grades in hs'\n",
    "var2names['f1s49']='How far in school do you think you will get?'\n",
    "var2names['f1s50a']='PSAT taken or will take'\n",
    "var2names['f1s50b']='SAT taken or will take'\n",
    "var2names['f1s50c']='ACT taken or will take'\n",
    "var2names['f1s50d']='AP test taken or will take'\n",
    "var2names['f1s50e']='ASVAB taken or will take'\n",
    "var2names['f1s50f']='PACT taken or will take'\n",
    "var2names['f1s51']='Plan to go to college after HS?'\n",
    "var2names['f1s53a']='occupation you expect to have after hs'\n",
    "var2names['f1s53b']='occupation you expect to have at 30'\n",
    "var2names['f1s62a']='2: I feel good about myself'\n",
    "var2names['f1s62b']='2: I dont have enough control over the direction my life is taking'\n",
    "var2names['f1s62c']='2: In my life, good luck is more important than hard work for success'\n",
    "var2names['f1s62d']='2: I feel I am a person of worth, the equal of other people'\n",
    "var2names['f1s62e']='2: I am able to do things as well as most other people'\n",
    "var2names['f1s62f']='2: Every time I try to get ahead, something or somebody stops me'\n",
    "var2names['f1s62g']='2: My plans hardly ever work out, so planning only makes me unhappy'\n",
    "var2names['f1s62h']='2: On the whole, I am satisfied with myself'\n",
    "var2names['f1s62i']='2: I feel useless at times'\n",
    "var2names['f1s62j']='2: At times, I think I am no good at all'\n",
    "var2names['f1s62k']='2: When I make plans, I am almost certain I can make them work'\n",
    "var2names['f1s62l']='2: I feel I do not have much to be proud of'\n",
    "var2names['f1s62m']='2: Chance and luck are very important for what happens in my life'\n",
    "var2names['f1s62n']='2: I feel emotionally empty most of the time'\n",
    "var2names['f1s64a']='chances you will grad from hs?'\n",
    "var2names['f1s64b']='chances you will go to college?'\n",
    "var2names['f1s64c']='chances you will have a job that pays well'\n",
    "var2names['f1s64d']='chances you will own your own home'\n",
    "var2names['f1s64e']='chances you will have a job you enjoy'\n",
    "var2names['f1s64f']='chances you will have a happy family life'\n",
    "var2names['f1s64g']='chances you will usually be in good health'\n",
    "var2names['f1s64h']='chances you will be able to live whereve you want'\n",
    "var2names['f1s64i']='chances you will be respected in your community'\n",
    "var2names['f1s64j']='chances you will have good friends'\n",
    "var2names['f1s64k']='chances your life will turn out better than your parents\\'s'\n",
    "var2names['f1s64l']='chances your children will have better life than you did'\n",
    "var2names['f1s76']='num children'\n",
    "var2names['f1s77']='num cigs you smoke a day'\n",
    "var2names['f1s78a']='num times you\\'ve drank alc in lifetime'\n",
    "\n",
    "\n",
    "\n",
    "\n",
    "\n",
    "\n",
    "\n",
    "\n",
    "\n",
    "\n",
    "\n",
    "\n",
    "\n",
    "\n",
    "\n",
    "\n",
    "\n",
    "\n"
   ]
  },
  {
   "cell_type": "code",
   "execution_count": 621,
   "metadata": {},
   "outputs": [],
   "source": [
    "var2names['bys39a']='My parents trust me to do what they expect without checking up on me'\n",
    "var2names['bys39b']='I often do not know WHY I am supposed to do what my parents tell me to do'\n",
    "var2names['bys39c']='I often count on my parents to solve many of my problems for me'\n",
    "#dropping bys 57a,b and c since other attributes give the same info\n",
    "#dropping bys 68b as it's a repeat question\n",
    "#dropping bys 83 as it gives similar information that other questions provide answers to\n",
    "var2names['byfamsiz']='Family Size'\n",
    "var2names['by2xrstd']='Reading Standardized Score'\n",
    "var2names['by2xmstd']='Math Standardized Score'\n",
    "var2names['by2xsstd']='Science Standardized Score'\n",
    "var2names['by2xhstd']='History Standardized Score'\n",
    "#dropping f1s20,33,43,74,75 .. I'm not interested in these variables\n",
    "drop = ['bys57a','bys57b','bys57c','bys68b','bys83a','bys83b','bys83c','bys83d','bys83e','bys83f','bys83g','bys83h','bys83i','bys83j','f1s20','f1s33','f1s43','f1s74','f1s75']\n",
    "data.drop(labels=drop,axis=1,inplace=True)"
   ]
  },
  {
   "cell_type": "code",
   "execution_count": 622,
   "metadata": {},
   "outputs": [],
   "source": [
    "#re format attribute names so that statsmodels doesn't freak out\n",
    "for item in var2names.items():\n",
    "    var = item[0]\n",
    "    descr = item[1];\n",
    "    var2names[var]=(descr.replace(\" \",\"\").replace(\"?\",\"\").replace(\"\\'\",\"\").replace(\"%\",\"percent\").replace(\"\\\\\",\"\").replace(\":\",\"of\").replace(\",\",\"\"))"
   ]
  },
  {
   "cell_type": "code",
   "execution_count": 623,
   "metadata": {},
   "outputs": [
    {
     "data": {
      "text/html": [
       "<div>\n",
       "<style scoped>\n",
       "    .dataframe tbody tr th:only-of-type {\n",
       "        vertical-align: middle;\n",
       "    }\n",
       "\n",
       "    .dataframe tbody tr th {\n",
       "        vertical-align: top;\n",
       "    }\n",
       "\n",
       "    .dataframe thead th {\n",
       "        text-align: right;\n",
       "    }\n",
       "</style>\n",
       "<table border=\"1\" class=\"dataframe\">\n",
       "  <thead>\n",
       "    <tr style=\"text-align: right;\">\n",
       "      <th></th>\n",
       "      <th>FemGuardianLiving</th>\n",
       "      <th>MaleGaurdianLiving</th>\n",
       "      <th>FemGaurdianEmploymentStatus</th>\n",
       "      <th>MaleGaurdianEmploymentStatus</th>\n",
       "      <th>FemGaurdianOccupation</th>\n",
       "      <th>MaleGuardianOccupation</th>\n",
       "      <th>RespondentSex</th>\n",
       "      <th>FirstLanguageLearned</th>\n",
       "      <th>LanguageUsuallySpokenNow</th>\n",
       "      <th>LanguageSpokeninHome</th>\n",
       "      <th>...</th>\n",
       "      <th>numcigsyousmokeaday</th>\n",
       "      <th>numtimesyouvedrankalcinlifetime</th>\n",
       "      <th>Myparentstrustmetodowhattheyexpectwithoutcheckinguponme</th>\n",
       "      <th>IoftendonotknowWHYIamsupposedtodowhatmyparentstellmetodo</th>\n",
       "      <th>Ioftencountonmyparentstosolvemanyofmyproblemsforme</th>\n",
       "      <th>FamilySize</th>\n",
       "      <th>ReadingStandardizedScore</th>\n",
       "      <th>MathStandardizedScore</th>\n",
       "      <th>ScienceStandardizedScore</th>\n",
       "      <th>HistoryStandardizedScore</th>\n",
       "    </tr>\n",
       "    <tr>\n",
       "      <th>id</th>\n",
       "      <th></th>\n",
       "      <th></th>\n",
       "      <th></th>\n",
       "      <th></th>\n",
       "      <th></th>\n",
       "      <th></th>\n",
       "      <th></th>\n",
       "      <th></th>\n",
       "      <th></th>\n",
       "      <th></th>\n",
       "      <th></th>\n",
       "      <th></th>\n",
       "      <th></th>\n",
       "      <th></th>\n",
       "      <th></th>\n",
       "      <th></th>\n",
       "      <th></th>\n",
       "      <th></th>\n",
       "      <th></th>\n",
       "      <th></th>\n",
       "      <th></th>\n",
       "    </tr>\n",
       "  </thead>\n",
       "  <tbody>\n",
       "    <tr>\n",
       "      <td>124966</td>\n",
       "      <td>1</td>\n",
       "      <td>1</td>\n",
       "      <td>15</td>\n",
       "      <td>1</td>\n",
       "      <td>2</td>\n",
       "      <td>2</td>\n",
       "      <td>2</td>\n",
       "      <td>1</td>\n",
       "      <td>1</td>\n",
       "      <td>1</td>\n",
       "      <td>...</td>\n",
       "      <td>4.0</td>\n",
       "      <td>4.0</td>\n",
       "      <td>4.0</td>\n",
       "      <td>4.0</td>\n",
       "      <td>4.0</td>\n",
       "      <td>5.0</td>\n",
       "      <td>8.0</td>\n",
       "      <td>2.0</td>\n",
       "      <td>0.0</td>\n",
       "      <td>3.0</td>\n",
       "    </tr>\n",
       "    <tr>\n",
       "      <td>124968</td>\n",
       "      <td>8</td>\n",
       "      <td>1</td>\n",
       "      <td>1</td>\n",
       "      <td>1</td>\n",
       "      <td>1</td>\n",
       "      <td>8</td>\n",
       "      <td>1</td>\n",
       "      <td>99</td>\n",
       "      <td>1</td>\n",
       "      <td>99</td>\n",
       "      <td>...</td>\n",
       "      <td>4.0</td>\n",
       "      <td>4.0</td>\n",
       "      <td>3.0</td>\n",
       "      <td>4.0</td>\n",
       "      <td>4.0</td>\n",
       "      <td>3.0</td>\n",
       "      <td>3.0</td>\n",
       "      <td>2.0</td>\n",
       "      <td>0.0</td>\n",
       "      <td>2.0</td>\n",
       "    </tr>\n",
       "    <tr>\n",
       "      <td>124972</td>\n",
       "      <td>1</td>\n",
       "      <td>1</td>\n",
       "      <td>1</td>\n",
       "      <td>1</td>\n",
       "      <td>1</td>\n",
       "      <td>12</td>\n",
       "      <td>1</td>\n",
       "      <td>99</td>\n",
       "      <td>1</td>\n",
       "      <td>99</td>\n",
       "      <td>...</td>\n",
       "      <td>4.0</td>\n",
       "      <td>4.0</td>\n",
       "      <td>4.0</td>\n",
       "      <td>4.0</td>\n",
       "      <td>4.0</td>\n",
       "      <td>4.0</td>\n",
       "      <td>4.0</td>\n",
       "      <td>2.0</td>\n",
       "      <td>0.0</td>\n",
       "      <td>2.0</td>\n",
       "    </tr>\n",
       "    <tr>\n",
       "      <td>124999</td>\n",
       "      <td>1</td>\n",
       "      <td>1</td>\n",
       "      <td>15</td>\n",
       "      <td>1</td>\n",
       "      <td>1</td>\n",
       "      <td>5</td>\n",
       "      <td>1</td>\n",
       "      <td>99</td>\n",
       "      <td>1</td>\n",
       "      <td>99</td>\n",
       "      <td>...</td>\n",
       "      <td>4.0</td>\n",
       "      <td>4.0</td>\n",
       "      <td>4.0</td>\n",
       "      <td>4.0</td>\n",
       "      <td>4.0</td>\n",
       "      <td>4.0</td>\n",
       "      <td>4.0</td>\n",
       "      <td>2.0</td>\n",
       "      <td>0.0</td>\n",
       "      <td>3.0</td>\n",
       "    </tr>\n",
       "    <tr>\n",
       "      <td>175551</td>\n",
       "      <td>1</td>\n",
       "      <td>1</td>\n",
       "      <td>1</td>\n",
       "      <td>1</td>\n",
       "      <td>1</td>\n",
       "      <td>6</td>\n",
       "      <td>2</td>\n",
       "      <td>99</td>\n",
       "      <td>1</td>\n",
       "      <td>99</td>\n",
       "      <td>...</td>\n",
       "      <td>3.0</td>\n",
       "      <td>3.0</td>\n",
       "      <td>3.0</td>\n",
       "      <td>3.0</td>\n",
       "      <td>3.0</td>\n",
       "      <td>3.0</td>\n",
       "      <td>3.0</td>\n",
       "      <td>2.0</td>\n",
       "      <td>0.0</td>\n",
       "      <td>0.0</td>\n",
       "    </tr>\n",
       "  </tbody>\n",
       "</table>\n",
       "<p>5 rows × 236 columns</p>\n",
       "</div>"
      ],
      "text/plain": [
       "        FemGuardianLiving  MaleGaurdianLiving  FemGaurdianEmploymentStatus  \\\n",
       "id                                                                           \n",
       "124966                  1                   1                           15   \n",
       "124968                  8                   1                            1   \n",
       "124972                  1                   1                            1   \n",
       "124999                  1                   1                           15   \n",
       "175551                  1                   1                            1   \n",
       "\n",
       "        MaleGaurdianEmploymentStatus  FemGaurdianOccupation  \\\n",
       "id                                                            \n",
       "124966                             1                      2   \n",
       "124968                             1                      1   \n",
       "124972                             1                      1   \n",
       "124999                             1                      1   \n",
       "175551                             1                      1   \n",
       "\n",
       "        MaleGuardianOccupation  RespondentSex  FirstLanguageLearned  \\\n",
       "id                                                                    \n",
       "124966                       2              2                     1   \n",
       "124968                       8              1                    99   \n",
       "124972                      12              1                    99   \n",
       "124999                       5              1                    99   \n",
       "175551                       6              2                    99   \n",
       "\n",
       "        LanguageUsuallySpokenNow  LanguageSpokeninHome  ...  \\\n",
       "id                                                      ...   \n",
       "124966                         1                     1  ...   \n",
       "124968                         1                    99  ...   \n",
       "124972                         1                    99  ...   \n",
       "124999                         1                    99  ...   \n",
       "175551                         1                    99  ...   \n",
       "\n",
       "        numcigsyousmokeaday  numtimesyouvedrankalcinlifetime  \\\n",
       "id                                                             \n",
       "124966                  4.0                              4.0   \n",
       "124968                  4.0                              4.0   \n",
       "124972                  4.0                              4.0   \n",
       "124999                  4.0                              4.0   \n",
       "175551                  3.0                              3.0   \n",
       "\n",
       "        Myparentstrustmetodowhattheyexpectwithoutcheckinguponme  \\\n",
       "id                                                                \n",
       "124966                                                4.0         \n",
       "124968                                                3.0         \n",
       "124972                                                4.0         \n",
       "124999                                                4.0         \n",
       "175551                                                3.0         \n",
       "\n",
       "        IoftendonotknowWHYIamsupposedtodowhatmyparentstellmetodo  \\\n",
       "id                                                                 \n",
       "124966                                                4.0          \n",
       "124968                                                4.0          \n",
       "124972                                                4.0          \n",
       "124999                                                4.0          \n",
       "175551                                                3.0          \n",
       "\n",
       "        Ioftencountonmyparentstosolvemanyofmyproblemsforme  FamilySize  \\\n",
       "id                                                                       \n",
       "124966                                                4.0          5.0   \n",
       "124968                                                4.0          3.0   \n",
       "124972                                                4.0          4.0   \n",
       "124999                                                4.0          4.0   \n",
       "175551                                                3.0          3.0   \n",
       "\n",
       "        ReadingStandardizedScore  MathStandardizedScore  \\\n",
       "id                                                        \n",
       "124966                       8.0                    2.0   \n",
       "124968                       3.0                    2.0   \n",
       "124972                       4.0                    2.0   \n",
       "124999                       4.0                    2.0   \n",
       "175551                       3.0                    2.0   \n",
       "\n",
       "        ScienceStandardizedScore  HistoryStandardizedScore  \n",
       "id                                                          \n",
       "124966                       0.0                       3.0  \n",
       "124968                       0.0                       2.0  \n",
       "124972                       0.0                       2.0  \n",
       "124999                       0.0                       3.0  \n",
       "175551                       0.0                       0.0  \n",
       "\n",
       "[5 rows x 236 columns]"
      ]
     },
     "execution_count": 623,
     "metadata": {},
     "output_type": "execute_result"
    }
   ],
   "source": [
    "#update column names\n",
    "newCols=[]\n",
    "\n",
    "for item in var2names.items():\n",
    "    rename = item[1];\n",
    "    newCols.append(rename)\n",
    "data.columns=newCols\n",
    "data.head()\n",
    "    "
   ]
  },
  {
   "cell_type": "code",
   "execution_count": 298,
   "metadata": {},
   "outputs": [
    {
     "data": {
      "text/plain": [
       "34"
      ]
     },
     "execution_count": 298,
     "metadata": {},
     "output_type": "execute_result"
    }
   ],
   "source": [
    "causal_vars = ['FemGaurdianOccupation','MaleGuardianOccupation','LanguageSpokeninHome','Race','FathersEducation','MothersEducation','StudyPlaceinHome','numcigsyousmokeaday','numtimesyouvedrankalcinlifetime',\n",
    "'SocioeconomicStatusComposite',\n",
    "'ParentsHighestEducationLevelfromStuandParqxs',\n",
    "'ParentsMaritalStatus',\n",
    "'AnnualFamilyIncome',\n",
    "'Urbanicity',\n",
    "'Region',\n",
    "'percentMinorityin8thgrade',\n",
    "'percentofSchoolwithDiscountedLunch',\n",
    "'Theteachingisgood',\n",
    "'Teachersareinterestedinstudents',\n",
    "'WhenIworkhardonschoolworkmyteacherspraisemyeffort',\n",
    "'InclassIoftenfeelputdownbymyteachers',\n",
    "'MostofmyteachersreallylistentowhatIhavetosay',\n",
    "'Idontfeelsafeatthisschool',\n",
    "'Disruptionsbyotherstudentsgetinthewayofmylearning',\n",
    "'Prolbemofstudentalcuse',\n",
    "'problemofstudentdruguse',\n",
    "'LimitOnTvTime',\n",
    "'LimitOnTimeWithFriends',\n",
    "'TimeSpentAtHomeAfterSchoolWithoutAdult',\n",
    "'AskedIfHomeworkDone',\n",
    "'AskedToDoChores',\n",
    "'NumTimesDiscussedCourseMaterialWithGuardians',\n",
    "'GuardiansAttendedSchoolMeeting',\n",
    "'GuardiansSpokenToSchool']\n",
    "len(causal_vars)"
   ]
  },
  {
   "cell_type": "code",
   "execution_count": 299,
   "metadata": {},
   "outputs": [
    {
     "data": {
      "text/plain": [
       "['Asthingsstandnowhowfarinschooldoyouthinkyouwillget',\n",
       " 'Whatkindofworkdoyouexpecttobedoingwhenyouare30yearsold',\n",
       " 'Howsureareyouthatyouwillgraduatefromhighschool',\n",
       " 'MathAbilityGroup',\n",
       " 'ScienceAbilityGroup',\n",
       " 'EnglishClassAbilityGroup',\n",
       " 'HistoryAbilityGroup',\n",
       " 'AggregateMeasureofControl1',\n",
       " 'AggregateMeasureofControl2',\n",
       " 'AggregateMeasureofSelfEsteem1',\n",
       " 'AggregateMeasureofSelfEsteem2',\n",
       " 'OverallAcademicPerformanceComposite',\n",
       " 'RelativereadingproficiencylevelRelativemathproficiencylevel',\n",
       " 'Relativescienceproficiencylevel',\n",
       " 'mathgradesinhs',\n",
       " 'englishgradesinhs',\n",
       " 'historygradesinhs',\n",
       " 'sciencegradesinhs',\n",
       " 'ReadingStandardizedScore',\n",
       " 'MathStandardizedScore',\n",
       " 'ScienceStandardizedScore',\n",
       " 'HistoryStandardizedScore']"
      ]
     },
     "execution_count": 299,
     "metadata": {},
     "output_type": "execute_result"
    }
   ],
   "source": [
    "stu_outcomeVars"
   ]
  },
  {
   "cell_type": "code",
   "execution_count": 624,
   "metadata": {},
   "outputs": [],
   "source": [
    "tier1 = ['Race','FathersEducation','MothersEducation']\n",
    "\n",
    "tier2 = ['FemGaurdianOccupation','MaleGuardianOccupation']\n",
    "\n",
    "tier3 = ['AnnualFamilyIncome']\n",
    "\n",
    "tier4 = ['SocioeconomicStatusComposite','Urbanicity','Region']\n",
    "\n",
    "tier5 = ['TimeSpentAtHomeAfterSchoolWithoutAdult','AskedIfHomeworkDone','AskedToDoChores',\n",
    "         'NumTimesDiscussedCourseMaterialWithGuardians','GuardiansAttendedSchoolMeeting',\n",
    "         'GuardiansSpokenToSchool','LimitOnTvTime','percentMinorityin8thgrade',\n",
    "         'Theteachingisgood','percentofSchoolwithDiscountedLunch',\n",
    "         'Prolbemofstudentalcuse','problemofstudentdruguse','LimitOnTimeWithFriends']\n",
    "\n",
    "tier6 = ['numtimesyouvedrankalcinlifetime','numcigsyousmokeaday']\n",
    "\n",
    "tier7 = ['MathAbilityGroup','ScienceAbilityGroup','EnglishClassAbilityGroup',\n",
    "         'HistoryAbilityGroup','PastScienceGrades','PastHistoryGrades', 'HistoryStandardizedScore',\n",
    "         'ReadingStandardizedScore','Relativereadingproficiencylevel']\n",
    "\n",
    "tier8 = [ 'Whatkindofworkdoyouexpecttobedoingwhenyouare30yearsold','AggregateMeasureofControl1',\n",
    "         'Asthingsstandnowhowfarinschooldoyouthinkyouwillget','Howsureareyouthatyouwillgraduatefromhighschool']\n",
    "\n",
    "\n",
    "\n",
    "\n",
    "\n",
    "tiers = [tier1,tier2,tier3,tier4,tier5,tier6,tier7,tier8]"
   ]
  },
  {
   "cell_type": "code",
   "execution_count": 779,
   "metadata": {},
   "outputs": [
    {
     "data": {
      "text/plain": [
       "['Race',\n",
       " 'FathersEducation',\n",
       " 'MothersEducation',\n",
       " 'FemGaurdianOccupation',\n",
       " 'MaleGuardianOccupation',\n",
       " 'AnnualFamilyIncome',\n",
       " 'SocioeconomicStatusComposite',\n",
       " 'Urbanicity',\n",
       " 'Region',\n",
       " 'TimeSpentAtHomeAfterSchoolWithoutAdult',\n",
       " 'AskedIfHomeworkDone',\n",
       " 'AskedToDoChores',\n",
       " 'NumTimesDiscussedCourseMaterialWithGuardians',\n",
       " 'GuardiansAttendedSchoolMeeting',\n",
       " 'GuardiansSpokenToSchool',\n",
       " 'LimitOnTvTime',\n",
       " 'percentMinorityin8thgrade',\n",
       " 'Theteachingisgood',\n",
       " 'percentofSchoolwithDiscountedLunch',\n",
       " 'Prolbemofstudentalcuse',\n",
       " 'problemofstudentdruguse',\n",
       " 'LimitOnTimeWithFriends',\n",
       " 'numtimesyouvedrankalcinlifetime',\n",
       " 'numcigsyousmokeaday',\n",
       " 'MathAbilityGroup',\n",
       " 'ScienceAbilityGroup',\n",
       " 'EnglishClassAbilityGroup',\n",
       " 'HistoryAbilityGroup',\n",
       " 'PastScienceGrades',\n",
       " 'PastHistoryGrades',\n",
       " 'HistoryStandardizedScore',\n",
       " 'ReadingStandardizedScore',\n",
       " 'Relativereadingproficiencylevel',\n",
       " 'Whatkindofworkdoyouexpecttobedoingwhenyouare30yearsold',\n",
       " 'AggregateMeasureofControl1',\n",
       " 'Asthingsstandnowhowfarinschooldoyouthinkyouwillget',\n",
       " 'Howsureareyouthatyouwillgraduatefromhighschool']"
      ]
     },
     "execution_count": 779,
     "metadata": {},
     "output_type": "execute_result"
    }
   ],
   "source": [
    "tier1+tier2+tier3+tier4+tier5+tier6+tier7+tier8"
   ]
  },
  {
   "cell_type": "code",
   "execution_count": 625,
   "metadata": {},
   "outputs": [],
   "source": [
    "#which columns are missing .. attribute describes the information in the col now\n",
    "counts=data.describe().loc['count']"
   ]
  },
  {
   "cell_type": "code",
   "execution_count": 626,
   "metadata": {},
   "outputs": [],
   "source": [
    "boolS=counts == 2000"
   ]
  },
  {
   "cell_type": "code",
   "execution_count": 627,
   "metadata": {},
   "outputs": [],
   "source": [
    "missingDataCols=[]\n",
    "for i in range(len(boolS)):\n",
    "    if boolS[i]==False and (data.columns[i] in tier1 or data.columns[i] in tier2 or data.columns[i] in tier3 or data.columns[i] in tier4 or data.columns[i] in tier5 or data.columns[i] in tier6 or data.columns[i] in tier7 or data.columns[i] in tier8):\n",
    "        missingDataCols.append(data.columns[i])"
   ]
  },
  {
   "cell_type": "code",
   "execution_count": 628,
   "metadata": {},
   "outputs": [
    {
     "data": {
      "text/plain": [
       "['PastScienceGrades',\n",
       " 'numcigsyousmokeaday',\n",
       " 'numtimesyouvedrankalcinlifetime',\n",
       " 'ReadingStandardizedScore',\n",
       " 'HistoryStandardizedScore']"
      ]
     },
     "execution_count": 628,
     "metadata": {},
     "output_type": "execute_result"
    }
   ],
   "source": [
    "missingDataCols"
   ]
  },
  {
   "cell_type": "code",
   "execution_count": 629,
   "metadata": {},
   "outputs": [],
   "source": [
    "# In the data itself, missing responses, refusal to answer questions are encoded into the data with corresponding values\n",
    "#not being in the sample itself corresponds to actual blank data. After manual inspection of my data, the nan\n",
    "# in the data df correspond to the blank data in the original csv file which is a random process. Drop these rows is a valid option."
   ]
  },
  {
   "cell_type": "code",
   "execution_count": 630,
   "metadata": {},
   "outputs": [
    {
     "data": {
      "text/plain": [
       "[644255,\n",
       " 723974,\n",
       " 735728,\n",
       " 743887,\n",
       " 747405,\n",
       " 747427,\n",
       " 789355,\n",
       " 2418411,\n",
       " 2418467,\n",
       " 2440846,\n",
       " 2455161,\n",
       " 2460055,\n",
       " 2460058,\n",
       " 2460091,\n",
       " 2460094,\n",
       " 2468059,\n",
       " 2504495,\n",
       " 2506729,\n",
       " 2527076,\n",
       " 2528020,\n",
       " 2528056,\n",
       " 2528080,\n",
       " 2529507,\n",
       " 2540499,\n",
       " 2546449,\n",
       " 2552021,\n",
       " 2554555,\n",
       " 2566770,\n",
       " 2583643,\n",
       " 2583694,\n",
       " 2998019,\n",
       " 4516441,\n",
       " 4519048,\n",
       " 4544125,\n",
       " 4544135,\n",
       " 4544609,\n",
       " 4545250,\n",
       " 4547668,\n",
       " 4557697,\n",
       " 4567817,\n",
       " 4567892,\n",
       " 4575419,\n",
       " 4576808,\n",
       " 4576888,\n",
       " 4576889,\n",
       " 4578643,\n",
       " 4578675,\n",
       " 4598192,\n",
       " 6803073,\n",
       " 6804859,\n",
       " 6804867,\n",
       " 6807191,\n",
       " 6815027,\n",
       " 6815043,\n",
       " 6815091,\n",
       " 6837487,\n",
       " 6844102,\n",
       " 6844105,\n",
       " 6844978,\n",
       " 6849439,\n",
       " 6864151,\n",
       " 6865120,\n",
       " 6869617,\n",
       " 6869626,\n",
       " 6873242,\n",
       " 6883078,\n",
       " 6888919,\n",
       " 6888950,\n",
       " 6888982,\n",
       " 6889227,\n",
       " 6890492,\n",
       " 6896932,\n",
       " 6968301,\n",
       " 7081781,\n",
       " 7208402,\n",
       " 7211532,\n",
       " 7214009,\n",
       " 7217934,\n",
       " 7217986,\n",
       " 7221823,\n",
       " 7260855,\n",
       " 7261284,\n",
       " 7281308,\n",
       " 7299034,\n",
       " 7722240,\n",
       " 7736998,\n",
       " 7740024,\n",
       " 7745333,\n",
       " 7864925,\n",
       " 7908630,\n",
       " 233540,\n",
       " 298826,\n",
       " 604402,\n",
       " 701178,\n",
       " 704250,\n",
       " 704802,\n",
       " 709015,\n",
       " 713315,\n",
       " 723096,\n",
       " 729816,\n",
       " 729849,\n",
       " 731450,\n",
       " 732072,\n",
       " 733019,\n",
       " 733394,\n",
       " 736947,\n",
       " 739596,\n",
       " 743494,\n",
       " 743883,\n",
       " 746518,\n",
       " 766923,\n",
       " 772551,\n",
       " 772575,\n",
       " 777890,\n",
       " 780367,\n",
       " 782962,\n",
       " 786008,\n",
       " 788266,\n",
       " 794111,\n",
       " 797913,\n",
       " 797970,\n",
       " 808877,\n",
       " 839903,\n",
       " 1419246,\n",
       " 2408308,\n",
       " 2416301,\n",
       " 2416304,\n",
       " 2422552,\n",
       " 2432350,\n",
       " 2437636,\n",
       " 2439429,\n",
       " 2457157,\n",
       " 2480101,\n",
       " 2485659,\n",
       " 2497090,\n",
       " 2499836,\n",
       " 2499879,\n",
       " 2500820,\n",
       " 2505105,\n",
       " 2509529,\n",
       " 2512252,\n",
       " 2514217,\n",
       " 2532100,\n",
       " 2532142,\n",
       " 2532802,\n",
       " 2536426,\n",
       " 2542574,\n",
       " 2543470,\n",
       " 2545078,\n",
       " 2546997,\n",
       " 2561806,\n",
       " 2570251,\n",
       " 2576513,\n",
       " 2584837,\n",
       " 4505770,\n",
       " 4506402,\n",
       " 4526858,\n",
       " 4530149,\n",
       " 4532081,\n",
       " 4536678,\n",
       " 4538570,\n",
       " 4542324,\n",
       " 4542328,\n",
       " 4543439,\n",
       " 4545509,\n",
       " 4547699,\n",
       " 4561545,\n",
       " 4570063,\n",
       " 4582074,\n",
       " 4583063,\n",
       " 4591064,\n",
       " 4596783,\n",
       " 4599469,\n",
       " 5412743,\n",
       " 5776756,\n",
       " 6256697,\n",
       " 6282175,\n",
       " 6807172,\n",
       " 6808604,\n",
       " 6815051,\n",
       " 6816085,\n",
       " 6820577,\n",
       " 6828182,\n",
       " 6831684,\n",
       " 6832874,\n",
       " 6834022,\n",
       " 6839133,\n",
       " 6842723,\n",
       " 6843100,\n",
       " 6844194,\n",
       " 6844868,\n",
       " 6848675,\n",
       " 6852332,\n",
       " 6854225,\n",
       " 6857780,\n",
       " 6865113,\n",
       " 6866204,\n",
       " 6871830,\n",
       " 6872799,\n",
       " 6874876,\n",
       " 6879753,\n",
       " 6884085,\n",
       " 6885589,\n",
       " 6896913,\n",
       " 7007099,\n",
       " 7084018,\n",
       " 7202669,\n",
       " 7206514,\n",
       " 7207575,\n",
       " 7207588,\n",
       " 7208104,\n",
       " 7208461,\n",
       " 7208480,\n",
       " 7210847,\n",
       " 7212934,\n",
       " 7213305,\n",
       " 7213361,\n",
       " 7229703,\n",
       " 7230090,\n",
       " 7248775,\n",
       " 7255714,\n",
       " 7261213,\n",
       " 7261777,\n",
       " 7275639,\n",
       " 7279944,\n",
       " 7281057,\n",
       " 7295612,\n",
       " 7299157,\n",
       " 7299196,\n",
       " 7706986,\n",
       " 7717083,\n",
       " 7717810,\n",
       " 7717857,\n",
       " 7722211,\n",
       " 7728584,\n",
       " 7728593,\n",
       " 7730414,\n",
       " 7736584,\n",
       " 7753764,\n",
       " 7755217,\n",
       " 7757153,\n",
       " 7763095,\n",
       " 7767333,\n",
       " 7780774,\n",
       " 7784295,\n",
       " 7786561,\n",
       " 7794997,\n",
       " 7806157,\n",
       " 7833016,\n",
       " 7850891,\n",
       " 7854473,\n",
       " 7898428,\n",
       " 7899007,\n",
       " 7899021,\n",
       " 8455135,\n",
       " 8483102,\n",
       " 8483126,\n",
       " 9199176]"
      ]
     },
     "execution_count": 630,
     "metadata": {},
     "output_type": "execute_result"
    }
   ],
   "source": [
    "missingRowIds=[]\n",
    "for col in missingDataCols:\n",
    "    tempIds=data.index[data[col].isnull()==True].tolist();\n",
    "    for _id in tempIds:\n",
    "        if _id not in missingRowIds:\n",
    "            missingRowIds.append(_id);\n",
    "missingRowIds"
   ]
  },
  {
   "cell_type": "code",
   "execution_count": 631,
   "metadata": {},
   "outputs": [
    {
     "data": {
      "text/plain": [
       "258"
      ]
     },
     "execution_count": 631,
     "metadata": {},
     "output_type": "execute_result"
    }
   ],
   "source": [
    "len(missingRowIds) # 258 rows to drop out of 2001"
   ]
  },
  {
   "cell_type": "code",
   "execution_count": 632,
   "metadata": {},
   "outputs": [],
   "source": [
    "data.drop(index=missingRowIds,inplace=True)"
   ]
  },
  {
   "cell_type": "code",
   "execution_count": 633,
   "metadata": {},
   "outputs": [
    {
     "data": {
      "text/plain": [
       "(1742, 236)"
      ]
     },
     "execution_count": 633,
     "metadata": {},
     "output_type": "execute_result"
    }
   ],
   "source": [
    "data.shape"
   ]
  },
  {
   "cell_type": "code",
   "execution_count": 634,
   "metadata": {},
   "outputs": [],
   "source": [
    "could_be_disc= []\n",
    "for var in tier1:\n",
    "    if (data[var]%1!=0).sum()==0:\n",
    "        could_be_disc.append(var)\n",
    "for var in tier2:\n",
    "    if (data[var]%1!=0).sum()==0:\n",
    "        could_be_disc.append(var)\n",
    "for var in tier3:\n",
    "    if (data[var]%1!=0).sum()==0:\n",
    "        could_be_disc.append(var)\n",
    "for var in tier4:\n",
    "    if (data[var]%1!=0).sum()==0:\n",
    "        could_be_disc.append(var)\n",
    "for var in tier5:\n",
    "    if (data[var]%1!=0).sum()==0:\n",
    "        could_be_disc.append(var)\n",
    "for var in tier6:\n",
    "    if (data[var]%1!=0).sum()==0:\n",
    "        could_be_disc.append(var)\n",
    "for var in tier7:\n",
    "    if (data[var]%1!=0).sum()==0:\n",
    "        could_be_disc.append(var)\n",
    "for var in tier8:\n",
    "    if (data[var]%1!=0).sum()==0:\n",
    "        could_be_disc.append(var)\n",
    "#could be discrete is a list of variables whose values only take on integer values in our dataset"
   ]
  },
  {
   "cell_type": "code",
   "execution_count": 635,
   "metadata": {},
   "outputs": [
    {
     "data": {
      "text/plain": [
       "['Race',\n",
       " 'FathersEducation',\n",
       " 'MothersEducation',\n",
       " 'FemGaurdianOccupation',\n",
       " 'MaleGuardianOccupation',\n",
       " 'AnnualFamilyIncome',\n",
       " 'Urbanicity',\n",
       " 'Region',\n",
       " 'TimeSpentAtHomeAfterSchoolWithoutAdult',\n",
       " 'AskedIfHomeworkDone',\n",
       " 'AskedToDoChores',\n",
       " 'NumTimesDiscussedCourseMaterialWithGuardians',\n",
       " 'GuardiansAttendedSchoolMeeting',\n",
       " 'GuardiansSpokenToSchool',\n",
       " 'LimitOnTvTime',\n",
       " 'percentMinorityin8thgrade',\n",
       " 'Theteachingisgood',\n",
       " 'percentofSchoolwithDiscountedLunch',\n",
       " 'Prolbemofstudentalcuse',\n",
       " 'problemofstudentdruguse',\n",
       " 'LimitOnTimeWithFriends',\n",
       " 'numtimesyouvedrankalcinlifetime',\n",
       " 'numcigsyousmokeaday',\n",
       " 'MathAbilityGroup',\n",
       " 'ScienceAbilityGroup',\n",
       " 'EnglishClassAbilityGroup',\n",
       " 'HistoryAbilityGroup',\n",
       " 'PastScienceGrades',\n",
       " 'PastHistoryGrades',\n",
       " 'HistoryStandardizedScore',\n",
       " 'ReadingStandardizedScore',\n",
       " 'Relativereadingproficiencylevel',\n",
       " 'Whatkindofworkdoyouexpecttobedoingwhenyouare30yearsold',\n",
       " 'AggregateMeasureofControl1',\n",
       " 'Asthingsstandnowhowfarinschooldoyouthinkyouwillget',\n",
       " 'Howsureareyouthatyouwillgraduatefromhighschool']"
      ]
     },
     "execution_count": 635,
     "metadata": {},
     "output_type": "execute_result"
    }
   ],
   "source": [
    "could_be_disc"
   ]
  },
  {
   "cell_type": "code",
   "execution_count": 636,
   "metadata": {},
   "outputs": [],
   "source": [
    "var2type={}\n",
    "#manually go thru variable of interest and classify as discrete or continuous by looking at the code book for the data"
   ]
  },
  {
   "cell_type": "code",
   "execution_count": 637,
   "metadata": {},
   "outputs": [
    {
     "data": {
      "text/plain": [
       "['Race', 'FathersEducation', 'MothersEducation']"
      ]
     },
     "execution_count": 637,
     "metadata": {},
     "output_type": "execute_result"
    }
   ],
   "source": [
    "tier1"
   ]
  },
  {
   "cell_type": "code",
   "execution_count": 638,
   "metadata": {},
   "outputs": [],
   "source": [
    "var2type['Race']='int64'\n",
    "var2type['FathersEducation']='int64'\n",
    "var2type['MothersEducation']='int64'"
   ]
  },
  {
   "cell_type": "code",
   "execution_count": 639,
   "metadata": {},
   "outputs": [
    {
     "data": {
      "text/plain": [
       "['FemGaurdianOccupation', 'MaleGuardianOccupation']"
      ]
     },
     "execution_count": 639,
     "metadata": {},
     "output_type": "execute_result"
    }
   ],
   "source": [
    "tier2"
   ]
  },
  {
   "cell_type": "code",
   "execution_count": 640,
   "metadata": {},
   "outputs": [],
   "source": [
    "var2type['FemGaurdianOccupation']='int64'\n",
    "var2type['MaleGuardianOccupation']='int64'\n"
   ]
  },
  {
   "cell_type": "code",
   "execution_count": 641,
   "metadata": {},
   "outputs": [
    {
     "data": {
      "text/plain": [
       "['AnnualFamilyIncome']"
      ]
     },
     "execution_count": 641,
     "metadata": {},
     "output_type": "execute_result"
    }
   ],
   "source": [
    "tier3"
   ]
  },
  {
   "cell_type": "code",
   "execution_count": 642,
   "metadata": {},
   "outputs": [],
   "source": [
    "var2type['AnnualFamilyIncome']='int64'"
   ]
  },
  {
   "cell_type": "code",
   "execution_count": 643,
   "metadata": {},
   "outputs": [
    {
     "data": {
      "text/plain": [
       "['SocioeconomicStatusComposite', 'Urbanicity', 'Region']"
      ]
     },
     "execution_count": 643,
     "metadata": {},
     "output_type": "execute_result"
    }
   ],
   "source": [
    "tier4"
   ]
  },
  {
   "cell_type": "code",
   "execution_count": 644,
   "metadata": {},
   "outputs": [],
   "source": [
    "var2type['SocioeconomicStatusComposite']='float64'"
   ]
  },
  {
   "cell_type": "code",
   "execution_count": 645,
   "metadata": {},
   "outputs": [],
   "source": [
    "var2type['Urbanicity']='int64'\n",
    "var2type['Region']='int64'"
   ]
  },
  {
   "cell_type": "code",
   "execution_count": 646,
   "metadata": {},
   "outputs": [
    {
     "data": {
      "text/plain": [
       "['TimeSpentAtHomeAfterSchoolWithoutAdult',\n",
       " 'AskedIfHomeworkDone',\n",
       " 'AskedToDoChores',\n",
       " 'NumTimesDiscussedCourseMaterialWithGuardians',\n",
       " 'GuardiansAttendedSchoolMeeting',\n",
       " 'GuardiansSpokenToSchool',\n",
       " 'LimitOnTvTime',\n",
       " 'percentMinorityin8thgrade',\n",
       " 'Theteachingisgood',\n",
       " 'percentofSchoolwithDiscountedLunch',\n",
       " 'Prolbemofstudentalcuse',\n",
       " 'problemofstudentdruguse',\n",
       " 'LimitOnTimeWithFriends']"
      ]
     },
     "execution_count": 646,
     "metadata": {},
     "output_type": "execute_result"
    }
   ],
   "source": [
    "tier5"
   ]
  },
  {
   "cell_type": "code",
   "execution_count": 647,
   "metadata": {},
   "outputs": [],
   "source": [
    "var2type['TimeSpentAtHomeAfterSchoolWithoutAdult']='int64'\n",
    "var2type['AskedIfHomeworkDone']='int64'\n",
    "var2type['AskedToDoChores']='int64'\n",
    "var2type['NumTimesDiscussedCourseMaterialWithGuardians']='int64'\n",
    "var2type['GuardiansAttendedSchoolMeeting']='int64'\n",
    "var2type['GuardiansSpokenToSchool']='int64'\n",
    "var2type['LimitOnTvTime']='int64'\n",
    "var2type['percentMinorityin8thgrade']='int64'\n",
    "var2type['Theteachingisgood']='int64'\n",
    "var2type['percentofSchoolwithDiscountedLunch']='int64'\n",
    "var2type['Prolbemofstudentalcuse']='int64'\n",
    "var2type['problemofstudentdruguse']='int64'\n",
    "var2type['LimitOnTimeWithFriends']='int64'"
   ]
  },
  {
   "cell_type": "code",
   "execution_count": 648,
   "metadata": {},
   "outputs": [
    {
     "data": {
      "text/plain": [
       "['numtimesyouvedrankalcinlifetime', 'numcigsyousmokeaday']"
      ]
     },
     "execution_count": 648,
     "metadata": {},
     "output_type": "execute_result"
    }
   ],
   "source": [
    "tier6"
   ]
  },
  {
   "cell_type": "code",
   "execution_count": 649,
   "metadata": {},
   "outputs": [],
   "source": [
    "var2type['numtimesyouvedrankalcinlifetime']='int64'\n",
    "var2type['numcigsyousmokeaday']='int64'"
   ]
  },
  {
   "cell_type": "code",
   "execution_count": 650,
   "metadata": {},
   "outputs": [
    {
     "data": {
      "text/plain": [
       "['MathAbilityGroup',\n",
       " 'ScienceAbilityGroup',\n",
       " 'EnglishClassAbilityGroup',\n",
       " 'HistoryAbilityGroup',\n",
       " 'PastScienceGrades',\n",
       " 'PastHistoryGrades',\n",
       " 'HistoryStandardizedScore',\n",
       " 'ReadingStandardizedScore',\n",
       " 'Relativereadingproficiencylevel']"
      ]
     },
     "execution_count": 650,
     "metadata": {},
     "output_type": "execute_result"
    }
   ],
   "source": [
    "tier7"
   ]
  },
  {
   "cell_type": "code",
   "execution_count": 651,
   "metadata": {},
   "outputs": [],
   "source": [
    "var2type['MathAbilityGroup']='int64'\n",
    "var2type['ScienceAbilityGroup']='int64'\n",
    "var2type['EnglishClassAbilityGroup']='int64'\n",
    "var2type['HistoryAbilityGroup']='int64'\n",
    "var2type['ReadingStandardizedScore']='float64'\n",
    "var2type['HistoryStandardizedScore']='float64'\n",
    "var2type['PastScienceGrades']='int64'\n",
    "var2type['PastHistoryGrades']='int64'\n",
    "var2type['Relativereadingproficiencylevel']='int64'"
   ]
  },
  {
   "cell_type": "code",
   "execution_count": 652,
   "metadata": {},
   "outputs": [
    {
     "data": {
      "text/plain": [
       "['Whatkindofworkdoyouexpecttobedoingwhenyouare30yearsold',\n",
       " 'AggregateMeasureofControl1',\n",
       " 'Asthingsstandnowhowfarinschooldoyouthinkyouwillget',\n",
       " 'Howsureareyouthatyouwillgraduatefromhighschool']"
      ]
     },
     "execution_count": 652,
     "metadata": {},
     "output_type": "execute_result"
    }
   ],
   "source": [
    "tier8"
   ]
  },
  {
   "cell_type": "code",
   "execution_count": 653,
   "metadata": {},
   "outputs": [],
   "source": [
    "var2type['Whatkindofworkdoyouexpecttobedoingwhenyouare30yearsold']='int64'\n",
    "var2type['AggregateMeasureofControl1']='float64'\n",
    "var2type['Asthingsstandnowhowfarinschooldoyouthinkyouwillget']='int64'\n",
    "var2type['Howsureareyouthatyouwillgraduatefromhighschool']='int64'"
   ]
  },
  {
   "cell_type": "code",
   "execution_count": 654,
   "metadata": {},
   "outputs": [
    {
     "name": "stdout",
     "output_type": "stream",
     "text": [
      "ReadingStandardizedScore: can be discrete\n",
      "HistoryStandardizedScore: can be discrete\n",
      "AggregateMeasureofControl1: can be discrete\n"
     ]
    }
   ],
   "source": [
    "for item in var2type.items():\n",
    "    var = item[0]\n",
    "    class_= item[1]\n",
    "    if (class_=='int64'):\n",
    "        #classfied it as being a discrete rv\n",
    "        if var not in could_be_disc:\n",
    "            #its not actually discrete!\n",
    "            print(var+\": not discrete in dataset\")\n",
    "    else:\n",
    "        #classified as being continuous\n",
    "        if var in could_be_disc:\n",
    "            #can be considered as discrete\n",
    "            print(var +\": can be discrete\")"
   ]
  },
  {
   "cell_type": "code",
   "execution_count": 655,
   "metadata": {},
   "outputs": [],
   "source": [
    "var2type['AggregateMeasureofControl1']='int64'\n",
    "var2type['ReadingStandardizedScore']='int64'\n",
    "var2type['HistoryStandardizedScore']='int64'"
   ]
  },
  {
   "cell_type": "code",
   "execution_count": 656,
   "metadata": {},
   "outputs": [
    {
     "data": {
      "text/plain": [
       "37"
      ]
     },
     "execution_count": 656,
     "metadata": {},
     "output_type": "execute_result"
    }
   ],
   "source": [
    "len(var2type)"
   ]
  },
  {
   "cell_type": "code",
   "execution_count": 657,
   "metadata": {},
   "outputs": [],
   "source": [
    "from math import floor, ceil"
   ]
  },
  {
   "cell_type": "code",
   "execution_count": 658,
   "metadata": {},
   "outputs": [
    {
     "name": "stdout",
     "output_type": "stream",
     "text": [
      "Race\n",
      "FathersEducation\n",
      "MothersEducation\n",
      "FemGaurdianOccupation\n",
      "MaleGuardianOccupation\n",
      "AnnualFamilyIncome\n",
      "Urbanicity\n",
      "Region\n",
      "TimeSpentAtHomeAfterSchoolWithoutAdult\n",
      "AskedIfHomeworkDone\n",
      "AskedToDoChores\n",
      "NumTimesDiscussedCourseMaterialWithGuardians\n",
      "GuardiansAttendedSchoolMeeting\n",
      "GuardiansSpokenToSchool\n",
      "LimitOnTvTime\n",
      "percentMinorityin8thgrade\n",
      "Theteachingisgood\n",
      "percentofSchoolwithDiscountedLunch\n",
      "Prolbemofstudentalcuse\n",
      "problemofstudentdruguse\n",
      "LimitOnTimeWithFriends\n",
      "numtimesyouvedrankalcinlifetime\n",
      "numcigsyousmokeaday\n",
      "MathAbilityGroup\n",
      "ScienceAbilityGroup\n",
      "EnglishClassAbilityGroup\n",
      "HistoryAbilityGroup\n",
      "ReadingStandardizedScore\n",
      "HistoryStandardizedScore\n",
      "PastScienceGrades\n",
      "PastHistoryGrades\n",
      "Relativereadingproficiencylevel\n",
      "Whatkindofworkdoyouexpecttobedoingwhenyouare30yearsold\n",
      "AggregateMeasureofControl1\n",
      "Asthingsstandnowhowfarinschooldoyouthinkyouwillget\n",
      "Howsureareyouthatyouwillgraduatefromhighschool\n"
     ]
    }
   ],
   "source": [
    "for item in var2type.items():\n",
    "    var = item[0]\n",
    "    class_ = item[1]\n",
    "    if class_=='int64':\n",
    "        #discrete\n",
    "        print(var)"
   ]
  },
  {
   "cell_type": "code",
   "execution_count": 659,
   "metadata": {},
   "outputs": [],
   "source": [
    "mean=data['Howsureareyouthatyouwillgraduatefromhighschool'].loc[data['Howsureareyouthatyouwillgraduatefromhighschool']<=4].mean()\n",
    "mean=floor(mean)\n",
    "data['Howsureareyouthatyouwillgraduatefromhighschool'].loc[data['Howsureareyouthatyouwillgraduatefromhighschool']>4]=mean"
   ]
  },
  {
   "cell_type": "code",
   "execution_count": 660,
   "metadata": {},
   "outputs": [],
   "source": [
    "mean=data['AggregateMeasureofControl1'].loc[data['AggregateMeasureofControl1']<200].mean()\n",
    "mean=floor(mean)\n",
    "data['AggregateMeasureofControl1'].loc[data['AggregateMeasureofControl1']>=200]=mean"
   ]
  },
  {
   "cell_type": "code",
   "execution_count": 661,
   "metadata": {},
   "outputs": [],
   "source": [
    "mean = data['Relativereadingproficiencylevel'].loc[data['Relativereadingproficiencylevel']<=20].mean()\n",
    "mean = floor(mean)\n",
    "data['Relativereadingproficiencylevel'].loc[data['Relativereadingproficiencylevel']>20]=mean"
   ]
  },
  {
   "cell_type": "code",
   "execution_count": 662,
   "metadata": {},
   "outputs": [],
   "source": [
    "mean = data['PastHistoryGrades'].loc[data['PastHistoryGrades']<=20].mean()\n",
    "mean = floor(mean)\n",
    "data['PastHistoryGrades'].loc[data['PastHistoryGrades']>20]=mean"
   ]
  },
  {
   "cell_type": "code",
   "execution_count": 663,
   "metadata": {},
   "outputs": [],
   "source": [
    "mean = data['HistoryStandardizedScore'].loc[data['HistoryStandardizedScore']<=4].mean()\n",
    "mean = floor(mean)\n",
    "data['HistoryStandardizedScore'].loc[data['HistoryStandardizedScore']>4]=mean"
   ]
  },
  {
   "cell_type": "code",
   "execution_count": 664,
   "metadata": {},
   "outputs": [],
   "source": [
    "mean = data['ReadingStandardizedScore'].loc[data['ReadingStandardizedScore']<=5].mean()\n",
    "mean = floor(mean)\n",
    "data['ReadingStandardizedScore'].loc[data['ReadingStandardizedScore']>5]=mean"
   ]
  },
  {
   "cell_type": "code",
   "execution_count": 665,
   "metadata": {},
   "outputs": [],
   "source": [
    "mean = data['HistoryAbilityGroup'].loc[data['HistoryAbilityGroup']<=4].mean()\n",
    "mean = floor(mean)\n",
    "data['HistoryAbilityGroup'].loc[data['HistoryAbilityGroup']>4]=mean"
   ]
  },
  {
   "cell_type": "code",
   "execution_count": 666,
   "metadata": {},
   "outputs": [],
   "source": [
    "mean = data['EnglishClassAbilityGroup'].loc[data['EnglishClassAbilityGroup']<=4].mean()\n",
    "mean = floor(mean)\n",
    "data['EnglishClassAbilityGroup'].loc[data['EnglishClassAbilityGroup']>4]=mean"
   ]
  },
  {
   "cell_type": "code",
   "execution_count": 667,
   "metadata": {},
   "outputs": [],
   "source": [
    "mean = data['ScienceAbilityGroup'].loc[data['ScienceAbilityGroup']<=4].mean()\n",
    "mean = floor(mean)\n",
    "data['ScienceAbilityGroup'].loc[data['ScienceAbilityGroup']>4]=mean"
   ]
  },
  {
   "cell_type": "code",
   "execution_count": 668,
   "metadata": {},
   "outputs": [],
   "source": [
    "mean = data['MathAbilityGroup'].loc[data['MathAbilityGroup']<=4].mean()\n",
    "mean = floor(mean)\n",
    "data['MathAbilityGroup'].loc[data['MathAbilityGroup']>4]=mean"
   ]
  },
  {
   "cell_type": "code",
   "execution_count": 669,
   "metadata": {},
   "outputs": [],
   "source": [
    "mean = data['numcigsyousmokeaday'].loc[data['numcigsyousmokeaday']<=5].mean()\n",
    "mean = floor(mean)\n",
    "data['numcigsyousmokeaday'].loc[data['numcigsyousmokeaday']>5]=mean"
   ]
  },
  {
   "cell_type": "code",
   "execution_count": 670,
   "metadata": {},
   "outputs": [],
   "source": [
    "mean = data['numtimesyouvedrankalcinlifetime'].loc[data['numtimesyouvedrankalcinlifetime']<=5].mean()\n",
    "mean = floor(mean)\n",
    "data['numtimesyouvedrankalcinlifetime'].loc[data['numtimesyouvedrankalcinlifetime']>5]=mean"
   ]
  },
  {
   "cell_type": "code",
   "execution_count": 671,
   "metadata": {},
   "outputs": [],
   "source": [
    "mean = data['LimitOnTimeWithFriends'].loc[data['LimitOnTimeWithFriends']<=4].mean()\n",
    "mean = floor(mean)\n",
    "data['LimitOnTimeWithFriends'].loc[data['LimitOnTimeWithFriends']>4]=mean"
   ]
  },
  {
   "cell_type": "code",
   "execution_count": 672,
   "metadata": {},
   "outputs": [],
   "source": [
    "mean = data['problemofstudentdruguse'].loc[data['problemofstudentdruguse']<=4].mean()\n",
    "mean = floor(mean)\n",
    "data['problemofstudentdruguse'].loc[data['problemofstudentdruguse']>4]=mean"
   ]
  },
  {
   "cell_type": "code",
   "execution_count": 673,
   "metadata": {},
   "outputs": [],
   "source": [
    "mean = data['Prolbemofstudentalcuse'].loc[data['Prolbemofstudentalcuse']<=4].mean()\n",
    "mean = floor(mean)\n",
    "data['Prolbemofstudentalcuse'].loc[data['Prolbemofstudentalcuse']>4]=mean"
   ]
  },
  {
   "cell_type": "code",
   "execution_count": 674,
   "metadata": {},
   "outputs": [],
   "source": [
    "mean = data['Theteachingisgood'].loc[data['Theteachingisgood']<=4].mean()\n",
    "mean = floor(mean)\n",
    "data['Theteachingisgood'].loc[data['Theteachingisgood']>4]=mean"
   ]
  },
  {
   "cell_type": "code",
   "execution_count": 675,
   "metadata": {},
   "outputs": [],
   "source": [
    "mean = data['LimitOnTvTime'].loc[data['LimitOnTvTime']<=4].mean()\n",
    "mean = floor(mean)\n",
    "data['LimitOnTvTime'].loc[data['LimitOnTvTime']>4]=mean"
   ]
  },
  {
   "cell_type": "code",
   "execution_count": 676,
   "metadata": {},
   "outputs": [],
   "source": [
    "p = data['GuardiansSpokenToSchool'].loc[data['GuardiansSpokenToSchool']<=2].mean()-1\n",
    "numSim = len(data['GuardiansSpokenToSchool'].loc[data['GuardiansSpokenToSchool']>2])\n",
    "sim = np.random.binomial(1,p,numSim)\n",
    "data['GuardiansSpokenToSchool'].loc[data['GuardiansSpokenToSchool']>2]=sim"
   ]
  },
  {
   "cell_type": "code",
   "execution_count": 677,
   "metadata": {},
   "outputs": [],
   "source": [
    "p = data['GuardiansAttendedSchoolMeeting'].loc[data['GuardiansAttendedSchoolMeeting']<=2].mean()-1\n",
    "numSim = len(data['GuardiansAttendedSchoolMeeting'].loc[data['GuardiansAttendedSchoolMeeting']>2])\n",
    "sim = np.random.binomial(1,p,numSim)\n",
    "data['GuardiansAttendedSchoolMeeting'].loc[data['GuardiansAttendedSchoolMeeting']>2]=sim"
   ]
  },
  {
   "cell_type": "code",
   "execution_count": 678,
   "metadata": {},
   "outputs": [],
   "source": [
    "data['NumTimesDiscussedCourseMaterialWithGuardians'].loc[data['NumTimesDiscussedCourseMaterialWithGuardians']<=4].mean()\n",
    "mean = floor(mean)\n",
    "data['NumTimesDiscussedCourseMaterialWithGuardians'].loc[data['NumTimesDiscussedCourseMaterialWithGuardians']>4]=mean"
   ]
  },
  {
   "cell_type": "code",
   "execution_count": 679,
   "metadata": {},
   "outputs": [],
   "source": [
    "mean = data['AskedToDoChores'].loc[data['AskedToDoChores']<=4].mean()\n",
    "mean = floor(mean)\n",
    "data['AskedToDoChores'].loc[data['AskedToDoChores']>4]=mean"
   ]
  },
  {
   "cell_type": "code",
   "execution_count": 680,
   "metadata": {},
   "outputs": [],
   "source": [
    "mean = data['AskedIfHomeworkDone'].loc[data['AskedIfHomeworkDone']<=4].mean()\n",
    "mean = floor(mean)\n",
    "data['AskedIfHomeworkDone'].loc[data['AskedIfHomeworkDone']>4]=mean"
   ]
  },
  {
   "cell_type": "code",
   "execution_count": 681,
   "metadata": {},
   "outputs": [],
   "source": [
    "mean=data['TimeSpentAtHomeAfterSchoolWithoutAdult'].loc[data['TimeSpentAtHomeAfterSchoolWithoutAdult']<=3].mean()\n",
    "mean = floor(mean)\n",
    "data['TimeSpentAtHomeAfterSchoolWithoutAdult'].loc[data['TimeSpentAtHomeAfterSchoolWithoutAdult']>3]=mean"
   ]
  },
  {
   "cell_type": "code",
   "execution_count": 682,
   "metadata": {},
   "outputs": [],
   "source": [
    "mean = data['Region'].loc[data['Region']<=3].mean()\n",
    "mean = floor(mean)\n",
    "data['Region'].loc[data['Region']>3]=mean"
   ]
  },
  {
   "cell_type": "code",
   "execution_count": 683,
   "metadata": {},
   "outputs": [],
   "source": [
    "mean = data['Urbanicity'].loc[data['Urbanicity']<=3].mean()\n",
    "mean = floor(mean)\n",
    "data['Urbanicity'].loc[data['Urbanicity']>3]=mean"
   ]
  },
  {
   "cell_type": "code",
   "execution_count": 684,
   "metadata": {},
   "outputs": [],
   "source": [
    "mean=data['MaleGuardianOccupation'].loc[data['MaleGuardianOccupation']<=16].mean()\n",
    "mean = floor(mean)\n",
    "data['MaleGuardianOccupation'].loc[data['MaleGuardianOccupation']>16]=mean"
   ]
  },
  {
   "cell_type": "code",
   "execution_count": 685,
   "metadata": {},
   "outputs": [],
   "source": [
    "mean=data['FemGaurdianOccupation'].loc[data['FemGaurdianOccupation']<=16].mean()\n",
    "mean = floor(mean)\n",
    "data['FemGaurdianOccupation'].loc[data['FemGaurdianOccupation']>16]=mean"
   ]
  },
  {
   "cell_type": "code",
   "execution_count": 686,
   "metadata": {},
   "outputs": [],
   "source": [
    "mean=data['MothersEducation'].loc[data['MothersEducation']<=7].mean()\n",
    "mean = floor(mean)\n",
    "data['MothersEducation'].loc[data['MothersEducation']>7]=mean"
   ]
  },
  {
   "cell_type": "code",
   "execution_count": 687,
   "metadata": {},
   "outputs": [],
   "source": [
    "mean = data['FathersEducation'].loc[data['FathersEducation']<=7].mean()\n",
    "mean = floor(mean)\n",
    "data['FathersEducation'].loc[data['FathersEducation']>7]=mean"
   ]
  },
  {
   "cell_type": "code",
   "execution_count": 688,
   "metadata": {},
   "outputs": [
    {
     "data": {
      "text/plain": [
       "<matplotlib.axes._subplots.AxesSubplot at 0x1c276f35d0>"
      ]
     },
     "execution_count": 688,
     "metadata": {},
     "output_type": "execute_result"
    },
    {
     "data": {
      "image/png": "[encoded data removed]",
      "text/plain": [
       "<Figure size 432x288 with 1 Axes>"
      ]
     },
     "metadata": {
      "needs_background": "light"
     },
     "output_type": "display_data"
    }
   ],
   "source": [
    "data['Race'].hist()"
   ]
  },
  {
   "cell_type": "code",
   "execution_count": 689,
   "metadata": {},
   "outputs": [
    {
     "name": "stderr",
     "output_type": "stream",
     "text": [
      "/Users/irfanjamil/opt/anaconda3/lib/python3.7/site-packages/ipykernel_launcher.py:3: SettingWithCopyWarning: \n",
      "A value is trying to be set on a copy of a slice from a DataFrame\n",
      "\n",
      "See the caveats in the documentation: http://pandas.pydata.org/pandas-docs/stable/user_guide/indexing.html#returning-a-view-versus-a-copy\n",
      "  This is separate from the ipykernel package so we can avoid doing imports until\n"
     ]
    }
   ],
   "source": [
    "\n",
    "mean = data['Race'][data['Race']<=5].mean()\n",
    "mean = ceil(mean)\n",
    "data['Race'][data['Race']>5]=mean"
   ]
  },
  {
   "cell_type": "code",
   "execution_count": 690,
   "metadata": {},
   "outputs": [
    {
     "name": "stdout",
     "output_type": "stream",
     "text": [
      "SocioeconomicStatusComposite\n"
     ]
    }
   ],
   "source": [
    "for item in var2type.items():\n",
    "    if item[1]!='int64':\n",
    "        #continuous\n",
    "        print(item[0])"
   ]
  },
  {
   "cell_type": "code",
   "execution_count": 691,
   "metadata": {},
   "outputs": [
    {
     "data": {
      "text/plain": [
       "<matplotlib.axes._subplots.AxesSubplot at 0x1c276fcc50>"
      ]
     },
     "execution_count": 691,
     "metadata": {},
     "output_type": "execute_result"
    },
    {
     "data": {
      "image/png": "[encoded data removed]",
      "text/plain": [
       "<Figure size 432x288 with 1 Axes>"
      ]
     },
     "metadata": {
      "needs_background": "light"
     },
     "output_type": "display_data"
    }
   ],
   "source": [
    "mean = data['SocioeconomicStatusComposite'].loc[data['SocioeconomicStatusComposite']<20].mean()\n",
    "data['SocioeconomicStatusComposite'].loc[data['SocioeconomicStatusComposite']>=20]=mean\n",
    "data['SocioeconomicStatusComposite'].hist()"
   ]
  },
  {
   "cell_type": "code",
   "execution_count": 721,
   "metadata": {},
   "outputs": [
    {
     "name": "stdout",
     "output_type": "stream",
     "text": [
      "Race\n",
      "FathersEducation\n",
      "MothersEducation\n",
      "FemGaurdianOccupation\n",
      "MaleGuardianOccupation\n",
      "AnnualFamilyIncome\n",
      "Urbanicity\n",
      "Region\n",
      "TimeSpentAtHomeAfterSchoolWithoutAdult\n",
      "AskedIfHomeworkDone\n",
      "AskedToDoChores\n",
      "NumTimesDiscussedCourseMaterialWithGuardians\n",
      "GuardiansAttendedSchoolMeeting\n",
      "GuardiansSpokenToSchool\n",
      "LimitOnTvTime\n",
      "percentMinorityin8thgrade\n",
      "Theteachingisgood\n",
      "percentofSchoolwithDiscountedLunch\n",
      "Prolbemofstudentalcuse\n",
      "problemofstudentdruguse\n",
      "LimitOnTimeWithFriends\n",
      "numtimesyouvedrankalcinlifetime\n",
      "numcigsyousmokeaday\n",
      "MathAbilityGroup\n",
      "ScienceAbilityGroup\n",
      "EnglishClassAbilityGroup\n",
      "HistoryAbilityGroup\n",
      "ReadingStandardizedScore\n",
      "HistoryStandardizedScore\n",
      "PastScienceGrades\n",
      "PastHistoryGrades\n",
      "Relativereadingproficiencylevel\n",
      "Whatkindofworkdoyouexpecttobedoingwhenyouare30yearsold\n",
      "AggregateMeasureofControl1\n",
      "Asthingsstandnowhowfarinschooldoyouthinkyouwillget\n",
      "Howsureareyouthatyouwillgraduatefromhighschool\n"
     ]
    }
   ],
   "source": [
    "for item in var2type.items():\n",
    "    if item[1]=='int64':\n",
    "        #print discrete vars\n",
    "        print(item[0])"
   ]
  },
  {
   "cell_type": "code",
   "execution_count": 722,
   "metadata": {},
   "outputs": [],
   "source": [
    "discrete2type = {} #dictionary mapping discrete variable to the type of categorical variable it is (ordinal or nominal)\n",
    "discrete2type['Race']='nominal'\n",
    "discrete2type['FathersEducation']='ordinal'\n",
    "discrete2type['MothersEducation']='ordinal'\n",
    "discrete2type['FemGaurdianOccupation']='nominal'\n",
    "discrete2type['MaleGuardianOccupation']='nominal'\n",
    "discrete2type['AnnualFamilyIncome']='ordinal'\n",
    "discrete2type['Urbanicity']='nominal'\n",
    "discrete2type['Region']='nominal'\n",
    "discrete2type['TimeSpentAtHomeAfterSchoolWithoutAdult']='ordinal'\n",
    "discrete2type['AskedIfHomeworkDone']='ordinal'\n",
    "discrete2type['AskedToDoChores']='ordinal'\n",
    "discrete2type['LimitOnTvTime']='ordinal'\n",
    "discrete2type['NumTimesDiscussedCourseMaterialWithGuardians']='ordinal'\n",
    "discrete2type['GuardiansAttendedSchoolMeeting']='nominal'\n",
    "discrete2type['GuardiansSpokenToSchool']='nominal'\n",
    "discrete2type['percentMinorityin8thgrade']='ordinal'\n",
    "discrete2type['percentofSchoolwithDiscountedLunch']='ordinal'\n",
    "discrete2type['Theteachingisgood']='ordinal'\n",
    "discrete2type['Prolbemofstudentalcuse']='ordinal'\n",
    "discrete2type['problemofstudentdruguse']='ordinal'\n",
    "discrete2type['LimitOnTimeWithFriends']='ordinal'\n",
    "discrete2type['numtimesyouvedrankalcinlifetime']='ordinal'\n",
    "discrete2type['numcigsyousmokeaday']='ordinal'\n",
    "discrete2type['MathAbilityGroup']='ordinal'\n",
    "discrete2type['ScienceAbilityGroup']='ordinal'\n",
    "discrete2type['EnglishClassAbilityGroup']='ordinal'\n",
    "discrete2type['HistoryAbilityGroup']='ordinal'\n",
    "discrete2type['PastScienceGrades']='ordinal'\n",
    "discrete2type['PastHistoryGrades']='ordinal'\n",
    "discrete2type['Relativereadingproficiencylevel']='ordinal'\n",
    "discrete2type['Whatkindofworkdoyouexpecttobedoingwhenyouare30yearsold']='nominal'\n",
    "discrete2type['ReadingStandardizedScore']='ordinal'\n",
    "discrete2type['HistoryStandardizedScore']='ordinal'\n",
    "discrete2type['AggregateMeasureofControl1']='ordinal'\n",
    "discrete2type['Asthingsstandnowhowfarinschooldoyouthinkyouwillget']='ordinal'\n",
    "discrete2type['Howsureareyouthatyouwillgraduatefromhighschool']='ordinal'"
   ]
  },
  {
   "cell_type": "code",
   "execution_count": 723,
   "metadata": {},
   "outputs": [
    {
     "name": "stdout",
     "output_type": "stream",
     "text": [
      "FathersEducation\n",
      "MothersEducation\n",
      "AnnualFamilyIncome\n",
      "TimeSpentAtHomeAfterSchoolWithoutAdult\n",
      "AskedIfHomeworkDone\n",
      "AskedToDoChores\n",
      "LimitOnTvTime\n",
      "NumTimesDiscussedCourseMaterialWithGuardians\n",
      "percentMinorityin8thgrade\n",
      "percentofSchoolwithDiscountedLunch\n",
      "Theteachingisgood\n",
      "Prolbemofstudentalcuse\n",
      "problemofstudentdruguse\n",
      "LimitOnTimeWithFriends\n",
      "numtimesyouvedrankalcinlifetime\n",
      "numcigsyousmokeaday\n",
      "MathAbilityGroup\n",
      "ScienceAbilityGroup\n",
      "EnglishClassAbilityGroup\n",
      "HistoryAbilityGroup\n",
      "PastScienceGrades\n",
      "PastHistoryGrades\n",
      "Relativereadingproficiencylevel\n",
      "ReadingStandardizedScore\n",
      "HistoryStandardizedScore\n",
      "AggregateMeasureofControl1\n",
      "Asthingsstandnowhowfarinschooldoyouthinkyouwillget\n",
      "Howsureareyouthatyouwillgraduatefromhighschool\n"
     ]
    }
   ],
   "source": [
    "for item in discrete2type.items():\n",
    "    if item[1]=='ordinal':\n",
    "        print(item[0])"
   ]
  },
  {
   "cell_type": "code",
   "execution_count": 725,
   "metadata": {},
   "outputs": [
    {
     "data": {
      "text/plain": [
       "<matplotlib.axes._subplots.AxesSubplot at 0x1c2b6f2850>"
      ]
     },
     "execution_count": 725,
     "metadata": {},
     "output_type": "execute_result"
    },
    {
     "data": {
      "image/png": "[encoded data removed]",
      "text/plain": [
       "<Figure size 432x288 with 1 Axes>"
      ]
     },
     "metadata": {
      "needs_background": "light"
     },
     "output_type": "display_data"
    }
   ],
   "source": [
    "data['AnnualFamilyIncome'].hist()"
   ]
  },
  {
   "cell_type": "code",
   "execution_count": 385,
   "metadata": {},
   "outputs": [],
   "source": [
    "data['TimeSpentAtHomeAfterSchoolWithoutAdult'].loc[data['TimeSpentAtHomeAfterSchoolWithoutAdult']==8]=0\n",
    "data['TimeSpentAtHomeAfterSchoolWithoutAdult'].loc[data['TimeSpentAtHomeAfterSchoolWithoutAdult']==6]=0"
   ]
  },
  {
   "cell_type": "code",
   "execution_count": 386,
   "metadata": {},
   "outputs": [],
   "source": [
    "data['AskedIfHomeworkDone'].loc[data['AskedIfHomeworkDone']==6]=0\n",
    "data['AskedIfHomeworkDone'].loc[data['AskedIfHomeworkDone']==8]=-10\n",
    "data['AskedIfHomeworkDone'].loc[data['AskedIfHomeworkDone']==1]=-1\n",
    "data['AskedIfHomeworkDone'].loc[data['AskedIfHomeworkDone']==2]=-2\n",
    "data['AskedIfHomeworkDone'].loc[data['AskedIfHomeworkDone']==3]=-3\n",
    "data['AskedIfHomeworkDone'].loc[data['AskedIfHomeworkDone']==4]=-4\n",
    "data['AskedIfHomeworkDone'].loc[data['AskedIfHomeworkDone']==-4]=1\n",
    "data['AskedIfHomeworkDone'].loc[data['AskedIfHomeworkDone']==-3]=2\n",
    "data['AskedIfHomeworkDone'].loc[data['AskedIfHomeworkDone']==-2]=3\n",
    "data['AskedIfHomeworkDone'].loc[data['AskedIfHomeworkDone']==-1]=4\n",
    "data['AskedIfHomeworkDone'].loc[data['AskedIfHomeworkDone']==-10]=0\n",
    "\n",
    "\n",
    "data['AskedToDoChores'].loc[data['AskedToDoChores']==6]=0\n",
    "data['AskedToDoChores'].loc[data['AskedToDoChores']==8]=-10\n",
    "data['AskedToDoChores'].loc[data['AskedToDoChores']==1]=-1\n",
    "data['AskedToDoChores'].loc[data['AskedToDoChores']==2]=-2\n",
    "data['AskedToDoChores'].loc[data['AskedToDoChores']==3]=-3\n",
    "data['AskedToDoChores'].loc[data['AskedToDoChores']==4]=-4\n",
    "data['AskedToDoChores'].loc[data['AskedToDoChores']==-4]=1\n",
    "data['AskedToDoChores'].loc[data['AskedToDoChores']==-3]=2\n",
    "data['AskedToDoChores'].loc[data['AskedToDoChores']==-2]=3\n",
    "data['AskedToDoChores'].loc[data['AskedToDoChores']==-1]=4\n",
    "data['AskedToDoChores'].loc[data['AskedToDoChores']==-10]=0\n",
    "\n",
    "data['LimitOnTvTime'].loc[data['LimitOnTvTime']==6]=0\n",
    "data['LimitOnTvTime'].loc[data['LimitOnTvTime']==8]=-10\n",
    "data['LimitOnTvTime'].loc[data['LimitOnTvTime']==1]=-1\n",
    "data['LimitOnTvTime'].loc[data['LimitOnTvTime']==2]=-2\n",
    "data['LimitOnTvTime'].loc[data['LimitOnTvTime']==3]=-3\n",
    "data['LimitOnTvTime'].loc[data['LimitOnTvTime']==4]=-4\n",
    "data['LimitOnTvTime'].loc[data['LimitOnTvTime']==-4]=1\n",
    "data['LimitOnTvTime'].loc[data['LimitOnTvTime']==-3]=2\n",
    "data['LimitOnTvTime'].loc[data['LimitOnTvTime']==-2]=3\n",
    "data['LimitOnTvTime'].loc[data['LimitOnTvTime']==-1]=4\n",
    "data['LimitOnTvTime'].loc[data['LimitOnTvTime']==-10]=0\n",
    "\n",
    "\n",
    "data['LimitOnTimeWithFriends'].loc[data['LimitOnTimeWithFriends']==6]=0\n",
    "data['LimitOnTimeWithFriends'].loc[data['LimitOnTimeWithFriends']==8]=-10\n",
    "data['LimitOnTimeWithFriends'].loc[data['LimitOnTimeWithFriends']==1]=-1\n",
    "data['LimitOnTimeWithFriends'].loc[data['LimitOnTimeWithFriends']==2]=-2\n",
    "data['LimitOnTimeWithFriends'].loc[data['LimitOnTimeWithFriends']==3]=-3\n",
    "data['LimitOnTimeWithFriends'].loc[data['LimitOnTimeWithFriends']==4]=-4\n",
    "data['LimitOnTimeWithFriends'].loc[data['LimitOnTimeWithFriends']==-4]=1\n",
    "data['LimitOnTimeWithFriends'].loc[data['LimitOnTimeWithFriends']==-3]=2\n",
    "data['LimitOnTimeWithFriends'].loc[data['LimitOnTimeWithFriends']==-2]=3\n",
    "data['LimitOnTimeWithFriends'].loc[data['LimitOnTimeWithFriends']==-1]=4\n",
    "data['LimitOnTimeWithFriends'].loc[data['LimitOnTimeWithFriends']==-10]=0\n"
   ]
  },
  {
   "cell_type": "code",
   "execution_count": 387,
   "metadata": {},
   "outputs": [],
   "source": [
    "data['NumTimesDiscussedCourseMaterialWithGuardians'].loc[data['NumTimesDiscussedCourseMaterialWithGuardians']==6]=0\n",
    "data['NumTimesDiscussedCourseMaterialWithGuardians'].loc[data['NumTimesDiscussedCourseMaterialWithGuardians']==8]=0\n",
    "\n",
    "data['percentMinorityin8thgrade'].loc[data['percentMinorityin8thgrade']==998]=0\n",
    "\n",
    "data['percentofSchoolwithDiscountedLunch'].loc[data['percentofSchoolwithDiscountedLunch']==998]=0\n",
    "\n",
    "\n",
    "data['Theteachingisgood'].loc[data['Theteachingisgood']==6]=0\n",
    "data['Theteachingisgood'].loc[data['Theteachingisgood']==8]=-10\n",
    "data['Theteachingisgood'].loc[data['Theteachingisgood']==1]=-1\n",
    "data['Theteachingisgood'].loc[data['Theteachingisgood']==2]=-2\n",
    "data['Theteachingisgood'].loc[data['Theteachingisgood']==3]=-3\n",
    "data['Theteachingisgood'].loc[data['Theteachingisgood']==4]=-4\n",
    "data['Theteachingisgood'].loc[data['Theteachingisgood']==-4]=1\n",
    "data['Theteachingisgood'].loc[data['Theteachingisgood']==-3]=2\n",
    "data['Theteachingisgood'].loc[data['Theteachingisgood']==-2]=3\n",
    "data['Theteachingisgood'].loc[data['Theteachingisgood']==-1]=4\n",
    "data['Theteachingisgood'].loc[data['Theteachingisgood']==-10]=0\n",
    "\n",
    "data['Teachersareinterestedinstudents'].loc[data['Teachersareinterestedinstudents']==6]=0\n",
    "data['Teachersareinterestedinstudents'].loc[data['Teachersareinterestedinstudents']==8]=-10\n",
    "data['Teachersareinterestedinstudents'].loc[data['Teachersareinterestedinstudents']==1]=-1\n",
    "data['Teachersareinterestedinstudents'].loc[data['Teachersareinterestedinstudents']==2]=-2\n",
    "data['Teachersareinterestedinstudents'].loc[data['Teachersareinterestedinstudents']==3]=-3\n",
    "data['Teachersareinterestedinstudents'].loc[data['Teachersareinterestedinstudents']==4]=-4\n",
    "data['Teachersareinterestedinstudents'].loc[data['Teachersareinterestedinstudents']==-4]=1\n",
    "data['Teachersareinterestedinstudents'].loc[data['Teachersareinterestedinstudents']==-3]=2\n",
    "data['Teachersareinterestedinstudents'].loc[data['Teachersareinterestedinstudents']==-2]=3\n",
    "data['Teachersareinterestedinstudents'].loc[data['Teachersareinterestedinstudents']==-1]=4\n",
    "data['Teachersareinterestedinstudents'].loc[data['Teachersareinterestedinstudents']==-10]=0\n",
    "\n",
    "data['WhenIworkhardonschoolworkmyteacherspraisemyeffort'].loc[data['WhenIworkhardonschoolworkmyteacherspraisemyeffort']==6]=0\n",
    "data['WhenIworkhardonschoolworkmyteacherspraisemyeffort'].loc[data['WhenIworkhardonschoolworkmyteacherspraisemyeffort']==8]=-10\n",
    "data['WhenIworkhardonschoolworkmyteacherspraisemyeffort'].loc[data['WhenIworkhardonschoolworkmyteacherspraisemyeffort']==1]=-1\n",
    "data['WhenIworkhardonschoolworkmyteacherspraisemyeffort'].loc[data['WhenIworkhardonschoolworkmyteacherspraisemyeffort']==2]=-2\n",
    "data['WhenIworkhardonschoolworkmyteacherspraisemyeffort'].loc[data['WhenIworkhardonschoolworkmyteacherspraisemyeffort']==3]=-3\n",
    "data['WhenIworkhardonschoolworkmyteacherspraisemyeffort'].loc[data['WhenIworkhardonschoolworkmyteacherspraisemyeffort']==4]=-4\n",
    "data['WhenIworkhardonschoolworkmyteacherspraisemyeffort'].loc[data['WhenIworkhardonschoolworkmyteacherspraisemyeffort']==-4]=1\n",
    "data['WhenIworkhardonschoolworkmyteacherspraisemyeffort'].loc[data['WhenIworkhardonschoolworkmyteacherspraisemyeffort']==-3]=2\n",
    "data['WhenIworkhardonschoolworkmyteacherspraisemyeffort'].loc[data['WhenIworkhardonschoolworkmyteacherspraisemyeffort']==-2]=3\n",
    "data['WhenIworkhardonschoolworkmyteacherspraisemyeffort'].loc[data['WhenIworkhardonschoolworkmyteacherspraisemyeffort']==-1]=4\n",
    "data['WhenIworkhardonschoolworkmyteacherspraisemyeffort'].loc[data['WhenIworkhardonschoolworkmyteacherspraisemyeffort']==-10]=0\n",
    "\n",
    "data['InclassIoftenfeelputdownbymyteachers'].loc[data['InclassIoftenfeelputdownbymyteachers']==6]=0\n",
    "data['InclassIoftenfeelputdownbymyteachers'].loc[data['InclassIoftenfeelputdownbymyteachers']==8]=-10\n",
    "data['InclassIoftenfeelputdownbymyteachers'].loc[data['InclassIoftenfeelputdownbymyteachers']==1]=-1\n",
    "data['InclassIoftenfeelputdownbymyteachers'].loc[data['InclassIoftenfeelputdownbymyteachers']==2]=-2\n",
    "data['InclassIoftenfeelputdownbymyteachers'].loc[data['InclassIoftenfeelputdownbymyteachers']==3]=-3\n",
    "data['InclassIoftenfeelputdownbymyteachers'].loc[data['InclassIoftenfeelputdownbymyteachers']==4]=-4\n",
    "data['InclassIoftenfeelputdownbymyteachers'].loc[data['InclassIoftenfeelputdownbymyteachers']==-4]=1\n",
    "data['InclassIoftenfeelputdownbymyteachers'].loc[data['InclassIoftenfeelputdownbymyteachers']==-3]=2\n",
    "data['InclassIoftenfeelputdownbymyteachers'].loc[data['InclassIoftenfeelputdownbymyteachers']==-2]=3\n",
    "data['InclassIoftenfeelputdownbymyteachers'].loc[data['InclassIoftenfeelputdownbymyteachers']==-1]=4\n",
    "data['InclassIoftenfeelputdownbymyteachers'].loc[data['InclassIoftenfeelputdownbymyteachers']==-10]=0\n",
    "\n",
    "data['MostofmyteachersreallylistentowhatIhavetosay'].loc[data['MostofmyteachersreallylistentowhatIhavetosay']==6]=0\n",
    "data['MostofmyteachersreallylistentowhatIhavetosay'].loc[data['MostofmyteachersreallylistentowhatIhavetosay']==8]=-10\n",
    "data['MostofmyteachersreallylistentowhatIhavetosay'].loc[data['MostofmyteachersreallylistentowhatIhavetosay']==1]=-1\n",
    "data['MostofmyteachersreallylistentowhatIhavetosay'].loc[data['MostofmyteachersreallylistentowhatIhavetosay']==2]=-2\n",
    "data['MostofmyteachersreallylistentowhatIhavetosay'].loc[data['MostofmyteachersreallylistentowhatIhavetosay']==3]=-3\n",
    "data['MostofmyteachersreallylistentowhatIhavetosay'].loc[data['MostofmyteachersreallylistentowhatIhavetosay']==4]=-4\n",
    "data['MostofmyteachersreallylistentowhatIhavetosay'].loc[data['MostofmyteachersreallylistentowhatIhavetosay']==-4]=1\n",
    "data['MostofmyteachersreallylistentowhatIhavetosay'].loc[data['MostofmyteachersreallylistentowhatIhavetosay']==-3]=2\n",
    "data['MostofmyteachersreallylistentowhatIhavetosay'].loc[data['MostofmyteachersreallylistentowhatIhavetosay']==-2]=3\n",
    "data['MostofmyteachersreallylistentowhatIhavetosay'].loc[data['MostofmyteachersreallylistentowhatIhavetosay']==-1]=4\n",
    "data['MostofmyteachersreallylistentowhatIhavetosay'].loc[data['MostofmyteachersreallylistentowhatIhavetosay']==-10]=0\n",
    "\n",
    "data['Prolbemofstudentalcuse'].loc[data['Prolbemofstudentalcuse']==6]=0\n",
    "data['Prolbemofstudentalcuse'].loc[data['Prolbemofstudentalcuse']==8]=0\n",
    "\n",
    "data['problemofstudentdruguse'].loc[data['problemofstudentdruguse']==6]=0\n",
    "data['problemofstudentdruguse'].loc[data['problemofstudentdruguse']==8]=0\n",
    "\n",
    "data['numcigsyousmokeaday'].loc[data['numcigsyousmokeaday']==5]=6\n",
    "data['numcigsyousmokeaday'].loc[data['numcigsyousmokeaday']==4]=5\n",
    "data['numcigsyousmokeaday'].loc[data['numcigsyousmokeaday']==3]=4\n",
    "data['numcigsyousmokeaday'].loc[data['numcigsyousmokeaday']==2]=3\n",
    "data['numcigsyousmokeaday'].loc[data['numcigsyousmokeaday']==1]=2\n",
    "data['numcigsyousmokeaday'].loc[data['numcigsyousmokeaday']==0]=1\n",
    "data['numcigsyousmokeaday'].loc[data['numcigsyousmokeaday']==96]=0\n",
    "data['numcigsyousmokeaday'].loc[data['numcigsyousmokeaday']==98]=0\n",
    "\n",
    "data['numtimesyouvedrankalcinlifetime'].loc[data['numtimesyouvedrankalcinlifetime']==8]=0\n",
    "data['numtimesyouvedrankalcinlifetime'].loc[data['numtimesyouvedrankalcinlifetime']==6]=0\n",
    "\n",
    "\n",
    "data['MathAbilityGroup'].loc[data['MathAbilityGroup']==1]=-1\n",
    "data['MathAbilityGroup'].loc[data['MathAbilityGroup']==2]=-2\n",
    "data['MathAbilityGroup'].loc[data['MathAbilityGroup']==3]=-3\n",
    "data['MathAbilityGroup'].loc[data['MathAbilityGroup']==4]=0\n",
    "data['MathAbilityGroup'].loc[data['MathAbilityGroup']==5]=-10\n",
    "data['MathAbilityGroup'].loc[data['MathAbilityGroup']==6]=-10\n",
    "data['MathAbilityGroup'].loc[data['MathAbilityGroup']==8]=-11\n",
    "data['MathAbilityGroup'].loc[data['MathAbilityGroup']==-1]=3\n",
    "data['MathAbilityGroup'].loc[data['MathAbilityGroup']==-2]=2\n",
    "data['MathAbilityGroup'].loc[data['MathAbilityGroup']==-3]=1\n",
    "data['MathAbilityGroup'].loc[data['MathAbilityGroup']==-10]=0\n",
    "data['MathAbilityGroup'].loc[data['MathAbilityGroup']==-11]=0\n",
    "\n",
    "data['ScienceAbilityGroup'].loc[data['ScienceAbilityGroup']==1]=-1\n",
    "data['ScienceAbilityGroup'].loc[data['ScienceAbilityGroup']==2]=-2\n",
    "data['ScienceAbilityGroup'].loc[data['ScienceAbilityGroup']==3]=-3\n",
    "data['ScienceAbilityGroup'].loc[data['ScienceAbilityGroup']==4]=0\n",
    "data['ScienceAbilityGroup'].loc[data['ScienceAbilityGroup']==5]=-10\n",
    "data['ScienceAbilityGroup'].loc[data['ScienceAbilityGroup']==6]=-10\n",
    "data['ScienceAbilityGroup'].loc[data['ScienceAbilityGroup']==8]=-11\n",
    "data['ScienceAbilityGroup'].loc[data['ScienceAbilityGroup']==-1]=3\n",
    "data['ScienceAbilityGroup'].loc[data['ScienceAbilityGroup']==-2]=2\n",
    "data['ScienceAbilityGroup'].loc[data['ScienceAbilityGroup']==-3]=1\n",
    "data['ScienceAbilityGroup'].loc[data['ScienceAbilityGroup']==-10]=0\n",
    "data['ScienceAbilityGroup'].loc[data['ScienceAbilityGroup']==-11]=0\n",
    "\n",
    "data['EnglishClassAbilityGroup'].loc[data['EnglishClassAbilityGroup']==1]=-1\n",
    "data['EnglishClassAbilityGroup'].loc[data['EnglishClassAbilityGroup']==2]=-2\n",
    "data['EnglishClassAbilityGroup'].loc[data['EnglishClassAbilityGroup']==3]=-3\n",
    "data['EnglishClassAbilityGroup'].loc[data['EnglishClassAbilityGroup']==4]=0\n",
    "data['EnglishClassAbilityGroup'].loc[data['EnglishClassAbilityGroup']==5]=-10\n",
    "data['EnglishClassAbilityGroup'].loc[data['EnglishClassAbilityGroup']==6]=-10\n",
    "data['EnglishClassAbilityGroup'].loc[data['EnglishClassAbilityGroup']==8]=-11\n",
    "data['EnglishClassAbilityGroup'].loc[data['EnglishClassAbilityGroup']==-1]=3\n",
    "data['EnglishClassAbilityGroup'].loc[data['EnglishClassAbilityGroup']==-2]=2\n",
    "data['EnglishClassAbilityGroup'].loc[data['EnglishClassAbilityGroup']==-3]=1\n",
    "data['EnglishClassAbilityGroup'].loc[data['EnglishClassAbilityGroup']==-10]=0\n",
    "data['EnglishClassAbilityGroup'].loc[data['EnglishClassAbilityGroup']==-11]=0\n",
    "\n",
    "data['HistoryAbilityGroup'].loc[data['HistoryAbilityGroup']==1]=-1\n",
    "data['HistoryAbilityGroup'].loc[data['HistoryAbilityGroup']==2]=-2\n",
    "data['HistoryAbilityGroup'].loc[data['HistoryAbilityGroup']==3]=-3\n",
    "data['HistoryAbilityGroup'].loc[data['HistoryAbilityGroup']==4]=0\n",
    "data['HistoryAbilityGroup'].loc[data['HistoryAbilityGroup']==5]=-10\n",
    "data['HistoryAbilityGroup'].loc[data['HistoryAbilityGroup']==6]=-10\n",
    "data['HistoryAbilityGroup'].loc[data['HistoryAbilityGroup']==8]=-11\n",
    "data['HistoryAbilityGroup'].loc[data['HistoryAbilityGroup']==-1]=3\n",
    "data['HistoryAbilityGroup'].loc[data['HistoryAbilityGroup']==-2]=2\n",
    "data['HistoryAbilityGroup'].loc[data['HistoryAbilityGroup']==-3]=1\n",
    "data['HistoryAbilityGroup'].loc[data['HistoryAbilityGroup']==-10]=0\n",
    "data['HistoryAbilityGroup'].loc[data['HistoryAbilityGroup']==-11]=0\n",
    "\n",
    "data['mathgradesinhs'].loc[data['mathgradesinhs']==96]=10\n",
    "data['mathgradesinhs'].loc[data['mathgradesinhs']==97]=10\n",
    "data['mathgradesinhs'].loc[data['mathgradesinhs']==98]=10\n",
    "\n",
    "data['sciencegradesinhs'].loc[data['sciencegradesinhs']==96]=10\n",
    "data['sciencegradesinhs'].loc[data['sciencegradesinhs']==97]=10\n",
    "data['sciencegradesinhs'].loc[data['sciencegradesinhs']==98]=10\n",
    "\n",
    "data['englishgradesinhs'].loc[data['englishgradesinhs']==96]=10\n",
    "data['englishgradesinhs'].loc[data['englishgradesinhs']==97]=10\n",
    "data['englishgradesinhs'].loc[data['englishgradesinhs']==98]=10\n",
    "\n",
    "data['historygradesinhs'].loc[data['historygradesinhs']==96]=10\n",
    "data['historygradesinhs'].loc[data['historygradesinhs']==97]=10\n",
    "data['historygradesinhs'].loc[data['historygradesinhs']==98]=10\n",
    "\n",
    "data['AggregateMeasureofControl1'].loc[data['AggregateMeasureofControl1']==998]=0\n",
    "\n",
    "data['AggregateMeasureofControl2'].loc[data['AggregateMeasureofControl2']==98]=0\n",
    "\n",
    "data['AggregateMeasureofSelfEsteem1'].loc[data['AggregateMeasureofSelfEsteem1']==98]=0\n",
    "\n",
    "data['OverallAcademicPerformanceComposite'].loc[data['OverallAcademicPerformanceComposite']==98]=0\n",
    "\n",
    "data['Asthingsstandnowhowfarinschooldoyouthinkyouwillget'].loc[data['Asthingsstandnowhowfarinschooldoyouthinkyouwillget']==96]=0\n",
    "data['Asthingsstandnowhowfarinschooldoyouthinkyouwillget'].loc[data['Asthingsstandnowhowfarinschooldoyouthinkyouwillget']==97]=0\n",
    "data['Asthingsstandnowhowfarinschooldoyouthinkyouwillget'].loc[data['Asthingsstandnowhowfarinschooldoyouthinkyouwillget']==98]=0\n",
    "\n",
    "data['Howsureareyouthatyouwillgraduatefromhighschool'].loc[data['Howsureareyouthatyouwillgraduatefromhighschool']==6]=0\n",
    "data['Howsureareyouthatyouwillgraduatefromhighschool'].loc[data['Howsureareyouthatyouwillgraduatefromhighschool']==8]=0\n"
   ]
  },
  {
   "cell_type": "code",
   "execution_count": 391,
   "metadata": {},
   "outputs": [],
   "source": [
    "tier5.remove('ParentsMaritalStatus')\n",
    "\n"
   ]
  },
  {
   "cell_type": "code",
   "execution_count": 692,
   "metadata": {},
   "outputs": [],
   "source": [
    "analysisVars = tier1+tier2+tier3+tier4+tier5+tier6+tier7+tier8\n",
    "data=data[analysisVars]"
   ]
  },
  {
   "cell_type": "code",
   "execution_count": 393,
   "metadata": {},
   "outputs": [
    {
     "data": {
      "text/html": [
       "<div>\n",
       "<style scoped>\n",
       "    .dataframe tbody tr th:only-of-type {\n",
       "        vertical-align: middle;\n",
       "    }\n",
       "\n",
       "    .dataframe tbody tr th {\n",
       "        vertical-align: top;\n",
       "    }\n",
       "\n",
       "    .dataframe thead th {\n",
       "        text-align: right;\n",
       "    }\n",
       "</style>\n",
       "<table border=\"1\" class=\"dataframe\">\n",
       "  <thead>\n",
       "    <tr style=\"text-align: right;\">\n",
       "      <th></th>\n",
       "      <th>Race</th>\n",
       "      <th>FathersEducation</th>\n",
       "      <th>MothersEducation</th>\n",
       "      <th>ParentsHighestEducationLevelfromStuandParqxs</th>\n",
       "      <th>FemGaurdianOccupation</th>\n",
       "      <th>MaleGuardianOccupation</th>\n",
       "      <th>LanguageSpokeninHome</th>\n",
       "      <th>AnnualFamilyIncome</th>\n",
       "      <th>SocioeconomicStatusComposite</th>\n",
       "      <th>Urbanicity</th>\n",
       "      <th>...</th>\n",
       "      <th>sciencegradesinhs</th>\n",
       "      <th>ReadingStandardizedScore</th>\n",
       "      <th>MathStandardizedScore</th>\n",
       "      <th>ScienceStandardizedScore</th>\n",
       "      <th>HistoryStandardizedScore</th>\n",
       "      <th>OverallAcademicPerformanceComposite</th>\n",
       "      <th>AggregateMeasureofSelfEsteem1</th>\n",
       "      <th>AggregateMeasureofSelfEsteem2</th>\n",
       "      <th>Asthingsstandnowhowfarinschooldoyouthinkyouwillget</th>\n",
       "      <th>Howsureareyouthatyouwillgraduatefromhighschool</th>\n",
       "    </tr>\n",
       "    <tr>\n",
       "      <th>id</th>\n",
       "      <th></th>\n",
       "      <th></th>\n",
       "      <th></th>\n",
       "      <th></th>\n",
       "      <th></th>\n",
       "      <th></th>\n",
       "      <th></th>\n",
       "      <th></th>\n",
       "      <th></th>\n",
       "      <th></th>\n",
       "      <th></th>\n",
       "      <th></th>\n",
       "      <th></th>\n",
       "      <th></th>\n",
       "      <th></th>\n",
       "      <th></th>\n",
       "      <th></th>\n",
       "      <th></th>\n",
       "      <th></th>\n",
       "      <th></th>\n",
       "      <th></th>\n",
       "    </tr>\n",
       "  </thead>\n",
       "  <tbody>\n",
       "    <tr>\n",
       "      <td>124966</td>\n",
       "      <td>4</td>\n",
       "      <td>1</td>\n",
       "      <td>2</td>\n",
       "      <td>0.71</td>\n",
       "      <td>2</td>\n",
       "      <td>2</td>\n",
       "      <td>1</td>\n",
       "      <td>3</td>\n",
       "      <td>0.89</td>\n",
       "      <td>1</td>\n",
       "      <td>...</td>\n",
       "      <td>2.0</td>\n",
       "      <td>0.0</td>\n",
       "      <td>2.0</td>\n",
       "      <td>0.0</td>\n",
       "      <td>3.0</td>\n",
       "      <td>5</td>\n",
       "      <td>74</td>\n",
       "      <td>0.81</td>\n",
       "      <td>1</td>\n",
       "      <td>4</td>\n",
       "    </tr>\n",
       "    <tr>\n",
       "      <td>124968</td>\n",
       "      <td>4</td>\n",
       "      <td>2</td>\n",
       "      <td>2</td>\n",
       "      <td>0.72</td>\n",
       "      <td>1</td>\n",
       "      <td>8</td>\n",
       "      <td>99</td>\n",
       "      <td>3</td>\n",
       "      <td>0.92</td>\n",
       "      <td>1</td>\n",
       "      <td>...</td>\n",
       "      <td>2.0</td>\n",
       "      <td>3.0</td>\n",
       "      <td>2.0</td>\n",
       "      <td>0.0</td>\n",
       "      <td>2.0</td>\n",
       "      <td>4</td>\n",
       "      <td>74</td>\n",
       "      <td>1.24</td>\n",
       "      <td>1</td>\n",
       "      <td>4</td>\n",
       "    </tr>\n",
       "    <tr>\n",
       "      <td>124972</td>\n",
       "      <td>4</td>\n",
       "      <td>3</td>\n",
       "      <td>3</td>\n",
       "      <td>-0.02</td>\n",
       "      <td>1</td>\n",
       "      <td>12</td>\n",
       "      <td>99</td>\n",
       "      <td>3</td>\n",
       "      <td>-0.16</td>\n",
       "      <td>1</td>\n",
       "      <td>...</td>\n",
       "      <td>2.0</td>\n",
       "      <td>4.0</td>\n",
       "      <td>2.0</td>\n",
       "      <td>0.0</td>\n",
       "      <td>2.0</td>\n",
       "      <td>4</td>\n",
       "      <td>74</td>\n",
       "      <td>-0.04</td>\n",
       "      <td>2</td>\n",
       "      <td>3</td>\n",
       "    </tr>\n",
       "    <tr>\n",
       "      <td>124999</td>\n",
       "      <td>4</td>\n",
       "      <td>2</td>\n",
       "      <td>2</td>\n",
       "      <td>1.10</td>\n",
       "      <td>1</td>\n",
       "      <td>5</td>\n",
       "      <td>99</td>\n",
       "      <td>3</td>\n",
       "      <td>0.23</td>\n",
       "      <td>1</td>\n",
       "      <td>...</td>\n",
       "      <td>2.0</td>\n",
       "      <td>4.0</td>\n",
       "      <td>2.0</td>\n",
       "      <td>0.0</td>\n",
       "      <td>3.0</td>\n",
       "      <td>2</td>\n",
       "      <td>73</td>\n",
       "      <td>0.38</td>\n",
       "      <td>2</td>\n",
       "      <td>4</td>\n",
       "    </tr>\n",
       "    <tr>\n",
       "      <td>175551</td>\n",
       "      <td>3</td>\n",
       "      <td>2</td>\n",
       "      <td>3</td>\n",
       "      <td>0.32</td>\n",
       "      <td>1</td>\n",
       "      <td>6</td>\n",
       "      <td>99</td>\n",
       "      <td>3</td>\n",
       "      <td>0.02</td>\n",
       "      <td>1</td>\n",
       "      <td>...</td>\n",
       "      <td>2.0</td>\n",
       "      <td>3.0</td>\n",
       "      <td>2.0</td>\n",
       "      <td>0.0</td>\n",
       "      <td>0.0</td>\n",
       "      <td>6</td>\n",
       "      <td>73</td>\n",
       "      <td>-0.04</td>\n",
       "      <td>2</td>\n",
       "      <td>2</td>\n",
       "    </tr>\n",
       "  </tbody>\n",
       "</table>\n",
       "<p>5 rows × 51 columns</p>\n",
       "</div>"
      ],
      "text/plain": [
       "       Race FathersEducation MothersEducation  \\\n",
       "id                                              \n",
       "124966    4                1                2   \n",
       "124968    4                2                2   \n",
       "124972    4                3                3   \n",
       "124999    4                2                2   \n",
       "175551    3                2                3   \n",
       "\n",
       "        ParentsHighestEducationLevelfromStuandParqxs FemGaurdianOccupation  \\\n",
       "id                                                                           \n",
       "124966                                          0.71                     2   \n",
       "124968                                          0.72                     1   \n",
       "124972                                         -0.02                     1   \n",
       "124999                                          1.10                     1   \n",
       "175551                                          0.32                     1   \n",
       "\n",
       "       MaleGuardianOccupation LanguageSpokeninHome AnnualFamilyIncome  \\\n",
       "id                                                                      \n",
       "124966                      2                    1                  3   \n",
       "124968                      8                   99                  3   \n",
       "124972                     12                   99                  3   \n",
       "124999                      5                   99                  3   \n",
       "175551                      6                   99                  3   \n",
       "\n",
       "        SocioeconomicStatusComposite Urbanicity  ... sciencegradesinhs  \\\n",
       "id                                               ...                     \n",
       "124966                          0.89          1  ...               2.0   \n",
       "124968                          0.92          1  ...               2.0   \n",
       "124972                         -0.16          1  ...               2.0   \n",
       "124999                          0.23          1  ...               2.0   \n",
       "175551                          0.02          1  ...               2.0   \n",
       "\n",
       "       ReadingStandardizedScore MathStandardizedScore  \\\n",
       "id                                                      \n",
       "124966                      0.0                   2.0   \n",
       "124968                      3.0                   2.0   \n",
       "124972                      4.0                   2.0   \n",
       "124999                      4.0                   2.0   \n",
       "175551                      3.0                   2.0   \n",
       "\n",
       "       ScienceStandardizedScore HistoryStandardizedScore  \\\n",
       "id                                                         \n",
       "124966                      0.0                      3.0   \n",
       "124968                      0.0                      2.0   \n",
       "124972                      0.0                      2.0   \n",
       "124999                      0.0                      3.0   \n",
       "175551                      0.0                      0.0   \n",
       "\n",
       "       OverallAcademicPerformanceComposite AggregateMeasureofSelfEsteem1  \\\n",
       "id                                                                         \n",
       "124966                                   5                            74   \n",
       "124968                                   4                            74   \n",
       "124972                                   4                            74   \n",
       "124999                                   2                            73   \n",
       "175551                                   6                            73   \n",
       "\n",
       "       AggregateMeasureofSelfEsteem2  \\\n",
       "id                                     \n",
       "124966                          0.81   \n",
       "124968                          1.24   \n",
       "124972                         -0.04   \n",
       "124999                          0.38   \n",
       "175551                         -0.04   \n",
       "\n",
       "       Asthingsstandnowhowfarinschooldoyouthinkyouwillget  \\\n",
       "id                                                          \n",
       "124966                                                  1   \n",
       "124968                                                  1   \n",
       "124972                                                  2   \n",
       "124999                                                  2   \n",
       "175551                                                  2   \n",
       "\n",
       "       Howsureareyouthatyouwillgraduatefromhighschool  \n",
       "id                                                     \n",
       "124966                                              4  \n",
       "124968                                              4  \n",
       "124972                                              3  \n",
       "124999                                              4  \n",
       "175551                                              2  \n",
       "\n",
       "[5 rows x 51 columns]"
      ]
     },
     "execution_count": 393,
     "metadata": {},
     "output_type": "execute_result"
    }
   ],
   "source": [
    "for item in var2type.items():\n",
    "    if item[1]=='int64':\n",
    "        var2type[item[0]]=\"category\"\n",
    "data=data.astype(var2type)\n",
    "data.head()"
   ]
  },
  {
   "cell_type": "code",
   "execution_count": 394,
   "metadata": {},
   "outputs": [
    {
     "data": {
      "text/plain": [
       "id\n",
       "124966     0.0\n",
       "124968     3.0\n",
       "124972     4.0\n",
       "124999     4.0\n",
       "175551     3.0\n",
       "          ... \n",
       "9196922    3.0\n",
       "9196931    3.0\n",
       "9196944    5.0\n",
       "9199107    5.0\n",
       "9199195    4.0\n",
       "Name: ReadingStandardizedScore, Length: 1814, dtype: category\n",
       "Categories (6, float64): [0.0, 1.0, 2.0, 3.0, 4.0, 5.0]"
      ]
     },
     "execution_count": 394,
     "metadata": {},
     "output_type": "execute_result"
    }
   ],
   "source": [
    "#no missing data, data columns are named appropriately, discrete2type dict maps discrete vars to either ordinal or nominal\n",
    "#var2type dict maps vars to either discrete or continuous, within the df, the discrete vars are dtype categories, ordinal variables' values have been adjusted\n",
    "# so that the bs entries are grouped to be 0 (ie: lower, bad value), now we should "
   ]
  },
  {
   "cell_type": "code",
   "execution_count": 693,
   "metadata": {},
   "outputs": [
    {
     "data": {
      "text/plain": [
       "{'Race': [1, 2, 3, 4, 5],\n",
       " 'FathersEducation': [1, 2, 3, 4, 5, 6, 7],\n",
       " 'MothersEducation': [1, 2, 3, 4, 5, 6, 7],\n",
       " 'FemGaurdianOccupation': [1, 2, 3, 4, 7, 8, 9],\n",
       " 'MaleGuardianOccupation': [1,\n",
       "  2,\n",
       "  3,\n",
       "  4,\n",
       "  5,\n",
       "  6,\n",
       "  7,\n",
       "  8,\n",
       "  9,\n",
       "  10,\n",
       "  11,\n",
       "  12,\n",
       "  13,\n",
       "  14,\n",
       "  15,\n",
       "  16],\n",
       " 'AnnualFamilyIncome': [1, 2, 3, 4, 5, 6, 7],\n",
       " 'Urbanicity': [1, 2, 3],\n",
       " 'Region': [1, 2, 3],\n",
       " 'TimeSpentAtHomeAfterSchoolWithoutAdult': [1, 2],\n",
       " 'AskedIfHomeworkDone': [1, 2, 3, 4],\n",
       " 'AskedToDoChores': [1, 2, 3, 4],\n",
       " 'NumTimesDiscussedCourseMaterialWithGuardians': [1, 2, 3],\n",
       " 'GuardiansAttendedSchoolMeeting': [0, 1, 2],\n",
       " 'GuardiansSpokenToSchool': [0, 1, 2],\n",
       " 'LimitOnTvTime': [1, 2, 3, 4],\n",
       " 'percentMinorityin8thgrade': [1, 2, 3, 4, 5, 6, 7],\n",
       " 'Theteachingisgood': [1, 2, 3, 4],\n",
       " 'percentofSchoolwithDiscountedLunch': [1, 2, 3],\n",
       " 'Prolbemofstudentalcuse': [1, 2, 3, 4],\n",
       " 'problemofstudentdruguse': [1, 2, 3, 4],\n",
       " 'LimitOnTimeWithFriends': [1, 2, 3, 4],\n",
       " 'numtimesyouvedrankalcinlifetime': [1, 2, 3, 4, 5],\n",
       " 'numcigsyousmokeaday': [1, 2, 3, 4, 5],\n",
       " 'MathAbilityGroup': [1, 2, 3, 4],\n",
       " 'ScienceAbilityGroup': [1, 2, 3, 4],\n",
       " 'EnglishClassAbilityGroup': [1, 2, 3, 4],\n",
       " 'HistoryAbilityGroup': [1, 2, 3, 4],\n",
       " 'ReadingStandardizedScore': [1, 2, 3, 4, 5],\n",
       " 'HistoryStandardizedScore': [0, 1, 2, 3],\n",
       " 'PastScienceGrades': [0, 1, 2, 3, 4, 5],\n",
       " 'PastHistoryGrades': [1, 2, 3, 4, 5, 6],\n",
       " 'Relativereadingproficiencylevel': [1, 2, 3, 4, 5, 6, 7, 8],\n",
       " 'Whatkindofworkdoyouexpecttobedoingwhenyouare30yearsold': [1, 2, 3, 4, 6, 8],\n",
       " 'AggregateMeasureofControl1': [0, 1, 2, 3, 4, 5, 6, 7],\n",
       " 'Asthingsstandnowhowfarinschooldoyouthinkyouwillget': [1, 2, 3, 4, 6, 8],\n",
       " 'Howsureareyouthatyouwillgraduatefromhighschool': [1, 2, 3, 4]}"
      ]
     },
     "execution_count": 693,
     "metadata": {},
     "output_type": "execute_result"
    }
   ],
   "source": [
    "levelsDict = {} #maps discrete variable to list of the unique values it takes\n",
    "for item in var2type.items():\n",
    "    if item[1]=='int64':\n",
    "        unique_vals = list(np.sort(data[item[0]].unique().astype(int)))\n",
    "        levelsDict[item[0]]=unique_vals[:]\n",
    "levelsDict"
   ]
  },
  {
   "cell_type": "code",
   "execution_count": 694,
   "metadata": {
    "scrolled": false
   },
   "outputs": [
    {
     "data": {
      "text/plain": [
       "{'Race': ['Race1', 'Race2', 'Race3', 'Race4', 'Race5'],\n",
       " 'FathersEducation': ['FathersEducation1',\n",
       "  'FathersEducation2',\n",
       "  'FathersEducation3',\n",
       "  'FathersEducation4',\n",
       "  'FathersEducation5',\n",
       "  'FathersEducation6',\n",
       "  'FathersEducation7'],\n",
       " 'MothersEducation': ['MothersEducation1',\n",
       "  'MothersEducation2',\n",
       "  'MothersEducation3',\n",
       "  'MothersEducation4',\n",
       "  'MothersEducation5',\n",
       "  'MothersEducation6',\n",
       "  'MothersEducation7'],\n",
       " 'FemGaurdianOccupation': ['FemGaurdianOccupation1',\n",
       "  'FemGaurdianOccupation2',\n",
       "  'FemGaurdianOccupation3',\n",
       "  'FemGaurdianOccupation4',\n",
       "  'FemGaurdianOccupation7',\n",
       "  'FemGaurdianOccupation8',\n",
       "  'FemGaurdianOccupation9'],\n",
       " 'MaleGuardianOccupation': ['MaleGuardianOccupation1',\n",
       "  'MaleGuardianOccupation2',\n",
       "  'MaleGuardianOccupation3',\n",
       "  'MaleGuardianOccupation4',\n",
       "  'MaleGuardianOccupation5',\n",
       "  'MaleGuardianOccupation6',\n",
       "  'MaleGuardianOccupation7',\n",
       "  'MaleGuardianOccupation8',\n",
       "  'MaleGuardianOccupation9',\n",
       "  'MaleGuardianOccupation10',\n",
       "  'MaleGuardianOccupation11',\n",
       "  'MaleGuardianOccupation12',\n",
       "  'MaleGuardianOccupation13',\n",
       "  'MaleGuardianOccupation14',\n",
       "  'MaleGuardianOccupation15',\n",
       "  'MaleGuardianOccupation16'],\n",
       " 'AnnualFamilyIncome': ['AnnualFamilyIncome1',\n",
       "  'AnnualFamilyIncome2',\n",
       "  'AnnualFamilyIncome3',\n",
       "  'AnnualFamilyIncome4',\n",
       "  'AnnualFamilyIncome5',\n",
       "  'AnnualFamilyIncome6',\n",
       "  'AnnualFamilyIncome7'],\n",
       " 'Urbanicity': ['Urbanicity1', 'Urbanicity2', 'Urbanicity3'],\n",
       " 'Region': ['Region1', 'Region2', 'Region3'],\n",
       " 'TimeSpentAtHomeAfterSchoolWithoutAdult': ['TimeSpentAtHomeAfterSchoolWithoutAdult1',\n",
       "  'TimeSpentAtHomeAfterSchoolWithoutAdult2'],\n",
       " 'AskedIfHomeworkDone': ['AskedIfHomeworkDone1',\n",
       "  'AskedIfHomeworkDone2',\n",
       "  'AskedIfHomeworkDone3',\n",
       "  'AskedIfHomeworkDone4'],\n",
       " 'AskedToDoChores': ['AskedToDoChores1',\n",
       "  'AskedToDoChores2',\n",
       "  'AskedToDoChores3',\n",
       "  'AskedToDoChores4'],\n",
       " 'NumTimesDiscussedCourseMaterialWithGuardians': ['NumTimesDiscussedCourseMaterialWithGuardians1',\n",
       "  'NumTimesDiscussedCourseMaterialWithGuardians2',\n",
       "  'NumTimesDiscussedCourseMaterialWithGuardians3'],\n",
       " 'GuardiansAttendedSchoolMeeting': ['GuardiansAttendedSchoolMeeting0',\n",
       "  'GuardiansAttendedSchoolMeeting1',\n",
       "  'GuardiansAttendedSchoolMeeting2'],\n",
       " 'GuardiansSpokenToSchool': ['GuardiansSpokenToSchool0',\n",
       "  'GuardiansSpokenToSchool1',\n",
       "  'GuardiansSpokenToSchool2'],\n",
       " 'LimitOnTvTime': ['LimitOnTvTime1',\n",
       "  'LimitOnTvTime2',\n",
       "  'LimitOnTvTime3',\n",
       "  'LimitOnTvTime4'],\n",
       " 'percentMinorityin8thgrade': ['percentMinorityin8thgrade1',\n",
       "  'percentMinorityin8thgrade2',\n",
       "  'percentMinorityin8thgrade3',\n",
       "  'percentMinorityin8thgrade4',\n",
       "  'percentMinorityin8thgrade5',\n",
       "  'percentMinorityin8thgrade6',\n",
       "  'percentMinorityin8thgrade7'],\n",
       " 'Theteachingisgood': ['Theteachingisgood1',\n",
       "  'Theteachingisgood2',\n",
       "  'Theteachingisgood3',\n",
       "  'Theteachingisgood4'],\n",
       " 'percentofSchoolwithDiscountedLunch': ['percentofSchoolwithDiscountedLunch1',\n",
       "  'percentofSchoolwithDiscountedLunch2',\n",
       "  'percentofSchoolwithDiscountedLunch3'],\n",
       " 'Prolbemofstudentalcuse': ['Prolbemofstudentalcuse1',\n",
       "  'Prolbemofstudentalcuse2',\n",
       "  'Prolbemofstudentalcuse3',\n",
       "  'Prolbemofstudentalcuse4'],\n",
       " 'problemofstudentdruguse': ['problemofstudentdruguse1',\n",
       "  'problemofstudentdruguse2',\n",
       "  'problemofstudentdruguse3',\n",
       "  'problemofstudentdruguse4'],\n",
       " 'LimitOnTimeWithFriends': ['LimitOnTimeWithFriends1',\n",
       "  'LimitOnTimeWithFriends2',\n",
       "  'LimitOnTimeWithFriends3',\n",
       "  'LimitOnTimeWithFriends4'],\n",
       " 'numtimesyouvedrankalcinlifetime': ['numtimesyouvedrankalcinlifetime1',\n",
       "  'numtimesyouvedrankalcinlifetime2',\n",
       "  'numtimesyouvedrankalcinlifetime3',\n",
       "  'numtimesyouvedrankalcinlifetime4',\n",
       "  'numtimesyouvedrankalcinlifetime5'],\n",
       " 'numcigsyousmokeaday': ['numcigsyousmokeaday1',\n",
       "  'numcigsyousmokeaday2',\n",
       "  'numcigsyousmokeaday3',\n",
       "  'numcigsyousmokeaday4',\n",
       "  'numcigsyousmokeaday5'],\n",
       " 'MathAbilityGroup': ['MathAbilityGroup1',\n",
       "  'MathAbilityGroup2',\n",
       "  'MathAbilityGroup3',\n",
       "  'MathAbilityGroup4'],\n",
       " 'ScienceAbilityGroup': ['ScienceAbilityGroup1',\n",
       "  'ScienceAbilityGroup2',\n",
       "  'ScienceAbilityGroup3',\n",
       "  'ScienceAbilityGroup4'],\n",
       " 'EnglishClassAbilityGroup': ['EnglishClassAbilityGroup1',\n",
       "  'EnglishClassAbilityGroup2',\n",
       "  'EnglishClassAbilityGroup3',\n",
       "  'EnglishClassAbilityGroup4'],\n",
       " 'HistoryAbilityGroup': ['HistoryAbilityGroup1',\n",
       "  'HistoryAbilityGroup2',\n",
       "  'HistoryAbilityGroup3',\n",
       "  'HistoryAbilityGroup4'],\n",
       " 'ReadingStandardizedScore': ['ReadingStandardizedScore1',\n",
       "  'ReadingStandardizedScore2',\n",
       "  'ReadingStandardizedScore3',\n",
       "  'ReadingStandardizedScore4',\n",
       "  'ReadingStandardizedScore5'],\n",
       " 'HistoryStandardizedScore': ['HistoryStandardizedScore0',\n",
       "  'HistoryStandardizedScore1',\n",
       "  'HistoryStandardizedScore2',\n",
       "  'HistoryStandardizedScore3'],\n",
       " 'PastScienceGrades': ['PastScienceGrades0',\n",
       "  'PastScienceGrades1',\n",
       "  'PastScienceGrades2',\n",
       "  'PastScienceGrades3',\n",
       "  'PastScienceGrades4',\n",
       "  'PastScienceGrades5'],\n",
       " 'PastHistoryGrades': ['PastHistoryGrades1',\n",
       "  'PastHistoryGrades2',\n",
       "  'PastHistoryGrades3',\n",
       "  'PastHistoryGrades4',\n",
       "  'PastHistoryGrades5',\n",
       "  'PastHistoryGrades6'],\n",
       " 'Relativereadingproficiencylevel': ['Relativereadingproficiencylevel1',\n",
       "  'Relativereadingproficiencylevel2',\n",
       "  'Relativereadingproficiencylevel3',\n",
       "  'Relativereadingproficiencylevel4',\n",
       "  'Relativereadingproficiencylevel5',\n",
       "  'Relativereadingproficiencylevel6',\n",
       "  'Relativereadingproficiencylevel7',\n",
       "  'Relativereadingproficiencylevel8'],\n",
       " 'Whatkindofworkdoyouexpecttobedoingwhenyouare30yearsold': ['Whatkindofworkdoyouexpecttobedoingwhenyouare30yearsold1',\n",
       "  'Whatkindofworkdoyouexpecttobedoingwhenyouare30yearsold2',\n",
       "  'Whatkindofworkdoyouexpecttobedoingwhenyouare30yearsold3',\n",
       "  'Whatkindofworkdoyouexpecttobedoingwhenyouare30yearsold4',\n",
       "  'Whatkindofworkdoyouexpecttobedoingwhenyouare30yearsold6',\n",
       "  'Whatkindofworkdoyouexpecttobedoingwhenyouare30yearsold8'],\n",
       " 'AggregateMeasureofControl1': ['AggregateMeasureofControl10',\n",
       "  'AggregateMeasureofControl11',\n",
       "  'AggregateMeasureofControl12',\n",
       "  'AggregateMeasureofControl13',\n",
       "  'AggregateMeasureofControl14',\n",
       "  'AggregateMeasureofControl15',\n",
       "  'AggregateMeasureofControl16',\n",
       "  'AggregateMeasureofControl17'],\n",
       " 'Asthingsstandnowhowfarinschooldoyouthinkyouwillget': ['Asthingsstandnowhowfarinschooldoyouthinkyouwillget1',\n",
       "  'Asthingsstandnowhowfarinschooldoyouthinkyouwillget2',\n",
       "  'Asthingsstandnowhowfarinschooldoyouthinkyouwillget3',\n",
       "  'Asthingsstandnowhowfarinschooldoyouthinkyouwillget4',\n",
       "  'Asthingsstandnowhowfarinschooldoyouthinkyouwillget6',\n",
       "  'Asthingsstandnowhowfarinschooldoyouthinkyouwillget8'],\n",
       " 'Howsureareyouthatyouwillgraduatefromhighschool': ['Howsureareyouthatyouwillgraduatefromhighschool1',\n",
       "  'Howsureareyouthatyouwillgraduatefromhighschool2',\n",
       "  'Howsureareyouthatyouwillgraduatefromhighschool3',\n",
       "  'Howsureareyouthatyouwillgraduatefromhighschool4']}"
      ]
     },
     "execution_count": 694,
     "metadata": {},
     "output_type": "execute_result"
    }
   ],
   "source": [
    "levelsNames = {} # maps discrete variable to each of its levels' indicator column names\n",
    "for item in levelsDict.items():\n",
    "    var = item[0]\n",
    "    vals = item[1]\n",
    "    temp = []\n",
    "    for i in range(len(vals)):\n",
    "        val=vals[i]\n",
    "        temp.append(var+str(val))\n",
    "    levelsNames[var]=temp[:]\n",
    "levelsNames"
   ]
  },
  {
   "cell_type": "code",
   "execution_count": 695,
   "metadata": {},
   "outputs": [],
   "source": [
    "length = data.shape[0]\n",
    "for item in levelsNames.items():\n",
    "    for i in range(len(item[1])):\n",
    "        if i != len(item[1])-1: #the last category for each discrete variable is the reference value \n",
    "            data[item[1][i]]=pd.Series(np.zeros(length),index=data.index)\n"
   ]
  },
  {
   "cell_type": "code",
   "execution_count": 696,
   "metadata": {},
   "outputs": [
    {
     "data": {
      "text/plain": [
       "{'Race': 5,\n",
       " 'FathersEducation': 7,\n",
       " 'MothersEducation': 7,\n",
       " 'FemGaurdianOccupation': 9,\n",
       " 'MaleGuardianOccupation': 16,\n",
       " 'AnnualFamilyIncome': 7,\n",
       " 'Urbanicity': 3,\n",
       " 'Region': 3,\n",
       " 'TimeSpentAtHomeAfterSchoolWithoutAdult': 2,\n",
       " 'AskedIfHomeworkDone': 4,\n",
       " 'AskedToDoChores': 4,\n",
       " 'NumTimesDiscussedCourseMaterialWithGuardians': 3,\n",
       " 'GuardiansAttendedSchoolMeeting': 2,\n",
       " 'GuardiansSpokenToSchool': 2,\n",
       " 'LimitOnTvTime': 4,\n",
       " 'percentMinorityin8thgrade': 7,\n",
       " 'Theteachingisgood': 4,\n",
       " 'percentofSchoolwithDiscountedLunch': 3,\n",
       " 'Prolbemofstudentalcuse': 4,\n",
       " 'problemofstudentdruguse': 4,\n",
       " 'LimitOnTimeWithFriends': 4,\n",
       " 'numtimesyouvedrankalcinlifetime': 5,\n",
       " 'numcigsyousmokeaday': 5,\n",
       " 'MathAbilityGroup': 4,\n",
       " 'ScienceAbilityGroup': 4,\n",
       " 'EnglishClassAbilityGroup': 4,\n",
       " 'HistoryAbilityGroup': 4,\n",
       " 'ReadingStandardizedScore': 5,\n",
       " 'HistoryStandardizedScore': 3,\n",
       " 'PastScienceGrades': 5,\n",
       " 'PastHistoryGrades': 6,\n",
       " 'Relativereadingproficiencylevel': 8,\n",
       " 'Whatkindofworkdoyouexpecttobedoingwhenyouare30yearsold': 8,\n",
       " 'AggregateMeasureofControl1': 7,\n",
       " 'Asthingsstandnowhowfarinschooldoyouthinkyouwillget': 8,\n",
       " 'Howsureareyouthatyouwillgraduatefromhighschool': 4}"
      ]
     },
     "execution_count": 696,
     "metadata": {},
     "output_type": "execute_result"
    }
   ],
   "source": [
    "levelsReferenceDict = {}\n",
    "for item in levelsDict.items():\n",
    "    var = item[0]\n",
    "    levelsReferenceDict[var]=item[1][len(item[1])-1]\n",
    "levelsReferenceDict"
   ]
  },
  {
   "cell_type": "code",
   "execution_count": 697,
   "metadata": {},
   "outputs": [
    {
     "data": {
      "text/html": [
       "<div>\n",
       "<style scoped>\n",
       "    .dataframe tbody tr th:only-of-type {\n",
       "        vertical-align: middle;\n",
       "    }\n",
       "\n",
       "    .dataframe tbody tr th {\n",
       "        vertical-align: top;\n",
       "    }\n",
       "\n",
       "    .dataframe thead th {\n",
       "        text-align: right;\n",
       "    }\n",
       "</style>\n",
       "<table border=\"1\" class=\"dataframe\">\n",
       "  <thead>\n",
       "    <tr style=\"text-align: right;\">\n",
       "      <th></th>\n",
       "      <th>Race</th>\n",
       "      <th>FathersEducation</th>\n",
       "      <th>MothersEducation</th>\n",
       "      <th>FemGaurdianOccupation</th>\n",
       "      <th>MaleGuardianOccupation</th>\n",
       "      <th>AnnualFamilyIncome</th>\n",
       "      <th>SocioeconomicStatusComposite</th>\n",
       "      <th>Urbanicity</th>\n",
       "      <th>Region</th>\n",
       "      <th>TimeSpentAtHomeAfterSchoolWithoutAdult</th>\n",
       "      <th>...</th>\n",
       "      <th>AggregateMeasureofControl15</th>\n",
       "      <th>AggregateMeasureofControl16</th>\n",
       "      <th>Asthingsstandnowhowfarinschooldoyouthinkyouwillget1</th>\n",
       "      <th>Asthingsstandnowhowfarinschooldoyouthinkyouwillget2</th>\n",
       "      <th>Asthingsstandnowhowfarinschooldoyouthinkyouwillget3</th>\n",
       "      <th>Asthingsstandnowhowfarinschooldoyouthinkyouwillget4</th>\n",
       "      <th>Asthingsstandnowhowfarinschooldoyouthinkyouwillget6</th>\n",
       "      <th>Howsureareyouthatyouwillgraduatefromhighschool1</th>\n",
       "      <th>Howsureareyouthatyouwillgraduatefromhighschool2</th>\n",
       "      <th>Howsureareyouthatyouwillgraduatefromhighschool3</th>\n",
       "    </tr>\n",
       "    <tr>\n",
       "      <th>id</th>\n",
       "      <th></th>\n",
       "      <th></th>\n",
       "      <th></th>\n",
       "      <th></th>\n",
       "      <th></th>\n",
       "      <th></th>\n",
       "      <th></th>\n",
       "      <th></th>\n",
       "      <th></th>\n",
       "      <th></th>\n",
       "      <th></th>\n",
       "      <th></th>\n",
       "      <th></th>\n",
       "      <th></th>\n",
       "      <th></th>\n",
       "      <th></th>\n",
       "      <th></th>\n",
       "      <th></th>\n",
       "      <th></th>\n",
       "      <th></th>\n",
       "      <th></th>\n",
       "    </tr>\n",
       "  </thead>\n",
       "  <tbody>\n",
       "    <tr>\n",
       "      <td>124966</td>\n",
       "      <td>4</td>\n",
       "      <td>1</td>\n",
       "      <td>2</td>\n",
       "      <td>2</td>\n",
       "      <td>2</td>\n",
       "      <td>3</td>\n",
       "      <td>0.89</td>\n",
       "      <td>1</td>\n",
       "      <td>1</td>\n",
       "      <td>1</td>\n",
       "      <td>...</td>\n",
       "      <td>0.0</td>\n",
       "      <td>0.0</td>\n",
       "      <td>1.0</td>\n",
       "      <td>0.0</td>\n",
       "      <td>0.0</td>\n",
       "      <td>0.0</td>\n",
       "      <td>0.0</td>\n",
       "      <td>0.0</td>\n",
       "      <td>0.0</td>\n",
       "      <td>0.0</td>\n",
       "    </tr>\n",
       "    <tr>\n",
       "      <td>124968</td>\n",
       "      <td>4</td>\n",
       "      <td>2</td>\n",
       "      <td>2</td>\n",
       "      <td>1</td>\n",
       "      <td>8</td>\n",
       "      <td>3</td>\n",
       "      <td>0.92</td>\n",
       "      <td>1</td>\n",
       "      <td>1</td>\n",
       "      <td>2</td>\n",
       "      <td>...</td>\n",
       "      <td>0.0</td>\n",
       "      <td>0.0</td>\n",
       "      <td>1.0</td>\n",
       "      <td>0.0</td>\n",
       "      <td>0.0</td>\n",
       "      <td>0.0</td>\n",
       "      <td>0.0</td>\n",
       "      <td>0.0</td>\n",
       "      <td>0.0</td>\n",
       "      <td>0.0</td>\n",
       "    </tr>\n",
       "    <tr>\n",
       "      <td>124972</td>\n",
       "      <td>4</td>\n",
       "      <td>3</td>\n",
       "      <td>3</td>\n",
       "      <td>1</td>\n",
       "      <td>12</td>\n",
       "      <td>3</td>\n",
       "      <td>-0.16</td>\n",
       "      <td>1</td>\n",
       "      <td>1</td>\n",
       "      <td>1</td>\n",
       "      <td>...</td>\n",
       "      <td>0.0</td>\n",
       "      <td>0.0</td>\n",
       "      <td>0.0</td>\n",
       "      <td>1.0</td>\n",
       "      <td>0.0</td>\n",
       "      <td>0.0</td>\n",
       "      <td>0.0</td>\n",
       "      <td>0.0</td>\n",
       "      <td>0.0</td>\n",
       "      <td>1.0</td>\n",
       "    </tr>\n",
       "    <tr>\n",
       "      <td>124999</td>\n",
       "      <td>4</td>\n",
       "      <td>2</td>\n",
       "      <td>2</td>\n",
       "      <td>1</td>\n",
       "      <td>5</td>\n",
       "      <td>3</td>\n",
       "      <td>0.23</td>\n",
       "      <td>1</td>\n",
       "      <td>1</td>\n",
       "      <td>1</td>\n",
       "      <td>...</td>\n",
       "      <td>0.0</td>\n",
       "      <td>0.0</td>\n",
       "      <td>0.0</td>\n",
       "      <td>1.0</td>\n",
       "      <td>0.0</td>\n",
       "      <td>0.0</td>\n",
       "      <td>0.0</td>\n",
       "      <td>0.0</td>\n",
       "      <td>0.0</td>\n",
       "      <td>0.0</td>\n",
       "    </tr>\n",
       "    <tr>\n",
       "      <td>175551</td>\n",
       "      <td>3</td>\n",
       "      <td>2</td>\n",
       "      <td>3</td>\n",
       "      <td>1</td>\n",
       "      <td>6</td>\n",
       "      <td>3</td>\n",
       "      <td>0.02</td>\n",
       "      <td>1</td>\n",
       "      <td>1</td>\n",
       "      <td>1</td>\n",
       "      <td>...</td>\n",
       "      <td>0.0</td>\n",
       "      <td>0.0</td>\n",
       "      <td>0.0</td>\n",
       "      <td>1.0</td>\n",
       "      <td>0.0</td>\n",
       "      <td>0.0</td>\n",
       "      <td>0.0</td>\n",
       "      <td>0.0</td>\n",
       "      <td>1.0</td>\n",
       "      <td>0.0</td>\n",
       "    </tr>\n",
       "    <tr>\n",
       "      <td>...</td>\n",
       "      <td>...</td>\n",
       "      <td>...</td>\n",
       "      <td>...</td>\n",
       "      <td>...</td>\n",
       "      <td>...</td>\n",
       "      <td>...</td>\n",
       "      <td>...</td>\n",
       "      <td>...</td>\n",
       "      <td>...</td>\n",
       "      <td>...</td>\n",
       "      <td>...</td>\n",
       "      <td>...</td>\n",
       "      <td>...</td>\n",
       "      <td>...</td>\n",
       "      <td>...</td>\n",
       "      <td>...</td>\n",
       "      <td>...</td>\n",
       "      <td>...</td>\n",
       "      <td>...</td>\n",
       "      <td>...</td>\n",
       "      <td>...</td>\n",
       "    </tr>\n",
       "    <tr>\n",
       "      <td>9196922</td>\n",
       "      <td>4</td>\n",
       "      <td>6</td>\n",
       "      <td>6</td>\n",
       "      <td>1</td>\n",
       "      <td>9</td>\n",
       "      <td>4</td>\n",
       "      <td>-2.31</td>\n",
       "      <td>1</td>\n",
       "      <td>1</td>\n",
       "      <td>1</td>\n",
       "      <td>...</td>\n",
       "      <td>0.0</td>\n",
       "      <td>0.0</td>\n",
       "      <td>0.0</td>\n",
       "      <td>0.0</td>\n",
       "      <td>0.0</td>\n",
       "      <td>1.0</td>\n",
       "      <td>0.0</td>\n",
       "      <td>0.0</td>\n",
       "      <td>0.0</td>\n",
       "      <td>1.0</td>\n",
       "    </tr>\n",
       "    <tr>\n",
       "      <td>9196931</td>\n",
       "      <td>4</td>\n",
       "      <td>5</td>\n",
       "      <td>5</td>\n",
       "      <td>1</td>\n",
       "      <td>6</td>\n",
       "      <td>4</td>\n",
       "      <td>-0.22</td>\n",
       "      <td>1</td>\n",
       "      <td>1</td>\n",
       "      <td>1</td>\n",
       "      <td>...</td>\n",
       "      <td>0.0</td>\n",
       "      <td>0.0</td>\n",
       "      <td>0.0</td>\n",
       "      <td>0.0</td>\n",
       "      <td>1.0</td>\n",
       "      <td>0.0</td>\n",
       "      <td>0.0</td>\n",
       "      <td>0.0</td>\n",
       "      <td>0.0</td>\n",
       "      <td>1.0</td>\n",
       "    </tr>\n",
       "    <tr>\n",
       "      <td>9196944</td>\n",
       "      <td>4</td>\n",
       "      <td>4</td>\n",
       "      <td>2</td>\n",
       "      <td>1</td>\n",
       "      <td>13</td>\n",
       "      <td>3</td>\n",
       "      <td>0.44</td>\n",
       "      <td>1</td>\n",
       "      <td>1</td>\n",
       "      <td>1</td>\n",
       "      <td>...</td>\n",
       "      <td>0.0</td>\n",
       "      <td>0.0</td>\n",
       "      <td>0.0</td>\n",
       "      <td>1.0</td>\n",
       "      <td>0.0</td>\n",
       "      <td>0.0</td>\n",
       "      <td>0.0</td>\n",
       "      <td>0.0</td>\n",
       "      <td>0.0</td>\n",
       "      <td>0.0</td>\n",
       "    </tr>\n",
       "    <tr>\n",
       "      <td>9199107</td>\n",
       "      <td>4</td>\n",
       "      <td>4</td>\n",
       "      <td>4</td>\n",
       "      <td>1</td>\n",
       "      <td>13</td>\n",
       "      <td>4</td>\n",
       "      <td>1.05</td>\n",
       "      <td>1</td>\n",
       "      <td>1</td>\n",
       "      <td>1</td>\n",
       "      <td>...</td>\n",
       "      <td>0.0</td>\n",
       "      <td>0.0</td>\n",
       "      <td>0.0</td>\n",
       "      <td>1.0</td>\n",
       "      <td>0.0</td>\n",
       "      <td>0.0</td>\n",
       "      <td>0.0</td>\n",
       "      <td>0.0</td>\n",
       "      <td>0.0</td>\n",
       "      <td>0.0</td>\n",
       "    </tr>\n",
       "    <tr>\n",
       "      <td>9199195</td>\n",
       "      <td>4</td>\n",
       "      <td>6</td>\n",
       "      <td>5</td>\n",
       "      <td>1</td>\n",
       "      <td>6</td>\n",
       "      <td>5</td>\n",
       "      <td>0.42</td>\n",
       "      <td>1</td>\n",
       "      <td>1</td>\n",
       "      <td>2</td>\n",
       "      <td>...</td>\n",
       "      <td>0.0</td>\n",
       "      <td>0.0</td>\n",
       "      <td>0.0</td>\n",
       "      <td>1.0</td>\n",
       "      <td>0.0</td>\n",
       "      <td>0.0</td>\n",
       "      <td>0.0</td>\n",
       "      <td>0.0</td>\n",
       "      <td>0.0</td>\n",
       "      <td>0.0</td>\n",
       "    </tr>\n",
       "  </tbody>\n",
       "</table>\n",
       "<p>1742 rows × 184 columns</p>\n",
       "</div>"
      ],
      "text/plain": [
       "         Race  FathersEducation  MothersEducation  FemGaurdianOccupation  \\\n",
       "id                                                                         \n",
       "124966      4                 1                 2                      2   \n",
       "124968      4                 2                 2                      1   \n",
       "124972      4                 3                 3                      1   \n",
       "124999      4                 2                 2                      1   \n",
       "175551      3                 2                 3                      1   \n",
       "...       ...               ...               ...                    ...   \n",
       "9196922     4                 6                 6                      1   \n",
       "9196931     4                 5                 5                      1   \n",
       "9196944     4                 4                 2                      1   \n",
       "9199107     4                 4                 4                      1   \n",
       "9199195     4                 6                 5                      1   \n",
       "\n",
       "         MaleGuardianOccupation  AnnualFamilyIncome  \\\n",
       "id                                                    \n",
       "124966                        2                   3   \n",
       "124968                        8                   3   \n",
       "124972                       12                   3   \n",
       "124999                        5                   3   \n",
       "175551                        6                   3   \n",
       "...                         ...                 ...   \n",
       "9196922                       9                   4   \n",
       "9196931                       6                   4   \n",
       "9196944                      13                   3   \n",
       "9199107                      13                   4   \n",
       "9199195                       6                   5   \n",
       "\n",
       "         SocioeconomicStatusComposite  Urbanicity  Region  \\\n",
       "id                                                          \n",
       "124966                           0.89           1       1   \n",
       "124968                           0.92           1       1   \n",
       "124972                          -0.16           1       1   \n",
       "124999                           0.23           1       1   \n",
       "175551                           0.02           1       1   \n",
       "...                               ...         ...     ...   \n",
       "9196922                         -2.31           1       1   \n",
       "9196931                         -0.22           1       1   \n",
       "9196944                          0.44           1       1   \n",
       "9199107                          1.05           1       1   \n",
       "9199195                          0.42           1       1   \n",
       "\n",
       "         TimeSpentAtHomeAfterSchoolWithoutAdult  ...  \\\n",
       "id                                               ...   \n",
       "124966                                        1  ...   \n",
       "124968                                        2  ...   \n",
       "124972                                        1  ...   \n",
       "124999                                        1  ...   \n",
       "175551                                        1  ...   \n",
       "...                                         ...  ...   \n",
       "9196922                                       1  ...   \n",
       "9196931                                       1  ...   \n",
       "9196944                                       1  ...   \n",
       "9199107                                       1  ...   \n",
       "9199195                                       2  ...   \n",
       "\n",
       "         AggregateMeasureofControl15  AggregateMeasureofControl16  \\\n",
       "id                                                                  \n",
       "124966                           0.0                          0.0   \n",
       "124968                           0.0                          0.0   \n",
       "124972                           0.0                          0.0   \n",
       "124999                           0.0                          0.0   \n",
       "175551                           0.0                          0.0   \n",
       "...                              ...                          ...   \n",
       "9196922                          0.0                          0.0   \n",
       "9196931                          0.0                          0.0   \n",
       "9196944                          0.0                          0.0   \n",
       "9199107                          0.0                          0.0   \n",
       "9199195                          0.0                          0.0   \n",
       "\n",
       "         Asthingsstandnowhowfarinschooldoyouthinkyouwillget1  \\\n",
       "id                                                             \n",
       "124966                                                 1.0     \n",
       "124968                                                 1.0     \n",
       "124972                                                 0.0     \n",
       "124999                                                 0.0     \n",
       "175551                                                 0.0     \n",
       "...                                                    ...     \n",
       "9196922                                                0.0     \n",
       "9196931                                                0.0     \n",
       "9196944                                                0.0     \n",
       "9199107                                                0.0     \n",
       "9199195                                                0.0     \n",
       "\n",
       "         Asthingsstandnowhowfarinschooldoyouthinkyouwillget2  \\\n",
       "id                                                             \n",
       "124966                                                 0.0     \n",
       "124968                                                 0.0     \n",
       "124972                                                 1.0     \n",
       "124999                                                 1.0     \n",
       "175551                                                 1.0     \n",
       "...                                                    ...     \n",
       "9196922                                                0.0     \n",
       "9196931                                                0.0     \n",
       "9196944                                                1.0     \n",
       "9199107                                                1.0     \n",
       "9199195                                                1.0     \n",
       "\n",
       "         Asthingsstandnowhowfarinschooldoyouthinkyouwillget3  \\\n",
       "id                                                             \n",
       "124966                                                 0.0     \n",
       "124968                                                 0.0     \n",
       "124972                                                 0.0     \n",
       "124999                                                 0.0     \n",
       "175551                                                 0.0     \n",
       "...                                                    ...     \n",
       "9196922                                                0.0     \n",
       "9196931                                                1.0     \n",
       "9196944                                                0.0     \n",
       "9199107                                                0.0     \n",
       "9199195                                                0.0     \n",
       "\n",
       "         Asthingsstandnowhowfarinschooldoyouthinkyouwillget4  \\\n",
       "id                                                             \n",
       "124966                                                 0.0     \n",
       "124968                                                 0.0     \n",
       "124972                                                 0.0     \n",
       "124999                                                 0.0     \n",
       "175551                                                 0.0     \n",
       "...                                                    ...     \n",
       "9196922                                                1.0     \n",
       "9196931                                                0.0     \n",
       "9196944                                                0.0     \n",
       "9199107                                                0.0     \n",
       "9199195                                                0.0     \n",
       "\n",
       "         Asthingsstandnowhowfarinschooldoyouthinkyouwillget6  \\\n",
       "id                                                             \n",
       "124966                                                 0.0     \n",
       "124968                                                 0.0     \n",
       "124972                                                 0.0     \n",
       "124999                                                 0.0     \n",
       "175551                                                 0.0     \n",
       "...                                                    ...     \n",
       "9196922                                                0.0     \n",
       "9196931                                                0.0     \n",
       "9196944                                                0.0     \n",
       "9199107                                                0.0     \n",
       "9199195                                                0.0     \n",
       "\n",
       "         Howsureareyouthatyouwillgraduatefromhighschool1  \\\n",
       "id                                                         \n",
       "124966                                               0.0   \n",
       "124968                                               0.0   \n",
       "124972                                               0.0   \n",
       "124999                                               0.0   \n",
       "175551                                               0.0   \n",
       "...                                                  ...   \n",
       "9196922                                              0.0   \n",
       "9196931                                              0.0   \n",
       "9196944                                              0.0   \n",
       "9199107                                              0.0   \n",
       "9199195                                              0.0   \n",
       "\n",
       "         Howsureareyouthatyouwillgraduatefromhighschool2  \\\n",
       "id                                                         \n",
       "124966                                               0.0   \n",
       "124968                                               0.0   \n",
       "124972                                               0.0   \n",
       "124999                                               0.0   \n",
       "175551                                               1.0   \n",
       "...                                                  ...   \n",
       "9196922                                              0.0   \n",
       "9196931                                              0.0   \n",
       "9196944                                              0.0   \n",
       "9199107                                              0.0   \n",
       "9199195                                              0.0   \n",
       "\n",
       "         Howsureareyouthatyouwillgraduatefromhighschool3  \n",
       "id                                                        \n",
       "124966                                               0.0  \n",
       "124968                                               0.0  \n",
       "124972                                               1.0  \n",
       "124999                                               0.0  \n",
       "175551                                               0.0  \n",
       "...                                                  ...  \n",
       "9196922                                              1.0  \n",
       "9196931                                              1.0  \n",
       "9196944                                              0.0  \n",
       "9199107                                              0.0  \n",
       "9199195                                              0.0  \n",
       "\n",
       "[1742 rows x 184 columns]"
      ]
     },
     "execution_count": 697,
     "metadata": {},
     "output_type": "execute_result"
    }
   ],
   "source": [
    "cols = list(levelsNames.keys())\n",
    "for i in range(data.shape[0]):\n",
    "    for col in cols:\n",
    "        if var2type[col]=='int64':\n",
    "            #discrete variable\n",
    "            val = data[col].iloc[i]\n",
    "            if levelsReferenceDict[col]!=val:\n",
    "                data[col+str(int(val))].iloc[i]=1\n",
    "data"
   ]
  },
  {
   "cell_type": "code",
   "execution_count": 730,
   "metadata": {},
   "outputs": [],
   "source": [
    "from statsmodels.miscmodels.ordinal_model import OrderedModel #import this for Logit Ordinal regression\n",
    "import statsmodels.formula.api as smf"
   ]
  },
  {
   "cell_type": "code",
   "execution_count": 731,
   "metadata": {},
   "outputs": [],
   "source": [
    "def markov_blanket_selection(data, target_variable, candidates, varTypeDict,discrete2catDict,levelsNames,ordinal_mn, alpha=1):\n",
    "    \"\"\"\n",
    "    Find the Markov blanket of a variable from a set of candidates.\n",
    "    Since we have simplified the problem to where we assume a known\n",
    "    \"tier-wise\" topological ordering of the variables, the Markov\n",
    "    blanket of a variable is simply its boundary. That is,\n",
    "    mb(Vi) = pa(Vi) \\cup nb(Vi).\n",
    "    \n",
    "    Asymptotically, the forward-backward selection process implemented\n",
    "    below will discover the true Markov blanket of Vi when data comes\n",
    "    from a curved exponential family (due to its reliance on the BIC score.)\n",
    "    \n",
    "    :param data: a Pandas data frame.\n",
    "    :param target_variable: string corresponding to name of the variable whose Markov blanket we want.\n",
    "    :param candidates: iterable of names of candidate variables that will form the Markov blanket.\n",
    "    :param varTypeDict: dictionary mapping variable names to dtype\n",
    "    :param discrete2catDict: maps discrete var names to whether it's ordinal or nominal\n",
    "    :alpha: positive real number controlling the penalty applied to #params in the BIC score\n",
    "    \"\"\"\n",
    "\n",
    "    # initialize the Markov blanket to be the empty set\n",
    "    markov_blanket = set()\n",
    "    candidates = set(candidates)\n",
    "    n = len(data)\n",
    "    poisson = ordinal_mn!=True #determine what type of distribution we are fitting to discrete variables \n",
    "    \n",
    "    # get an initial BIC score for the graph where the Markov blanket is empty\n",
    "    # you can adapt the fitting of these models for continuous/discrete variables as needed\n",
    "    # maybe set up a dictionary mapping from variables to their state space and decide the appropriate model to fit\n",
    "    # currently we will assume all variables are binary\n",
    "    # model = sm.GLM.from_formula(target_variable + '~ 1', data=data, family=sm.families.Gaussian()).fit()\n",
    "    \n",
    "    \n",
    "    #choosing Gaussian GLM family for variables that are continuous \n",
    "    #choosing some dist from GLM family for variables that are discrete \n",
    "    #both are in the curved exponential family \n",
    "    \n",
    "    if varTypeDict[target_variable]=='int64':\n",
    "        #discrete variable, fit with Poisson distribution when dealing with no regressors\n",
    "        model = sm.GLM.from_formula(target_variable + '~ 1', data=data, family=sm.families.Poisson()).fit()\n",
    "    else:\n",
    "        #continuous var so choose Gaussian family\n",
    "        model = sm.GLM.from_formula(target_variable + '~ 1', data=data, family=sm.families.Gaussian()).fit()\n",
    "    \n",
    "    best_bic = -2*model.llf + len(model.params)*np.log(n)\n",
    "    score_change = True\n",
    "    \n",
    "    # forward phase\n",
    "    # greedily minimize the BIC score by adding variables to the Markov blanket\n",
    "    # that result in the best improvement\n",
    "    while score_change:\n",
    "        \n",
    "        score_change = False\n",
    "        best_cand_bic = np.inf\n",
    "        best_cand = \"\"\n",
    "\n",
    "        # go through each possible candidate\n",
    "        for cand_var in candidates:\n",
    "            \n",
    "            # fit a model for the target variable where the candidate is \n",
    "            # added to its current Markov blanket\n",
    "            if varTypeDict[cand_var]=='int64':\n",
    "                levs = levelsNames[cand_var]\n",
    "                formula = target_variable + '~ 1 +' + '+'.join(levs[:-1])\n",
    "            else:\n",
    "                formula = target_variable + '~ 1 +' + cand_var\n",
    "            if len(markov_blanket) > 0:\n",
    "                for variable in markov_blanket:\n",
    "                    if varTypeDict[variable]=='int64':\n",
    "                        levs = levelsNames[variable]\n",
    "                        formula = formula + '+' + '+'.join(levs[:-1])\n",
    "                    else:\n",
    "                        formula = formula + '+' + variable\n",
    "            \n",
    "            if varTypeDict[target_variable]=='int64':\n",
    "                #discrete var\n",
    "                if not poisson:\n",
    "                    if (discrete2catDict[target_variable]=='ordinal'):\n",
    "                        #ordinal variable\n",
    "                        if (len(markov_blanket)==0):\n",
    "                            if varTypeDict[cand_var]!='int64':\n",
    "                                #continuous\n",
    "                                model = OrderedModel(data[target_variable],data[cand_var],distr='logit').fit()\n",
    "                            else:\n",
    "                                levs = levelsNames[cand_var]\n",
    "                                levs = levs[:-1]\n",
    "                                model = OrderedModel(data[target_variable],data[levs],distr='logit').fit()\n",
    "                        else:\n",
    "                            mb = list(markov_blanket)+[cand_var]\n",
    "                            cands = []\n",
    "                            for variable in mb:\n",
    "                                if varTypeDict[variable]!='int64':\n",
    "                                    cands.append(variable)\n",
    "                                else:\n",
    "                                    levs = levelsNames[variable]\n",
    "                                    cands+=levs[:-1]\n",
    "                            model = OrderedModel(data[target_variable],data[cands],distr='logit').fit()\n",
    "                    else:\n",
    "                        #nominal variable \n",
    "                        model = sm.GLM.from_formula(formula, data=data, family=sm.families.Poisson()).fit()\n",
    "                        #if (len(markov_blanket)==0):\n",
    "                         #   model = sm.MNLogit(data[target_variable], data[cand_var]).fit_regularized()\n",
    "                        #else:\n",
    "                         #   mb = list(markov_blanket)+[cand_var]\n",
    "                          #  model = sm.MNLogit(data[target_variable], data[mb].to_numpy()).fit_regularized()\n",
    "                else:\n",
    "                    #fitting Poisson regression\n",
    "                    model = sm.GLM.from_formula(formula, data=data, family=sm.families.Poisson()).fit()\n",
    "            else:\n",
    "                #continuous var so choose Gaussian family\n",
    "                model = sm.GLM.from_formula(formula, data=data, family=sm.families.Gaussian()).fit()\n",
    "            \n",
    "            # compare the BIC score to the best candidate found so far\n",
    "            cand_bic = -2*model.llf + len(model.params)*alpha*np.log(n)\n",
    "            if cand_bic < best_cand_bic:\n",
    "                best_cand = cand_var\n",
    "                best_cand_bic = cand_bic\n",
    "        \n",
    "        # see if the best candidate addition improves on the current optimal Markov blanket\n",
    "        if best_cand_bic < best_bic:\n",
    "            markov_blanket.add(best_cand)\n",
    "            candidates.remove(best_cand)\n",
    "            best_bic = best_cand_bic\n",
    "            score_change = True\n",
    "     \n",
    "    # backward phase\n",
    "    # greedily minimize the BIC score by removing variables from the Markov blanket\n",
    "    # that result in the best improvement\n",
    "    score_change = True\n",
    "    while score_change:\n",
    "        \n",
    "        score_change = False\n",
    "        best_cand_bic = np.inf\n",
    "        best_cand = \"\"\n",
    "\n",
    "        # go through each possible candidate variable to be deleted\n",
    "        for cand_var in markov_blanket:\n",
    "            \n",
    "            # fit a model for the target variable where the candidate is \n",
    "            # deleted to its current Markov blanket\n",
    "            formula = target_variable + '~ 1'\n",
    "            if len(markov_blanket) - 1 > 0: # if theres more than 1 variable in the MB\n",
    "                temp_set = markov_blanket-set([cand_var])\n",
    "                for variable in temp_set:\n",
    "                    if varTypeDict[variable]=='int64':\n",
    "                        levs = levelsNames[variable]\n",
    "                        formula = formula + '+' + '+'.join(levs[:-1])\n",
    "                    else:\n",
    "                        formula = formula + '+' + variable\n",
    "            #formula has all of the MB except for the cand var\n",
    "            if varTypeDict[target_variable]=='int64':\n",
    "                #discrete var\n",
    "                if len(markov_blanket)==1:\n",
    "                    model = sm.GLM.from_formula(formula, data=data, family=sm.families.Poisson()).fit()\n",
    "                else:\n",
    "                    if poisson:\n",
    "                        model = sm.GLM.from_formula(formula, data=data, family=sm.families.Poisson()).fit()\n",
    "                    else:\n",
    "                        if (discrete2catDict[target_variable]=='ordinal'):\n",
    "                            #ordinal\n",
    "                            mb = list(markov_blanket-set([cand_var]))\n",
    "                            cands = []\n",
    "                            for variable in mb:\n",
    "                                if varTypeDict[variable]!='int64':\n",
    "                                    cands.append(variable)\n",
    "                                else:\n",
    "                                    levs = levelsNames[variable]\n",
    "                                    cands+=levs[:-1]\n",
    "                            model = OrderedModel(data[target_variable],data[cands],distr='logit').fit()\n",
    "                        else:\n",
    "                            #nominal\n",
    "                            model = sm.GLM.from_formula(formula, data=data, family=sm.families.Poisson()).fit()\n",
    "                            #mb = list(markov_blanket-set([cand_var]))\n",
    "                            #model = sm.MNLogit(data[target_variable],data[mb].to_numpy()).fit_regularized()\n",
    "            else:\n",
    "                #continuous var so choose Gaussian family\n",
    "                model = sm.GLM.from_formula(formula, data=data, family=sm.families.Gaussian()).fit()\n",
    "            \n",
    "            # compare the BIC score to the best candidate found so far\n",
    "            cand_bic = -2*model.llf + len(model.params)*alpha*np.log(n)\n",
    "            if cand_bic < best_cand_bic:\n",
    "                best_cand = cand_var\n",
    "                best_cand_bic = cand_bic\n",
    "        \n",
    "        # see if the best candidate deletion improves on the current optimal Markov blanket\n",
    "        if best_cand_bic < best_bic:\n",
    "            markov_blanket.remove(best_cand)\n",
    "            best_bic = best_cand_bic\n",
    "            score_change = True\n",
    "        \n",
    "    return markov_blanket\n",
    "\n",
    "def cg_structure_learning(data,originalcols, tier_ordering,varTypeDict,discrete2catDict,levelsNames,ordinal_mn, forbid_within_tier=None, alpha=1):\n",
    "    \"\"\"\n",
    "    A hybrid algorithm based on theory in \n",
    "    1) Javidian et al. 2019 https://arxiv.org/pdf/2006.00970.pdf\n",
    "    2) Bhattacharya et al. 2018 https://arxiv.org/pdf/1907.00221.pdf\n",
    "    \n",
    "    The idea is to provide a rough topological ordering on the variables from background knowledge\n",
    "    and group them into \"tiers\" -- remember form lecture that this feature is also often used in Tetrad\n",
    "    when learning ancestral ADMGs. We restrict edges between tiers as follows:\n",
    "    \n",
    "    a) Variables in earlier tiers can potentially cause those in later tiers, but not vice versa. \n",
    "    b) Dynamic feedback/contagion via undirected edges may occur only between variables within the same tier.\n",
    "    \n",
    "    Good candidates for variables in earlier tiers include variables such\n",
    "    as Age, Sex, Race etc. that should not be caused by other variables. Variables\n",
    "    in later tiers include terminal outcomes such as Survival, Recovered etc.\n",
    "    \n",
    "    If the tier ordering provided is correct,  and the data comes from a curved exponential family\n",
    "    (as we rely on the BIC score) that is faithful with respect to some true chain graph, asymptotically \n",
    "    speaking, the algorithm below will recover the true chain graph exactly.\n",
    "    Note under our restrictions the recovery is exact, i.e., there is no ambiguity of Markov equivalence.\n",
    "    \n",
    "    :param data: pandas DataFrame\n",
    "    :tier_ordering: list of lists. the first list consists of all variables in tier 1, the second all variables in\n",
    "                    tier 2, and so on.\n",
    "    :varTypeDict: map whose key,value pairs are variable name and its data type\n",
    "    :discrete2catDict: map whose key,value paris are discrete var names and whether its ordinal or nominal \n",
    "    :forbid_within_tier: list of booleans. works similar to the Tetrad option. sometimes it is also useful to\n",
    "                         restrict how the undirected edges can occur within a tier. E.g., if the tier contains\n",
    "                         Age and Sex -- these two variables should not be in a dynamic feedback relationship.\n",
    "    :alpha: positive real number controlling the penalty applied to #params in the BIC score\n",
    "    \"\"\"\n",
    "    \n",
    "    if forbid_within_tier is None:\n",
    "        forbid_within_tier = [False]*len(tier_ordering)\n",
    "        \n",
    "    # start with an empty chain graph\n",
    "    estimated_cg = CG(vertices=originalcols)\n",
    "\n",
    "    # go over each tier. let V represent the set of variables\n",
    "    # in the current tier and U represent the set of variables\n",
    "    # in all previous tiers. then at each step we are looking\n",
    "    # to learn edges of the form Vi--Vj and Ui-->Vi. that is,\n",
    "    # at each step we are looking for (and only allow) undirected\n",
    "    # edges between variables within a tier, and directed edges\n",
    "    # from variables in previous tiers to the current tier.\n",
    "    for i, curr_tier in enumerate(tier_ordering):\n",
    "        \n",
    "        # maintain a mapping of variables to their Markov blankets\n",
    "        markov_blankets = {v: set() for v in curr_tier}\n",
    "        \n",
    "        # determine candidates for the Markov blanket from pervious tiers\n",
    "        cands_prev_tiers = set(itertools.chain.from_iterable(tier_ordering[:i]))\n",
    "        # go over each variable Vi in the current tier\n",
    "        for Vi in curr_tier:\n",
    "            if not forbid_within_tier[i]:\n",
    "                cands_curr_tier = set(curr_tier) - set([Vi])\n",
    "            markov_blankets[Vi] = markov_blanket_selection(data, Vi, cands_prev_tiers | cands_curr_tier,varTypeDict,discrete2catDict,levelsNames, ordinal_mn, alpha)\n",
    "            \n",
    "            # add edges Mi -> Vi or Mi -- Vi\n",
    "            # from the learned Markov blanket\n",
    "            for Mi in markov_blankets[Vi]:\n",
    "                \n",
    "                # if Mi is in a previous tier, it must be a directed edge\n",
    "                if Mi in cands_prev_tiers:\n",
    "                    estimated_cg.add_diedge(Mi, Vi)\n",
    "                # otherwise Mi is in the current tier, but we will add the undirected \n",
    "                # edge only if the Vi is also in the Markov blanket of Mi.\n",
    "                # that is, we have Mi -- Vj only if Mi is in mb(Vi) AND Vi is in mb(Mi)\n",
    "                # this rule can be changed/tuned to for example use OR instead of AND\n",
    "                # which will result in denser graphs\n",
    "                elif Vi in markov_blankets[Mi]:\n",
    "                    estimated_cg.add_udedge(Mi, Vi)\n",
    "    \n",
    "    return estimated_cg"
   ]
  },
  {
   "cell_type": "code",
   "execution_count": 786,
   "metadata": {
    "scrolled": true
   },
   "outputs": [],
   "source": [
    "#causal discovery\n",
    "logit = False\n",
    "G = cg_structure_learning(data,cols+['SocioeconomicStatusComposite'],tiers,var2type,discrete2type,levelsNames,logit)\n",
    "graph=G.draw()\n",
    "if logit:\n",
    "    graph.render('cgLogit.gv',view=True)\n",
    "else:\n",
    "    graph.render('cgPoisson.gv',view=True)\n"
   ]
  },
  {
   "cell_type": "code",
   "execution_count": 787,
   "metadata": {},
   "outputs": [
    {
     "data": {
      "text/plain": [
       "{('AskedToDoChores', 'PastScienceGrades'),\n",
       " ('FathersEducation', 'AggregateMeasureofControl1'),\n",
       " ('FathersEducation', 'AnnualFamilyIncome'),\n",
       " ('FathersEducation', 'MaleGuardianOccupation'),\n",
       " ('FathersEducation', 'SocioeconomicStatusComposite'),\n",
       " ('MathAbilityGroup', 'AggregateMeasureofControl1'),\n",
       " ('MothersEducation', 'AnnualFamilyIncome'),\n",
       " ('NumTimesDiscussedCourseMaterialWithGuardians',\n",
       "  'Relativereadingproficiencylevel'),\n",
       " ('Prolbemofstudentalcuse', 'AggregateMeasureofControl1'),\n",
       " ('Race', 'AggregateMeasureofControl1'),\n",
       " ('Race', 'HistoryStandardizedScore'),\n",
       " ('SocioeconomicStatusComposite',\n",
       "  'Asthingsstandnowhowfarinschooldoyouthinkyouwillget'),\n",
       " ('SocioeconomicStatusComposite', 'EnglishClassAbilityGroup'),\n",
       " ('SocioeconomicStatusComposite', 'HistoryAbilityGroup'),\n",
       " ('SocioeconomicStatusComposite',\n",
       "  'Howsureareyouthatyouwillgraduatefromhighschool'),\n",
       " ('SocioeconomicStatusComposite', 'MathAbilityGroup'),\n",
       " ('SocioeconomicStatusComposite',\n",
       "  'NumTimesDiscussedCourseMaterialWithGuardians'),\n",
       " ('SocioeconomicStatusComposite', 'PastHistoryGrades'),\n",
       " ('SocioeconomicStatusComposite', 'PastScienceGrades'),\n",
       " ('SocioeconomicStatusComposite', 'TimeSpentAtHomeAfterSchoolWithoutAdult'),\n",
       " ('SocioeconomicStatusComposite',\n",
       "  'Whatkindofworkdoyouexpecttobedoingwhenyouare30yearsold'),\n",
       " ('numcigsyousmokeaday', 'ReadingStandardizedScore'),\n",
       " ('percentofSchoolwithDiscountedLunch', 'AggregateMeasureofControl1')}"
      ]
     },
     "execution_count": 787,
     "metadata": {},
     "output_type": "execute_result"
    }
   ],
   "source": [
    "G.di_edges"
   ]
  },
  {
   "cell_type": "code",
   "execution_count": 788,
   "metadata": {},
   "outputs": [],
   "source": [
    "G.delete_diedge('Race','AggregateMeasureofControl1')\n",
    "G.delete_diedge('Race','HistoryStandardizedScore')"
   ]
  },
  {
   "cell_type": "code",
   "execution_count": 789,
   "metadata": {},
   "outputs": [
    {
     "data": {
      "text/plain": [
       "'cgPoisson.gv.pdf'"
      ]
     },
     "execution_count": 789,
     "metadata": {},
     "output_type": "execute_result"
    }
   ],
   "source": [
    "G.draw().render('cgPoisson.gv',view=True)"
   ]
  },
  {
   "cell_type": "code",
   "execution_count": 72,
   "metadata": {},
   "outputs": [
    {
     "data": {
      "text/plain": [
       "52"
      ]
     },
     "execution_count": 72,
     "metadata": {},
     "output_type": "execute_result"
    }
   ],
   "source": [
    "len(data.columns)"
   ]
  },
  {
   "cell_type": "code",
   "execution_count": 740,
   "metadata": {},
   "outputs": [
    {
     "data": {
      "text/plain": [
       "23"
      ]
     },
     "execution_count": 740,
     "metadata": {},
     "output_type": "execute_result"
    }
   ],
   "source": [
    "len(G.di_edges)"
   ]
  },
  {
   "cell_type": "code",
   "execution_count": 735,
   "metadata": {},
   "outputs": [
    {
     "data": {
      "text/plain": [
       "9"
      ]
     },
     "execution_count": 735,
     "metadata": {},
     "output_type": "execute_result"
    }
   ],
   "source": [
    "len(G.ud_edges)"
   ]
  },
  {
   "cell_type": "code",
   "execution_count": 743,
   "metadata": {},
   "outputs": [],
   "source": [
    "#89 directed edges and 30 undirected edges in original CG learned\n",
    "di_edge_dict = {}\n",
    "for de in G.di_edges:\n",
    "    di_edge_dict[de]=0\n",
    "ud_edge_dict = {}\n",
    "for ue in G.ud_edges:\n",
    "    ud_edge_dict[ue]=0\n",
    "#initializing 2 dictionaries to count num of times each edge in original CG learned appears in the bootstrap CGs learned\n",
    "#so the domain for the values are [0,numBootstraps]"
   ]
  },
  {
   "cell_type": "code",
   "execution_count": 744,
   "metadata": {},
   "outputs": [
    {
     "name": "stdout",
     "output_type": "stream",
     "text": [
      "1\n",
      "2\n",
      "3\n",
      "4\n",
      "5\n",
      "6\n",
      "7\n",
      "8\n",
      "9\n",
      "10\n",
      "11\n",
      "12\n",
      "13\n",
      "14\n",
      "15\n",
      "16\n",
      "17\n",
      "18\n",
      "19\n",
      "20\n",
      "21\n",
      "22\n",
      "23\n",
      "24\n",
      "25\n",
      "26\n"
     ]
    }
   ],
   "source": [
    "for i in range(26):\n",
    "    #bootstrap causal discovery 26 times\n",
    "    sample = data.sample(frac=1,replace=True,axis=0)\n",
    "    ananke_cg = cg_structure_learning(sample,cols+['SocioeconomicStatusComposite'],tiers,var2type,discrete2type,levelsNames,False)\n",
    "    bootstrap_de = ananke_cg.di_edges #directed edges in the cur bootstrap graph\n",
    "    bootstrap_ue = ananke_cg.ud_edges #ud edges in the cur bootstrap graph \n",
    "    for de in G.di_edges:\n",
    "        #loop over original CG's directed edge set and check if that edge is in the current bootstrap cg\n",
    "        if de in bootstrap_de:\n",
    "            di_edge_dict[de]=di_edge_dict[de]+1\n",
    "    for ue in G.ud_edges:\n",
    "        #loop over CG's undirected edge set and do same as above for loop\n",
    "        if ue in bootstrap_ue:\n",
    "            ud_edge_dict[ue]=ud_edge_dict[ue]+1\n",
    "    print(i+1) #print progress because the causal discovery process will take a long time "
   ]
  },
  {
   "cell_type": "code",
   "execution_count": 796,
   "metadata": {},
   "outputs": [
    {
     "data": {
      "text/plain": [
       "{('FathersEducation', 'AggregateMeasureofControl1'),\n",
       " ('FathersEducation', 'AnnualFamilyIncome'),\n",
       " ('FathersEducation', 'MaleGuardianOccupation'),\n",
       " ('FathersEducation', 'SocioeconomicStatusComposite'),\n",
       " ('MathAbilityGroup', 'AggregateMeasureofControl1'),\n",
       " ('MothersEducation', 'AnnualFamilyIncome'),\n",
       " ('NumTimesDiscussedCourseMaterialWithGuardians',\n",
       "  'Relativereadingproficiencylevel'),\n",
       " ('Prolbemofstudentalcuse', 'AggregateMeasureofControl1'),\n",
       " ('Race', 'AggregateMeasureofControl1'),\n",
       " ('Race', 'HistoryStandardizedScore'),\n",
       " ('SocioeconomicStatusComposite',\n",
       "  'Asthingsstandnowhowfarinschooldoyouthinkyouwillget'),\n",
       " ('SocioeconomicStatusComposite', 'EnglishClassAbilityGroup'),\n",
       " ('SocioeconomicStatusComposite', 'HistoryAbilityGroup'),\n",
       " ('SocioeconomicStatusComposite',\n",
       "  'Howsureareyouthatyouwillgraduatefromhighschool'),\n",
       " ('SocioeconomicStatusComposite', 'MathAbilityGroup'),\n",
       " ('SocioeconomicStatusComposite', 'PastHistoryGrades'),\n",
       " ('SocioeconomicStatusComposite', 'PastScienceGrades'),\n",
       " ('SocioeconomicStatusComposite', 'TimeSpentAtHomeAfterSchoolWithoutAdult'),\n",
       " ('SocioeconomicStatusComposite',\n",
       "  'Whatkindofworkdoyouexpecttobedoingwhenyouare30yearsold'),\n",
       " ('numcigsyousmokeaday', 'ReadingStandardizedScore'),\n",
       " ('percentofSchoolwithDiscountedLunch', 'AggregateMeasureofControl1')}"
      ]
     },
     "execution_count": 796,
     "metadata": {},
     "output_type": "execute_result"
    }
   ],
   "source": [
    "directed_edges = []\n",
    "for de in list(di_edge_dict.keys()):\n",
    "    if di_edge_dict[de]>=17:\n",
    "        directed_edges.append(de)\n",
    "directed_edges = set(directed_edges)\n",
    "directed_edges"
   ]
  },
  {
   "cell_type": "code",
   "execution_count": 745,
   "metadata": {},
   "outputs": [
    {
     "data": {
      "text/plain": [
       "{('SocioeconomicStatusComposite',\n",
       "  'NumTimesDiscussedCourseMaterialWithGuardians'): 16,\n",
       " ('SocioeconomicStatusComposite',\n",
       "  'Asthingsstandnowhowfarinschooldoyouthinkyouwillget'): 26,\n",
       " ('MathAbilityGroup', 'AggregateMeasureofControl1'): 17,\n",
       " ('SocioeconomicStatusComposite',\n",
       "  'Howsureareyouthatyouwillgraduatefromhighschool'): 26,\n",
       " ('Race', 'HistoryStandardizedScore'): 21,\n",
       " ('numcigsyousmokeaday', 'ReadingStandardizedScore'): 25,\n",
       " ('SocioeconomicStatusComposite',\n",
       "  'TimeSpentAtHomeAfterSchoolWithoutAdult'): 21,\n",
       " ('SocioeconomicStatusComposite', 'PastHistoryGrades'): 21,\n",
       " ('SocioeconomicStatusComposite',\n",
       "  'Whatkindofworkdoyouexpecttobedoingwhenyouare30yearsold'): 26,\n",
       " ('AskedToDoChores', 'PastScienceGrades'): 11,\n",
       " ('MothersEducation', 'AnnualFamilyIncome'): 26,\n",
       " ('NumTimesDiscussedCourseMaterialWithGuardians',\n",
       "  'Relativereadingproficiencylevel'): 22,\n",
       " ('FathersEducation', 'SocioeconomicStatusComposite'): 18,\n",
       " ('FathersEducation', 'AggregateMeasureofControl1'): 24,\n",
       " ('SocioeconomicStatusComposite', 'PastScienceGrades'): 17,\n",
       " ('FathersEducation', 'MaleGuardianOccupation'): 26,\n",
       " ('SocioeconomicStatusComposite', 'MathAbilityGroup'): 26,\n",
       " ('SocioeconomicStatusComposite', 'EnglishClassAbilityGroup'): 19,\n",
       " ('percentofSchoolwithDiscountedLunch', 'AggregateMeasureofControl1'): 26,\n",
       " ('FathersEducation', 'AnnualFamilyIncome'): 26,\n",
       " ('SocioeconomicStatusComposite', 'HistoryAbilityGroup'): 25,\n",
       " ('Prolbemofstudentalcuse', 'AggregateMeasureofControl1'): 17,\n",
       " ('Race', 'AggregateMeasureofControl1'): 26}"
      ]
     },
     "execution_count": 745,
     "metadata": {},
     "output_type": "execute_result"
    }
   ],
   "source": [
    "di_edge_dict"
   ]
  },
  {
   "cell_type": "code",
   "execution_count": 746,
   "metadata": {},
   "outputs": [
    {
     "data": {
      "text/plain": [
       "{('Whatkindofworkdoyouexpecttobedoingwhenyouare30yearsold',\n",
       "  'Asthingsstandnowhowfarinschooldoyouthinkyouwillget'): 20,\n",
       " ('ScienceAbilityGroup', 'EnglishClassAbilityGroup'): 25,\n",
       " ('Prolbemofstudentalcuse', 'problemofstudentdruguse'): 26,\n",
       " ('FathersEducation', 'MothersEducation'): 26,\n",
       " ('LimitOnTvTime', 'LimitOnTimeWithFriends'): 25,\n",
       " ('GuardiansAttendedSchoolMeeting', 'GuardiansSpokenToSchool'): 25,\n",
       " ('AskedIfHomeworkDone', 'LimitOnTvTime'): 26,\n",
       " ('numtimesyouvedrankalcinlifetime', 'numcigsyousmokeaday'): 26,\n",
       " ('PastScienceGrades', 'Relativereadingproficiencylevel'): 13}"
      ]
     },
     "execution_count": 746,
     "metadata": {},
     "output_type": "execute_result"
    }
   ],
   "source": [
    "ud_edge_dict"
   ]
  },
  {
   "cell_type": "code",
   "execution_count": 797,
   "metadata": {},
   "outputs": [
    {
     "data": {
      "text/plain": [
       "{('AskedIfHomeworkDone', 'LimitOnTvTime'),\n",
       " ('FathersEducation', 'MothersEducation'),\n",
       " ('GuardiansAttendedSchoolMeeting', 'GuardiansSpokenToSchool'),\n",
       " ('LimitOnTvTime', 'LimitOnTimeWithFriends'),\n",
       " ('Prolbemofstudentalcuse', 'problemofstudentdruguse'),\n",
       " ('ScienceAbilityGroup', 'EnglishClassAbilityGroup'),\n",
       " ('Whatkindofworkdoyouexpecttobedoingwhenyouare30yearsold',\n",
       "  'Asthingsstandnowhowfarinschooldoyouthinkyouwillget'),\n",
       " ('numtimesyouvedrankalcinlifetime', 'numcigsyousmokeaday')}"
      ]
     },
     "execution_count": 797,
     "metadata": {},
     "output_type": "execute_result"
    }
   ],
   "source": [
    "undirected_edges = []\n",
    "for ue in list(ud_edge_dict.keys()):\n",
    "    if ud_edge_dict[ue]>=17:\n",
    "        undirected_edges.append(ue)\n",
    "undirected_edges = set(undirected_edges)\n",
    "undirected_edges"
   ]
  },
  {
   "cell_type": "code",
   "execution_count": 800,
   "metadata": {},
   "outputs": [],
   "source": [
    "bs = CG(vertices=list(G.vertices),di_edges=directed_edges,ud_edges=undirected_edges)\n"
   ]
  },
  {
   "cell_type": "code",
   "execution_count": 801,
   "metadata": {},
   "outputs": [
    {
     "data": {
      "text/plain": [
       "{('AskedToDoChores', 'PastScienceGrades'),\n",
       " ('SocioeconomicStatusComposite',\n",
       "  'NumTimesDiscussedCourseMaterialWithGuardians')}"
      ]
     },
     "execution_count": 801,
     "metadata": {},
     "output_type": "execute_result"
    }
   ],
   "source": []
  },
  {
   "cell_type": "code",
   "execution_count": 747,
   "metadata": {},
   "outputs": [],
   "source": [
    "for item in di_edge_dict.items():\n",
    "    edge = item[0]\n",
    "    count= item[1]\n",
    "    if count < 17:\n",
    "        G.delete_diedge(edge[0],edge[1])\n",
    "for item in ud_edge_dict.items():\n",
    "    edge = item[0]\n",
    "    count = item[1]\n",
    "    if count < 17:\n",
    "        G.delete_udedge(edge[0],edge[1])\n"
   ]
  },
  {
   "cell_type": "code",
   "execution_count": 782,
   "metadata": {},
   "outputs": [],
   "source": [
    "G.delete_diedge('Race','AggregateMeasureofControl1')"
   ]
  },
  {
   "cell_type": "code",
   "execution_count": 781,
   "metadata": {},
   "outputs": [
    {
     "data": {
      "text/plain": [
       "{('AskedIfHomeworkDone', 'LimitOnTvTime'),\n",
       " ('FathersEducation', 'MothersEducation'),\n",
       " ('GuardiansAttendedSchoolMeeting', 'GuardiansSpokenToSchool'),\n",
       " ('LimitOnTvTime', 'LimitOnTimeWithFriends'),\n",
       " ('Prolbemofstudentalcuse', 'problemofstudentdruguse'),\n",
       " ('ScienceAbilityGroup', 'EnglishClassAbilityGroup'),\n",
       " ('Whatkindofworkdoyouexpecttobedoingwhenyouare30yearsold',\n",
       "  'Asthingsstandnowhowfarinschooldoyouthinkyouwillget'),\n",
       " ('numtimesyouvedrankalcinlifetime', 'numcigsyousmokeaday')}"
      ]
     },
     "execution_count": 781,
     "metadata": {},
     "output_type": "execute_result"
    }
   ],
   "source": [
    "G.ud_edges"
   ]
  },
  {
   "cell_type": "code",
   "execution_count": 783,
   "metadata": {},
   "outputs": [
    {
     "data": {
      "text/plain": [
       "'cgBS.gv.pdf'"
      ]
     },
     "execution_count": 783,
     "metadata": {},
     "output_type": "execute_result"
    }
   ],
   "source": [
    "bootstrapGraph=G.draw()\n",
    "bootstrapGraph.render('cgBS.gv',view=True)"
   ]
  },
  {
   "cell_type": "code",
   "execution_count": 784,
   "metadata": {},
   "outputs": [
    {
     "data": {
      "text/plain": [
       "{('FathersEducation', 'AggregateMeasureofControl1'),\n",
       " ('FathersEducation', 'AnnualFamilyIncome'),\n",
       " ('FathersEducation', 'MaleGuardianOccupation'),\n",
       " ('FathersEducation', 'SocioeconomicStatusComposite'),\n",
       " ('MathAbilityGroup', 'AggregateMeasureofControl1'),\n",
       " ('MothersEducation', 'AnnualFamilyIncome'),\n",
       " ('NumTimesDiscussedCourseMaterialWithGuardians',\n",
       "  'Relativereadingproficiencylevel'),\n",
       " ('Prolbemofstudentalcuse', 'AggregateMeasureofControl1'),\n",
       " ('SocioeconomicStatusComposite',\n",
       "  'Asthingsstandnowhowfarinschooldoyouthinkyouwillget'),\n",
       " ('SocioeconomicStatusComposite', 'EnglishClassAbilityGroup'),\n",
       " ('SocioeconomicStatusComposite', 'HistoryAbilityGroup'),\n",
       " ('SocioeconomicStatusComposite',\n",
       "  'Howsureareyouthatyouwillgraduatefromhighschool'),\n",
       " ('SocioeconomicStatusComposite', 'MathAbilityGroup'),\n",
       " ('SocioeconomicStatusComposite', 'PastHistoryGrades'),\n",
       " ('SocioeconomicStatusComposite', 'PastScienceGrades'),\n",
       " ('SocioeconomicStatusComposite', 'TimeSpentAtHomeAfterSchoolWithoutAdult'),\n",
       " ('SocioeconomicStatusComposite',\n",
       "  'Whatkindofworkdoyouexpecttobedoingwhenyouare30yearsold'),\n",
       " ('numcigsyousmokeaday', 'ReadingStandardizedScore'),\n",
       " ('percentofSchoolwithDiscountedLunch', 'AggregateMeasureofControl1')}"
      ]
     },
     "execution_count": 784,
     "metadata": {},
     "output_type": "execute_result"
    }
   ],
   "source": [
    "G.di_edges"
   ]
  },
  {
   "cell_type": "code",
   "execution_count": 785,
   "metadata": {},
   "outputs": [
    {
     "data": {
      "text/plain": [
       "{('AskedIfHomeworkDone', 'LimitOnTvTime'),\n",
       " ('FathersEducation', 'MothersEducation'),\n",
       " ('GuardiansAttendedSchoolMeeting', 'GuardiansSpokenToSchool'),\n",
       " ('LimitOnTvTime', 'LimitOnTimeWithFriends'),\n",
       " ('Prolbemofstudentalcuse', 'problemofstudentdruguse'),\n",
       " ('ScienceAbilityGroup', 'EnglishClassAbilityGroup'),\n",
       " ('Whatkindofworkdoyouexpecttobedoingwhenyouare30yearsold',\n",
       "  'Asthingsstandnowhowfarinschooldoyouthinkyouwillget'),\n",
       " ('numtimesyouvedrankalcinlifetime', 'numcigsyousmokeaday')}"
      ]
     },
     "execution_count": 785,
     "metadata": {},
     "output_type": "execute_result"
    }
   ],
   "source": [
    "G.ud_edges"
   ]
  },
  {
   "cell_type": "code",
   "execution_count": 760,
   "metadata": {},
   "outputs": [
    {
     "data": {
      "text/plain": [
       "{'FathersEducation',\n",
       " 'MathAbilityGroup',\n",
       " 'Prolbemofstudentalcuse',\n",
       " 'Race',\n",
       " 'percentofSchoolwithDiscountedLunch'}"
      ]
     },
     "execution_count": 760,
     "metadata": {},
     "output_type": "execute_result"
    }
   ],
   "source": [
    "G.parents(['AggregateMeasureofControl1'])"
   ]
  },
  {
   "cell_type": "code",
   "execution_count": 761,
   "metadata": {},
   "outputs": [
    {
     "data": {
      "text/plain": [
       "'int64'"
      ]
     },
     "execution_count": 761,
     "metadata": {},
     "output_type": "execute_result"
    }
   ],
   "source": [
    "var2type['AggregateMeasureofControl1']"
   ]
  },
  {
   "cell_type": "code",
   "execution_count": 763,
   "metadata": {},
   "outputs": [
    {
     "data": {
      "text/plain": [
       "Intercept                              0.520774\n",
       "percentofSchoolwithDiscountedLunch1   -0.262268\n",
       "percentofSchoolwithDiscountedLunch2   -0.395982\n",
       "Race1                                 -0.016803\n",
       "Race2                                  0.262669\n",
       "Race3                                  0.256260\n",
       "Race4                                 -0.104043\n",
       "FathersEducation1                      0.825134\n",
       "FathersEducation2                      0.659364\n",
       "FathersEducation3                      0.631117\n",
       "FathersEducation4                      0.449411\n",
       "FathersEducation5                      0.309667\n",
       "FathersEducation6                      0.103399\n",
       "MathAbilityGroup1                      0.324006\n",
       "MathAbilityGroup2                      0.204413\n",
       "MathAbilityGroup3                      0.118448\n",
       "Prolbemofstudentalcuse1                0.161322\n",
       "Prolbemofstudentalcuse2                0.191011\n",
       "Prolbemofstudentalcuse3                0.126927\n",
       "dtype: float64"
      ]
     },
     "execution_count": 763,
     "metadata": {},
     "output_type": "execute_result"
    }
   ],
   "source": [
    "parents = G.parents(['AggregateMeasureofControl1'])\n",
    "formula = 'AggregateMeasureofControl1' + '~ 1'\n",
    "for par in parents:\n",
    "    if var2type[par]=='int64':\n",
    "        formula+= '+' + '+'.join(levelsNames[par][:-1])\n",
    "    else:\n",
    "        formula+= '+' + par\n",
    "model = sm.GLM.from_formula(formula, data=data, family=sm.families.Poisson()).fit()\n",
    "model.params"
   ]
  },
  {
   "cell_type": "code",
   "execution_count": 766,
   "metadata": {},
   "outputs": [
    {
     "data": {
      "text/plain": [
       "{'FathersEducation'}"
      ]
     },
     "execution_count": 766,
     "metadata": {},
     "output_type": "execute_result"
    }
   ],
   "source": [
    "G.parents(['SocioeconomicStatusComposite'])"
   ]
  },
  {
   "cell_type": "code",
   "execution_count": 767,
   "metadata": {},
   "outputs": [
    {
     "data": {
      "text/plain": [
       "'int64'"
      ]
     },
     "execution_count": 767,
     "metadata": {},
     "output_type": "execute_result"
    }
   ],
   "source": [
    "var2type['FathersEducation']"
   ]
  },
  {
   "cell_type": "code",
   "execution_count": 768,
   "metadata": {},
   "outputs": [
    {
     "data": {
      "text/plain": [
       "'float64'"
      ]
     },
     "execution_count": 768,
     "metadata": {},
     "output_type": "execute_result"
    }
   ],
   "source": [
    "var2type['SocioeconomicStatusComposite']"
   ]
  },
  {
   "cell_type": "code",
   "execution_count": 770,
   "metadata": {},
   "outputs": [
    {
     "data": {
      "text/plain": [
       "Intercept            0.265377\n",
       "FathersEducation1   -0.367179\n",
       "FathersEducation2   -0.279072\n",
       "FathersEducation3   -0.324707\n",
       "FathersEducation4   -0.172306\n",
       "FathersEducation5   -0.109155\n",
       "FathersEducation6   -0.034289\n",
       "dtype: float64"
      ]
     },
     "execution_count": 770,
     "metadata": {},
     "output_type": "execute_result"
    }
   ],
   "source": [
    "formula = 'SocioeconomicStatusComposite ~ 1 + ' + '+'.join(levelsNames['FathersEducation'][:-1])\n",
    "model = sm.GLM.from_formula(formula, data=data, family=sm.families.Gaussian()).fit()\n",
    "model.params"
   ]
  },
  {
   "cell_type": "code",
   "execution_count": 774,
   "metadata": {},
   "outputs": [
    {
     "data": {
      "text/plain": [
       "Intercept            1.727036\n",
       "MothersEducation1   -0.514611\n",
       "MothersEducation2   -0.269250\n",
       "MothersEducation3   -0.157061\n",
       "MothersEducation4   -0.170440\n",
       "MothersEducation5   -0.027391\n",
       "MothersEducation6    0.035491\n",
       "FathersEducation1   -0.633424\n",
       "FathersEducation2   -0.506837\n",
       "FathersEducation3   -0.450807\n",
       "FathersEducation4   -0.354180\n",
       "FathersEducation5   -0.249446\n",
       "FathersEducation6   -0.144480\n",
       "dtype: float64"
      ]
     },
     "execution_count": 774,
     "metadata": {},
     "output_type": "execute_result"
    }
   ],
   "source": [
    "parents = G.parents(['AnnualFamilyIncome'])\n",
    "formula = 'AnnualFamilyIncome ~ 1'\n",
    "for par in parents:\n",
    "    if var2type[par]=='int64':\n",
    "        formula += '+' + '+'.join(levelsNames[par][:-1])\n",
    "    else:\n",
    "        formula +=par\n",
    "model = sm.GLM.from_formula(formula, data=data, family=sm.families.Poisson()).fit()\n",
    "model.params"
   ]
  },
  {
   "cell_type": "code",
   "execution_count": 802,
   "metadata": {},
   "outputs": [
    {
     "data": {
      "text/plain": [
       "{'SocioeconomicStatusComposite'}"
      ]
     },
     "execution_count": 802,
     "metadata": {},
     "output_type": "execute_result"
    }
   ],
   "source": [
    "bs.parents(['MathAbilityGroup'])"
   ]
  },
  {
   "cell_type": "code",
   "execution_count": 803,
   "metadata": {},
   "outputs": [
    {
     "data": {
      "text/plain": [
       "'int64'"
      ]
     },
     "execution_count": 803,
     "metadata": {},
     "output_type": "execute_result"
    }
   ],
   "source": [
    "var2type['MathAbilityGroup']"
   ]
  },
  {
   "cell_type": "code",
   "execution_count": 804,
   "metadata": {},
   "outputs": [
    {
     "data": {
      "text/plain": [
       "Intercept                       1.178825\n",
       "SocioeconomicStatusComposite    0.117541\n",
       "dtype: float64"
      ]
     },
     "execution_count": 804,
     "metadata": {},
     "output_type": "execute_result"
    }
   ],
   "source": [
    "formula = 'MathAbilityGroup ~ 1 + SocioeconomicStatusComposite'\n",
    "model = sm.GLM.from_formula(formula, data=data, family=sm.families.Poisson()).fit()\n",
    "model.params"
   ]
  },
  {
   "cell_type": "code",
   "execution_count": 807,
   "metadata": {},
   "outputs": [
    {
     "data": {
      "text/plain": [
       "{'SocioeconomicStatusComposite'}"
      ]
     },
     "execution_count": 807,
     "metadata": {},
     "output_type": "execute_result"
    }
   ],
   "source": [
    "bs.parents(['HistoryAbilityGroup'])"
   ]
  },
  {
   "cell_type": "code",
   "execution_count": 806,
   "metadata": {},
   "outputs": [
    {
     "data": {
      "text/plain": [
       "Intercept                       0.700035\n",
       "SocioeconomicStatusComposite   -0.102143\n",
       "dtype: float64"
      ]
     },
     "execution_count": 806,
     "metadata": {},
     "output_type": "execute_result"
    }
   ],
   "source": [
    "formula = 'HistoryAbilityGroup ~ 1 + SocioeconomicStatusComposite'\n",
    "model = sm.GLM.from_formula(formula, data=data, family=sm.families.Poisson()).fit()\n",
    "model.params"
   ]
  },
  {
   "cell_type": "code",
   "execution_count": 805,
   "metadata": {},
   "outputs": [
    {
     "data": {
      "text/plain": [
       "count    1742.000000\n",
       "mean        0.037596\n",
       "std         0.588166\n",
       "min        -2.310000\n",
       "25%        -0.350000\n",
       "50%         0.030000\n",
       "75%         0.440000\n",
       "max         1.280000\n",
       "Name: SocioeconomicStatusComposite, dtype: float64"
      ]
     },
     "execution_count": 805,
     "metadata": {},
     "output_type": "execute_result"
    }
   ],
   "source": [
    "data['SocioeconomicStatusComposite'].describe()"
   ]
  },
  {
   "cell_type": "code",
   "execution_count": 810,
   "metadata": {},
   "outputs": [
    {
     "data": {
      "text/plain": [
       "{'SocioeconomicStatusComposite'}"
      ]
     },
     "execution_count": 810,
     "metadata": {},
     "output_type": "execute_result"
    }
   ],
   "source": [
    "bs.parents(['PastScienceGrades'])"
   ]
  },
  {
   "cell_type": "code",
   "execution_count": 811,
   "metadata": {},
   "outputs": [
    {
     "data": {
      "text/plain": [
       "'int64'"
      ]
     },
     "execution_count": 811,
     "metadata": {},
     "output_type": "execute_result"
    }
   ],
   "source": [
    "var2type['PastScienceGrades']"
   ]
  },
  {
   "cell_type": "code",
   "execution_count": 812,
   "metadata": {},
   "outputs": [
    {
     "data": {
      "text/plain": [
       "Intercept                       0.558568\n",
       "SocioeconomicStatusComposite    0.202421\n",
       "dtype: float64"
      ]
     },
     "execution_count": 812,
     "metadata": {},
     "output_type": "execute_result"
    }
   ],
   "source": [
    "formula = 'PastScienceGrades ~ 1 + SocioeconomicStatusComposite'\n",
    "model = sm.GLM.from_formula(formula, data=data, family=sm.families.Poisson()).fit()\n",
    "model.params"
   ]
  },
  {
   "cell_type": "code",
   "execution_count": 813,
   "metadata": {},
   "outputs": [
    {
     "data": {
      "text/plain": [
       "{'FathersEducation'}"
      ]
     },
     "execution_count": 813,
     "metadata": {},
     "output_type": "execute_result"
    }
   ],
   "source": [
    "bs.parents(['SocioeconomicStatusComposite'])"
   ]
  },
  {
   "cell_type": "code",
   "execution_count": 814,
   "metadata": {},
   "outputs": [
    {
     "data": {
      "text/plain": [
       "'int64'"
      ]
     },
     "execution_count": 814,
     "metadata": {},
     "output_type": "execute_result"
    }
   ],
   "source": [
    "var2type['FathersEducation']"
   ]
  },
  {
   "cell_type": "code",
   "execution_count": 816,
   "metadata": {},
   "outputs": [
    {
     "data": {
      "text/plain": [
       "Intercept            0.265377\n",
       "FathersEducation1   -0.367179\n",
       "FathersEducation2   -0.279072\n",
       "FathersEducation3   -0.324707\n",
       "FathersEducation4   -0.172306\n",
       "FathersEducation5   -0.109155\n",
       "FathersEducation6   -0.034289\n",
       "dtype: float64"
      ]
     },
     "execution_count": 816,
     "metadata": {},
     "output_type": "execute_result"
    }
   ],
   "source": [
    "formula = 'SocioeconomicStatusComposite ~ 1 +' + '+'.join(levelsNames['FathersEducation'][:-1])\n",
    "model = sm.GLM.from_formula(formula, data=data, family=sm.families.Gaussian()).fit()\n",
    "model.params"
   ]
  },
  {
   "cell_type": "code",
   "execution_count": null,
   "metadata": {},
   "outputs": [],
   "source": []
  },
  {
   "cell_type": "code",
   "execution_count": null,
   "metadata": {},
   "outputs": [],
   "source": []
  },
  {
   "cell_type": "code",
   "execution_count": null,
   "metadata": {},
   "outputs": [],
   "source": []
  },
  {
   "cell_type": "code",
   "execution_count": null,
   "metadata": {},
   "outputs": [],
   "source": []
  },
  {
   "cell_type": "code",
   "execution_count": null,
   "metadata": {},
   "outputs": [],
   "source": []
  },
  {
   "cell_type": "code",
   "execution_count": null,
   "metadata": {},
   "outputs": [],
   "source": []
  },
  {
   "cell_type": "code",
   "execution_count": 772,
   "metadata": {},
   "outputs": [
    {
     "data": {
      "text/plain": [
       "'int64'"
      ]
     },
     "execution_count": 772,
     "metadata": {},
     "output_type": "execute_result"
    }
   ],
   "source": [
    "var2type['AnnualFamilyIncome']"
   ]
  },
  {
   "cell_type": "code",
   "execution_count": 775,
   "metadata": {},
   "outputs": [
    {
     "data": {
      "text/plain": [
       "'int64'"
      ]
     },
     "execution_count": 775,
     "metadata": {},
     "output_type": "execute_result"
    }
   ],
   "source": [
    "var2type['Howsureareyouthatyouwillgraduatefromhighschool']"
   ]
  },
  {
   "cell_type": "code",
   "execution_count": 776,
   "metadata": {},
   "outputs": [
    {
     "data": {
      "text/plain": [
       "{'SocioeconomicStatusComposite'}"
      ]
     },
     "execution_count": 776,
     "metadata": {},
     "output_type": "execute_result"
    }
   ],
   "source": [
    "G.parents(['Howsureareyouthatyouwillgraduatefromhighschool'])"
   ]
  },
  {
   "cell_type": "code",
   "execution_count": 777,
   "metadata": {},
   "outputs": [
    {
     "data": {
      "text/plain": [
       "Intercept                       1.185439\n",
       "SocioeconomicStatusComposite    0.175621\n",
       "dtype: float64"
      ]
     },
     "execution_count": 777,
     "metadata": {},
     "output_type": "execute_result"
    }
   ],
   "source": [
    "formula = 'Howsureareyouthatyouwillgraduatefromhighschool ~ 1' + ' + SocioeconomicStatusComposite'\n",
    "model = sm.GLM.from_formula(formula, data=data, family=sm.families.Poisson()).fit()\n",
    "model.params"
   ]
  },
  {
   "cell_type": "code",
   "execution_count": null,
   "metadata": {},
   "outputs": [],
   "source": []
  },
  {
   "cell_type": "code",
   "execution_count": null,
   "metadata": {},
   "outputs": [],
   "source": []
  },
  {
   "cell_type": "code",
   "execution_count": null,
   "metadata": {},
   "outputs": [],
   "source": []
  },
  {
   "cell_type": "code",
   "execution_count": null,
   "metadata": {},
   "outputs": [],
   "source": []
  },
  {
   "cell_type": "code",
   "execution_count": 66,
   "metadata": {},
   "outputs": [
    {
     "data": {
      "text/plain": [
       "{'Race': [],\n",
       " 'FathersEducation': ['MothersEducation'],\n",
       " 'MothersEducation': ['FathersEducation'],\n",
       " 'ParentsHighestEducationLevelfromStuandParqxs': [],\n",
       " 'FemGaurdianOccupation': ['FathersEducation', 'MaleGuardianOccupation'],\n",
       " 'MaleGuardianOccupation': ['FathersEducation', 'FemGaurdianOccupation'],\n",
       " 'LanguageSpokeninHome': ['MothersEducation',\n",
       "  'Race',\n",
       "  'ParentsHighestEducationLevelfromStuandParqxs'],\n",
       " 'AnnualFamilyIncome': ['MothersEducation', 'FathersEducation'],\n",
       " 'SocioeconomicStatusComposite': ['ParentsHighestEducationLevelfromStuandParqxs'],\n",
       " 'ParentsMaritalStatus': ['MothersEducation',\n",
       "  'FemGaurdianOccupation',\n",
       "  'AnnualFamilyIncome',\n",
       "  'LanguageSpokeninHome',\n",
       "  'FathersEducation'],\n",
       " 'Urbanicity': ['Region'],\n",
       " 'Region': ['Urbanicity'],\n",
       " 'StudyPlaceinHome': ['GuardiansSpokenToSchool'],\n",
       " 'TimeSpentAtHomeAfterSchoolWithoutAdult': ['SocioeconomicStatusComposite'],\n",
       " 'AskedIfHomeworkDone': ['LimitOnTvTime'],\n",
       " 'AskedToDoChores': ['ParentsHighestEducationLevelfromStuandParqxs',\n",
       "  'LimitOnTvTime'],\n",
       " 'NumTimesDiscussedCourseMaterialWithGuardians': ['ParentsHighestEducationLevelfromStuandParqxs'],\n",
       " 'GuardiansAttendedSchoolMeeting': ['ParentsMaritalStatus',\n",
       "  'GuardiansSpokenToSchool'],\n",
       " 'GuardiansSpokenToSchool': ['StudyPlaceinHome',\n",
       "  'GuardiansAttendedSchoolMeeting'],\n",
       " 'LimitOnTvTime': ['AskedIfHomeworkDone', 'AskedToDoChores'],\n",
       " 'percentMinorityin8thgrade': ['Race'],\n",
       " 'Theteachingisgood': ['SocioeconomicStatusComposite'],\n",
       " 'Teachersareinterestedinstudents': ['SocioeconomicStatusComposite',\n",
       "  'InclassIoftenfeelputdownbymyteachers'],\n",
       " 'WhenIworkhardonschoolworkmyteacherspraisemyeffort': [],\n",
       " 'InclassIoftenfeelputdownbymyteachers': ['MostofmyteachersreallylistentowhatIhavetosay',\n",
       "  'Teachersareinterestedinstudents'],\n",
       " 'MostofmyteachersreallylistentowhatIhavetosay': ['InclassIoftenfeelputdownbymyteachers'],\n",
       " 'percentofSchoolwithDiscountedLunch': ['ParentsMaritalStatus',\n",
       "  'percentMinorityin8thgrade'],\n",
       " 'Prolbemofstudentalcuse': ['ParentsHighestEducationLevelfromStuandParqxs',\n",
       "  'problemofstudentdruguse'],\n",
       " 'problemofstudentdruguse': ['Prolbemofstudentalcuse'],\n",
       " 'LimitOnTimeWithFriends': ['SocioeconomicStatusComposite',\n",
       "  'AskedIfHomeworkDone',\n",
       "  'AskedToDoChores',\n",
       "  'LimitOnTvTime'],\n",
       " 'numtimesyouvedrankalcinlifetime': ['numcigsyousmokeaday'],\n",
       " 'numcigsyousmokeaday': ['numtimesyouvedrankalcinlifetime'],\n",
       " 'MathAbilityGroup': ['SocioeconomicStatusComposite',\n",
       "  'InclassIoftenfeelputdownbymyteachers',\n",
       "  'EnglishClassAbilityGroup',\n",
       "  'ScienceAbilityGroup'],\n",
       " 'ScienceAbilityGroup': ['WhenIworkhardonschoolworkmyteacherspraisemyeffort',\n",
       "  'EnglishClassAbilityGroup',\n",
       "  'MathAbilityGroup'],\n",
       " 'EnglishClassAbilityGroup': ['WhenIworkhardonschoolworkmyteacherspraisemyeffort',\n",
       "  'MathAbilityGroup',\n",
       "  'ScienceAbilityGroup'],\n",
       " 'HistoryAbilityGroup': ['ParentsMaritalStatus', 'Region'],\n",
       " 'Whatkindofworkdoyouexpecttobedoingwhenyouare30yearsold': ['SocioeconomicStatusComposite'],\n",
       " 'AggregateMeasureofControl1': ['Prolbemofstudentalcuse',\n",
       "  'HistoryAbilityGroup',\n",
       "  'MathAbilityGroup',\n",
       "  'ParentsMaritalStatus',\n",
       "  'percentofSchoolwithDiscountedLunch',\n",
       "  'FathersEducation',\n",
       "  'ReadingStandardizedScore'],\n",
       " 'AggregateMeasureofControl2': [],\n",
       " 'mathgradesinhs': ['englishgradesinhs', 'sciencegradesinhs'],\n",
       " 'englishgradesinhs': ['historygradesinhs',\n",
       "  'mathgradesinhs',\n",
       "  'sciencegradesinhs'],\n",
       " 'historygradesinhs': ['englishgradesinhs', 'sciencegradesinhs'],\n",
       " 'sciencegradesinhs': ['historygradesinhs',\n",
       "  'mathgradesinhs',\n",
       "  'englishgradesinhs'],\n",
       " 'ReadingStandardizedScore': ['ParentsMaritalStatus',\n",
       "  'numcigsyousmokeaday',\n",
       "  'Race',\n",
       "  'numtimesyouvedrankalcinlifetime',\n",
       "  'ScienceStandardizedScore',\n",
       "  'AggregateMeasureofControl1'],\n",
       " 'MathStandardizedScore': ['ScienceStandardizedScore'],\n",
       " 'ScienceStandardizedScore': ['numcigsyousmokeaday',\n",
       "  'HistoryStandardizedScore',\n",
       "  'MathStandardizedScore',\n",
       "  'ReadingStandardizedScore'],\n",
       " 'HistoryStandardizedScore': ['LimitOnTvTime', 'ScienceStandardizedScore'],\n",
       " 'OverallAcademicPerformanceComposite': ['ParentsMaritalStatus',\n",
       "  'HistoryAbilityGroup',\n",
       "  'ParentsHighestEducationLevelfromStuandParqxs'],\n",
       " 'AggregateMeasureofSelfEsteem1': ['MaleGuardianOccupation',\n",
       "  'AggregateMeasureofControl2'],\n",
       " 'AggregateMeasureofSelfEsteem2': ['SocioeconomicStatusComposite',\n",
       "  'Whatkindofworkdoyouexpecttobedoingwhenyouare30yearsold',\n",
       "  'Asthingsstandnowhowfarinschooldoyouthinkyouwillget'],\n",
       " 'Asthingsstandnowhowfarinschooldoyouthinkyouwillget': ['AggregateMeasureofSelfEsteem2',\n",
       "  'Howsureareyouthatyouwillgraduatefromhighschool'],\n",
       " 'Howsureareyouthatyouwillgraduatefromhighschool': ['MathAbilityGroup',\n",
       "  'Asthingsstandnowhowfarinschooldoyouthinkyouwillget']}"
      ]
     },
     "execution_count": 66,
     "metadata": {},
     "output_type": "execute_result"
    }
   ],
   "source": [
    "Bootstrap_MB_dict = {}\n",
    "vertices = list(G.vertices)\n",
    "for v in vertices:\n",
    "    parents = G.parents([v])\n",
    "    neighbors = G.neighbors([v])\n",
    "    mb = list(parents)+list(neighbors)\n",
    "    Bootstrap_MB_dict[v]=mb\n",
    "Bootstrap_MB_dict"
   ]
  },
  {
   "cell_type": "code",
   "execution_count": 67,
   "metadata": {},
   "outputs": [
    {
     "data": {
      "text/plain": [
       "{'Race': [1.2704045157093589],\n",
       " 'FathersEducation': [0.3670747250766559, 0.2240552361930046],\n",
       " 'MothersEducation': [0.3822119000474323, 0.18949903010023683],\n",
       " 'ParentsHighestEducationLevelfromStuandParqxs': [0.638313138368247],\n",
       " 'FemGaurdianOccupation': [0.22049639549171696,\n",
       "  -0.05184316142709213,\n",
       "  0.020106363723514303],\n",
       " 'MaleGuardianOccupation': [1.6804217911319026,\n",
       "  0.03246351378844162,\n",
       "  0.296027661730519],\n",
       " 'LanguageSpokeninHome': [3.371566204225825,\n",
       "  0.008142437123889068,\n",
       "  0.265225382214965,\n",
       "  -0.006136838737071772],\n",
       " 'AnnualFamilyIncome': [0.7117499027723164,\n",
       "  0.060859479319649246,\n",
       "  0.0836903657948585],\n",
       " 'SocioeconomicStatusComposite': [0.0573295790707476, 0.9950981490002806],\n",
       " 'ParentsMaritalStatus': [-1.6642941269410096,\n",
       "  0.06741759378947301,\n",
       "  -0.024687416194667862,\n",
       "  0.3715068999130161,\n",
       "  0.0015685782399985355,\n",
       "  0.06296763527189225],\n",
       " 'Urbanicity': [-0.07225651315378172, 0.26067612478039803],\n",
       " 'Region': [-0.23778542537089273, 0.27888542280491635],\n",
       " 'StudyPlaceinHome': [0.3228603131212294, 0.13707160586235648],\n",
       " 'TimeSpentAtHomeAfterSchoolWithoutAdult': [0.18497635559040132,\n",
       "  -0.02425973343859485],\n",
       " 'AskedIfHomeworkDone': [0.9212145842407711, 0.08716223473496201],\n",
       " 'AskedToDoChores': [1.1523273376808696,\n",
       "  -0.014741367851808311,\n",
       "  0.047979483590829604],\n",
       " 'NumTimesDiscussedCourseMaterialWithGuardians': [0.8794762953174626,\n",
       "  -0.01448380139416346],\n",
       " 'GuardiansAttendedSchoolMeeting': [0.2297540355552055,\n",
       "  -0.1214379188290429,\n",
       "  0.1782201678594008],\n",
       " 'GuardiansSpokenToSchool': [0.09024486631767989,\n",
       "  0.06002512862276829,\n",
       "  0.16033662227588363],\n",
       " 'LimitOnTvTime': [-0.15844360532091398,\n",
       "  0.12706294310853275,\n",
       "  0.15054595184487235],\n",
       " 'percentMinorityin8thgrade': [1.5620219414521155, -0.06641639387176401],\n",
       " 'Theteachingisgood': [1.0317929680478395, -0.0205696123655053],\n",
       " 'Teachersareinterestedinstudents': [0.43646635429186564,\n",
       "  -0.01767149564397516,\n",
       "  0.18434865475713635],\n",
       " 'WhenIworkhardonschoolworkmyteacherspraisemyeffort': [1.0548535470701128],\n",
       " 'InclassIoftenfeelputdownbymyteachers': [0.2723383490935385,\n",
       "  0.1759654197945784,\n",
       "  0.10513217838637415],\n",
       " 'MostofmyteachersreallylistentowhatIhavetosay': [0.2743407003801419,\n",
       "  0.2577041157320548],\n",
       " 'percentofSchoolwithDiscountedLunch': [0.9603715628189384,\n",
       "  -0.0726433240765349,\n",
       "  -0.06461038479852799],\n",
       " 'Prolbemofstudentalcuse': [0.17710347007422633,\n",
       "  -0.015410800309618888,\n",
       "  0.26190145725490466],\n",
       " 'problemofstudentdruguse': [0.3751655257759064, 0.24824379954386144],\n",
       " 'LimitOnTimeWithFriends': [0.5963298737051287,\n",
       "  -0.013870356491685233,\n",
       "  0.05134113499246683,\n",
       "  0.06314693751390942,\n",
       "  0.060345836713527654],\n",
       " 'numtimesyouvedrankalcinlifetime': [1.1042710421349327, 0.7279495382689991],\n",
       " 'numcigsyousmokeaday': [1.15121592603515, 0.7460373894659891],\n",
       " 'MathAbilityGroup': [-0.545413277229175,\n",
       "  -0.3788252011307688,\n",
       "  -0.14088911818996905,\n",
       "  0.16567771555853372,\n",
       "  0.23173744937467722],\n",
       " 'ScienceAbilityGroup': [-0.7851951727394878,\n",
       "  0.22874171383760405,\n",
       "  0.1607039597255708,\n",
       "  0.13774479176011467],\n",
       " 'EnglishClassAbilityGroup': [-0.5786054751104257,\n",
       "  0.24311629376150348,\n",
       "  0.10693920394370898,\n",
       "  0.13800147628216092],\n",
       " 'HistoryAbilityGroup': [0.6875753326472116,\n",
       "  0.16527455208033007,\n",
       "  -0.050591943519850135],\n",
       " 'Whatkindofworkdoyouexpecttobedoingwhenyouare30yearsold': [1.014858060570383,\n",
       "  0.011203114163107247],\n",
       " 'AggregateMeasureofControl1': [0.6878317647366706,\n",
       "  -0.07186662986468359,\n",
       "  0.05141644341415148,\n",
       "  0.0953704873759359,\n",
       "  -0.26199972709957614,\n",
       "  0.12402881611813263,\n",
       "  -0.061161932836898594,\n",
       "  0.05934921444908408],\n",
       " 'AggregateMeasureofControl2': [1.8585693889400527],\n",
       " 'mathgradesinhs': [0.23238151861470127,\n",
       "  0.784850507542763,\n",
       "  0.09656129616658193],\n",
       " 'englishgradesinhs': [0.006449398347133151,\n",
       "  0.13429257139827933,\n",
       "  0.6842605374249047,\n",
       "  0.16560959869973968],\n",
       " 'historygradesinhs': [0.2689681002595404,\n",
       "  0.3942328306699242,\n",
       "  0.4516872027071613],\n",
       " 'sciencegradesinhs': [0.24920927157382228,\n",
       "  0.4156139409351195,\n",
       "  0.14457687437876726,\n",
       "  0.36239531141468495],\n",
       " 'ReadingStandardizedScore': [1.3234020328176923,\n",
       "  -0.21560873408198972,\n",
       "  0.3651724668809882,\n",
       "  -0.0619564838092942,\n",
       "  0.2815849252902725,\n",
       "  0.007166394960916304,\n",
       "  0.04689142327048841],\n",
       " 'MathStandardizedScore': [2.02964143351564, 0.010596024185584425],\n",
       " 'ScienceStandardizedScore': [-43.32540472482415,\n",
       "  3.559421358193307,\n",
       "  6.004837495389892,\n",
       "  5.1902061978752,\n",
       "  2.3771350037032284],\n",
       " 'HistoryStandardizedScore': [2.1526561391879215,\n",
       "  -0.13701584186709334,\n",
       "  0.059197159832213866],\n",
       " 'OverallAcademicPerformanceComposite': [1.4579299879376975,\n",
       "  0.13159247444867664,\n",
       "  0.04473220414897951,\n",
       "  -0.027590547132702495],\n",
       " 'AggregateMeasureofSelfEsteem1': [4.252296251324747,\n",
       "  -0.0020686133559930566,\n",
       "  0.008094342718194227],\n",
       " 'AggregateMeasureofSelfEsteem2': [-1.9045140556579445,\n",
       "  0.9508517944528183,\n",
       "  0.2860173489880252,\n",
       "  0.5772010082979367],\n",
       " 'Asthingsstandnowhowfarinschooldoyouthinkyouwillget': [1.0810502311912917,\n",
       "  0.009787158541764384,\n",
       "  -0.11282439625675782],\n",
       " 'Howsureareyouthatyouwillgraduatefromhighschool': [1.4443356877050275,\n",
       "  -0.06039291392745406,\n",
       "  -0.10789707895295389]}"
      ]
     },
     "execution_count": 67,
     "metadata": {},
     "output_type": "execute_result"
    }
   ],
   "source": [
    "#Bootstrap_MB_dict is a dictionary mapping each vertex in the bootstrap graph to its markov blanket\n",
    "Bootstrap_regressionParams_dict = {}\n",
    "temp = []\n",
    "for item in Bootstrap_MB_dict.items():\n",
    "    temp.clear()\n",
    "    var = item[0]\n",
    "    mb = item[1]\n",
    "    formula = var + '~ 1'\n",
    "    if len(mb) > 0:\n",
    "        formula = formula + '+' + '+'.join(mb)\n",
    "    if (var2type[var]=='int64'):\n",
    "        #discrete\n",
    "        #fit Poisson regression\n",
    "        model = sm.GLM.from_formula(formula, data=data, family=sm.families.Poisson()).fit()\n",
    "        temp.append(model.params['Intercept']) #0th param is intercept\n",
    "        for x in mb:\n",
    "            temp.append(model.params[x])\n",
    "        Bootstrap_regressionParams_dict[var]=temp[:] #(i+1)th param corresponds to coeff of ith var in markov blanket\n",
    "    else:\n",
    "        #continuous\n",
    "        #fit Gaussian distribution\n",
    "        model = sm.GLM.from_formula(formula, data=data, family=sm.families.Gaussian()).fit()\n",
    "        temp.append(model.params['Intercept']) #0th param is intercept\n",
    "        for x in mb:\n",
    "            temp.append(model.params[x])\n",
    "        Bootstrap_regressionParams_dict[var]=temp[:] #(i+1)th param corresponds to coeff of ith var in markov blanket\n",
    "Bootstrap_regressionParams_dict "
   ]
  },
  {
   "cell_type": "code",
   "execution_count": 68,
   "metadata": {},
   "outputs": [
    {
     "data": {
      "text/plain": [
       "array([[0., 0., 0., 0., 1., 0., 0., 0., 0., 0., 0., 0., 0., 1., 0., 0.,\n",
       "        0., 0., 0., 0., 0., 0., 0., 0., 1., 0., 0., 0., 0., 0.],\n",
       "       [0., 0., 0., 1., 1., 1., 0., 1., 0., 0., 0., 0., 0., 0., 0., 0.,\n",
       "        0., 0., 0., 0., 0., 0., 0., 0., 1., 0., 0., 0., 0., 0.],\n",
       "       [0., 0., 0., 0., 1., 0., 1., 0., 0., 0., 0., 1., 1., 0., 0., 0.,\n",
       "        0., 0., 1., 0., 0., 0., 0., 0., 0., 0., 0., 1., 0., 0.],\n",
       "       [0., 0., 0., 0., 0., 0., 0., 1., 0., 0., 0., 0., 0., 0., 0., 0.,\n",
       "        0., 0., 0., 0., 0., 0., 0., 0., 0., 0., 0., 0., 1., 0.],\n",
       "       [0., 0., 0., 0., 0., 0., 0., 1., 0., 0., 0., 0., 0., 0., 0., 0.,\n",
       "        0., 0., 0., 0., 0., 0., 0., 0., 0., 0., 0., 0., 0., 0.],\n",
       "       [0., 0., 0., 0., 0., 0., 0., 1., 0., 0., 0., 0., 0., 0., 0., 0.,\n",
       "        0., 0., 0., 0., 0., 0., 0., 0., 0., 0., 0., 0., 0., 0.],\n",
       "       [0., 0., 0., 0., 0., 0., 0., 0., 0., 0., 1., 0., 0., 0., 1., 1.,\n",
       "        0., 0., 0., 1., 0., 1., 0., 1., 0., 0., 0., 0., 0., 1.],\n",
       "       [0., 0., 0., 0., 0., 0., 0., 0., 0., 1., 0., 0., 0., 0., 0., 0.,\n",
       "        0., 1., 0., 0., 0., 0., 1., 0., 1., 0., 0., 1., 0., 0.],\n",
       "       [0., 0., 0., 0., 0., 0., 0., 0., 0., 0., 0., 0., 0., 0., 0., 0.,\n",
       "        0., 0., 0., 0., 0., 0., 1., 0., 0., 0., 0., 0., 0., 0.],\n",
       "       [0., 0., 0., 0., 0., 0., 0., 0., 0., 0., 0., 0., 0., 0., 0., 0.,\n",
       "        0., 0., 0., 0., 0., 0., 0., 0., 0., 0., 0., 0., 0., 0.],\n",
       "       [0., 0., 0., 0., 0., 0., 0., 0., 0., 0., 0., 0., 0., 0., 0., 0.,\n",
       "        0., 0., 0., 0., 0., 0., 0., 0., 0., 0., 0., 0., 0., 0.],\n",
       "       [0., 0., 0., 0., 0., 0., 0., 0., 0., 0., 0., 0., 0., 0., 0., 0.,\n",
       "        0., 0., 0., 1., 0., 0., 0., 0., 1., 0., 0., 0., 0., 0.],\n",
       "       [0., 0., 0., 0., 0., 0., 0., 0., 0., 0., 0., 0., 0., 0., 0., 0.,\n",
       "        0., 0., 0., 0., 0., 0., 0., 0., 0., 0., 0., 0., 0., 0.],\n",
       "       [0., 0., 0., 0., 0., 0., 0., 0., 0., 0., 0., 0., 0., 0., 0., 0.,\n",
       "        0., 1., 0., 0., 0., 0., 0., 0., 0., 0., 0., 0., 0., 0.],\n",
       "       [0., 0., 0., 0., 0., 0., 0., 0., 0., 0., 0., 0., 0., 0., 0., 0.,\n",
       "        0., 0., 0., 0., 0., 0., 0., 0., 0., 0., 0., 0., 0., 0.],\n",
       "       [0., 0., 0., 0., 0., 0., 0., 0., 0., 0., 0., 0., 0., 0., 0., 0.,\n",
       "        0., 0., 0., 0., 0., 1., 0., 0., 0., 0., 0., 0., 0., 0.],\n",
       "       [0., 0., 0., 0., 0., 0., 0., 0., 0., 0., 0., 0., 0., 0., 0., 0.,\n",
       "        0., 0., 0., 0., 0., 1., 0., 0., 0., 0., 0., 0., 0., 0.],\n",
       "       [0., 0., 0., 0., 0., 0., 0., 0., 0., 0., 0., 0., 0., 0., 0., 0.,\n",
       "        0., 0., 0., 0., 0., 0., 0., 0., 1., 0., 0., 0., 0., 0.],\n",
       "       [0., 0., 0., 0., 0., 0., 0., 0., 0., 0., 0., 0., 0., 0., 0., 0.,\n",
       "        0., 0., 0., 0., 0., 0., 0., 0., 1., 0., 0., 0., 0., 0.],\n",
       "       [0., 0., 0., 0., 0., 0., 0., 0., 0., 0., 0., 0., 0., 0., 0., 0.,\n",
       "        0., 0., 0., 0., 0., 0., 0., 0., 0., 0., 0., 0., 0., 0.],\n",
       "       [0., 0., 0., 0., 0., 0., 0., 0., 0., 0., 0., 0., 0., 0., 0., 0.,\n",
       "        0., 0., 0., 0., 0., 0., 0., 0., 1., 0., 0., 0., 0., 0.],\n",
       "       [0., 0., 0., 0., 0., 0., 0., 0., 0., 0., 0., 0., 0., 0., 0., 0.,\n",
       "        0., 0., 0., 0., 0., 0., 0., 0., 1., 0., 0., 0., 0., 1.],\n",
       "       [0., 0., 0., 0., 0., 0., 0., 0., 0., 0., 0., 0., 0., 0., 0., 0.,\n",
       "        0., 0., 0., 0., 0., 0., 0., 0., 1., 0., 0., 1., 0., 0.],\n",
       "       [0., 0., 0., 0., 0., 0., 0., 0., 0., 0., 0., 0., 0., 0., 0., 0.,\n",
       "        0., 0., 0., 0., 0., 0., 0., 0., 0., 0., 0., 0., 0., 1.],\n",
       "       [0., 0., 0., 0., 0., 0., 0., 0., 0., 0., 0., 0., 0., 0., 0., 0.,\n",
       "        0., 0., 0., 0., 0., 0., 0., 0., 0., 0., 0., 0., 0., 0.],\n",
       "       [0., 0., 0., 0., 0., 0., 0., 0., 0., 0., 0., 0., 0., 0., 0., 0.,\n",
       "        0., 0., 0., 0., 0., 0., 0., 0., 0., 0., 0., 0., 1., 0.],\n",
       "       [0., 0., 0., 0., 0., 0., 0., 0., 0., 0., 0., 0., 0., 0., 0., 0.,\n",
       "        0., 0., 0., 0., 0., 0., 0., 0., 0., 0., 0., 0., 0., 0.],\n",
       "       [0., 0., 0., 0., 0., 0., 0., 0., 0., 0., 0., 0., 0., 0., 0., 0.,\n",
       "        0., 0., 0., 0., 0., 0., 0., 0., 0., 0., 0., 0., 0., 0.],\n",
       "       [0., 0., 0., 0., 0., 0., 0., 0., 0., 0., 0., 0., 0., 0., 0., 0.,\n",
       "        0., 0., 0., 0., 0., 0., 0., 0., 0., 0., 0., 0., 0., 0.],\n",
       "       [0., 0., 0., 0., 0., 0., 0., 0., 0., 0., 0., 0., 0., 0., 0., 0.,\n",
       "        0., 0., 0., 0., 0., 0., 0., 0., 0., 0., 0., 0., 0., 0.]])"
      ]
     },
     "execution_count": 68,
     "metadata": {},
     "output_type": "execute_result"
    }
   ],
   "source": [
    "#blocks form a DAG\n",
    "#create adjacency matrix of the blocks\n",
    "import numpy as np\n",
    "blocks = G.blocks\n",
    "adj_mat = np.zeros((len(G.blocks),len(G.blocks)))\n",
    "for i in range(len(blocks)):\n",
    "    block = blocks[i]\n",
    "    children = list(G.children(block))\n",
    "    adjacent = []\n",
    "    for c in children:\n",
    "        adj_block = G.block(c)\n",
    "        if adj_block not in adjacent:\n",
    "            adjacent.append(adj_block)\n",
    "            idx = blocks.index(adj_block)\n",
    "            adj_mat[i][idx]=1\n",
    "adj_mat"
   ]
  },
  {
   "cell_type": "code",
   "execution_count": 69,
   "metadata": {},
   "outputs": [
    {
     "data": {
      "text/plain": [
       "[0,\n",
       " 0,\n",
       " 0,\n",
       " 1,\n",
       " 3,\n",
       " 1,\n",
       " 1,\n",
       " 4,\n",
       " 0,\n",
       " 1,\n",
       " 1,\n",
       " 1,\n",
       " 1,\n",
       " 1,\n",
       " 1,\n",
       " 1,\n",
       " 0,\n",
       " 2,\n",
       " 1,\n",
       " 2,\n",
       " 0,\n",
       " 3,\n",
       " 2,\n",
       " 1,\n",
       " 9,\n",
       " 0,\n",
       " 0,\n",
       " 3,\n",
       " 2,\n",
       " 3]"
      ]
     },
     "execution_count": 69,
     "metadata": {},
     "output_type": "execute_result"
    }
   ],
   "source": [
    "in_degrees = []\n",
    "for i in range(len(blocks)):\n",
    "    in_degrees.append(int((adj_mat[:,i]).sum()))\n",
    "in_degrees"
   ]
  },
  {
   "cell_type": "code",
   "execution_count": 70,
   "metadata": {},
   "outputs": [
    {
     "data": {
      "text/plain": [
       "[0,\n",
       " 1,\n",
       " 2,\n",
       " 8,\n",
       " 16,\n",
       " 20,\n",
       " 25,\n",
       " 26,\n",
       " 13,\n",
       " 3,\n",
       " 5,\n",
       " 4,\n",
       " 6,\n",
       " 11,\n",
       " 12,\n",
       " 18,\n",
       " 28,\n",
       " 7,\n",
       " 10,\n",
       " 14,\n",
       " 15,\n",
       " 23,\n",
       " 19,\n",
       " 9,\n",
       " 17,\n",
       " 22,\n",
       " 21,\n",
       " 27,\n",
       " 24,\n",
       " 29]"
      ]
     },
     "execution_count": 70,
     "metadata": {},
     "output_type": "execute_result"
    }
   ],
   "source": [
    "queue = []\n",
    "ordering = []\n",
    "visited = list(np.zeros(len(blocks)))\n",
    "for i in range(len(blocks)):\n",
    "    if in_degrees[i]==0:\n",
    "        queue.append(i)\n",
    "        visited[i]=1\n",
    "while len(queue)>0:\n",
    "    cur = queue[0]\n",
    "    ordering.append(cur)\n",
    "    queue=queue[1:]\n",
    "    for i in range(len(blocks)):\n",
    "        if adj_mat[cur][i]==1 and visited[i]==0:\n",
    "            in_degrees[i]-=1\n",
    "            if in_degrees[i]==0:\n",
    "                queue.append(i)\n",
    "                visited[i]=1\n",
    "ordering\n",
    "        "
   ]
  },
  {
   "cell_type": "code",
   "execution_count": 71,
   "metadata": {},
   "outputs": [
    {
     "data": {
      "text/plain": [
       "[{'Race'},\n",
       " {'FathersEducation', 'MothersEducation'},\n",
       " {'ParentsHighestEducationLevelfromStuandParqxs'},\n",
       " {'Region', 'Urbanicity'},\n",
       " {'WhenIworkhardonschoolworkmyteacherspraisemyeffort'},\n",
       " {'numcigsyousmokeaday', 'numtimesyouvedrankalcinlifetime'},\n",
       " {'AggregateMeasureofControl2'},\n",
       " {'englishgradesinhs',\n",
       "  'historygradesinhs',\n",
       "  'mathgradesinhs',\n",
       "  'sciencegradesinhs'},\n",
       " {'percentMinorityin8thgrade'},\n",
       " {'FemGaurdianOccupation', 'MaleGuardianOccupation'},\n",
       " {'AnnualFamilyIncome'},\n",
       " {'LanguageSpokeninHome'},\n",
       " {'SocioeconomicStatusComposite'},\n",
       " {'AskedIfHomeworkDone', 'AskedToDoChores', 'LimitOnTvTime'},\n",
       " {'NumTimesDiscussedCourseMaterialWithGuardians'},\n",
       " {'Prolbemofstudentalcuse', 'problemofstudentdruguse'},\n",
       " {'AggregateMeasureofSelfEsteem1'},\n",
       " {'ParentsMaritalStatus'},\n",
       " {'TimeSpentAtHomeAfterSchoolWithoutAdult'},\n",
       " {'Theteachingisgood'},\n",
       " {'InclassIoftenfeelputdownbymyteachers',\n",
       "  'MostofmyteachersreallylistentowhatIhavetosay',\n",
       "  'Teachersareinterestedinstudents'},\n",
       " {'Whatkindofworkdoyouexpecttobedoingwhenyouare30yearsold'},\n",
       " {'LimitOnTimeWithFriends'},\n",
       " {'GuardiansAttendedSchoolMeeting',\n",
       "  'GuardiansSpokenToSchool',\n",
       "  'StudyPlaceinHome'},\n",
       " {'percentofSchoolwithDiscountedLunch'},\n",
       " {'HistoryAbilityGroup'},\n",
       " {'EnglishClassAbilityGroup', 'MathAbilityGroup', 'ScienceAbilityGroup'},\n",
       " {'OverallAcademicPerformanceComposite'},\n",
       " {'AggregateMeasureofControl1',\n",
       "  'HistoryStandardizedScore',\n",
       "  'MathStandardizedScore',\n",
       "  'ReadingStandardizedScore',\n",
       "  'ScienceStandardizedScore'},\n",
       " {'AggregateMeasureofSelfEsteem2',\n",
       "  'Asthingsstandnowhowfarinschooldoyouthinkyouwillget',\n",
       "  'Howsureareyouthatyouwillgraduatefromhighschool'}]"
      ]
     },
     "execution_count": 71,
     "metadata": {},
     "output_type": "execute_result"
    }
   ],
   "source": [
    "for i in range(len(ordering)):\n",
    "    num = ordering[i]\n",
    "    ordering[i]=blocks[num]\n",
    "ordering"
   ]
  },
  {
   "cell_type": "code",
   "execution_count": 116,
   "metadata": {},
   "outputs": [],
   "source": [
    "def sampleFromCG(numSamples):\n",
    "    samples = np.zeros((len(data.columns),numSamples))\n",
    "    vertexOrdering = []\n",
    "    for block in ordering:\n",
    "        for vertex in block:\n",
    "            vertexOrdering.append(vertex)\n",
    "    for s in range(numSamples):\n",
    "        old_vals = np.ones(len(data.columns))*5\n",
    "        cur_vals = np.zeros(len(data.columns))\n",
    "        for i in range(1000):\n",
    "            cur_vals = np.zeros(len(data.columns))\n",
    "            seen = []\n",
    "            for block in ordering:\n",
    "                for vertex in block:\n",
    "                    mb = Bootstrap_MB_dict[vertex]\n",
    "                    sum_ = Bootstrap_regressionParams_dict[vertex][0] #intercept \n",
    "                    idx = -1\n",
    "                    for exog in mb:\n",
    "                        idx+=1\n",
    "                        if exog in seen:\n",
    "                            sum_+=(Bootstrap_regressionParams_dict[vertex][idx+1]*cur_vals[vertexOrdering.index(exog)])\n",
    "                        else:\n",
    "                            sum_+=(Bootstrap_regressionParams_dict[vertex][idx+1]*old_vals[vertexOrdering.index(exog)])\n",
    "                    seen.append(vertex)\n",
    "                    mu=sum_\n",
    "                    if mu<0:\n",
    "                        mu = 0.001\n",
    "                    if var2type[vertex]=='int64':\n",
    "                        cur_vals[vertexOrdering.index(vertex)]=np.random.poisson(mu)\n",
    "                    else:\n",
    "                        cur_vals[vertexOrdering.index(vertex)]=np.random.normal(loc=mu)\n",
    "            old_vals = cur_vals\n",
    "        cur_vals = old_vals #completed burn in period\n",
    "        actual_sample = np.zeros(len(data.columns))\n",
    "        seen = []\n",
    "        for block in ordering:\n",
    "            for vertex in block:\n",
    "                mb = Bootstrap_MB_dict[vertex]\n",
    "                sum_ = Bootstrap_regressionParams_dict[vertex][0] #intercept \n",
    "                idx = -1\n",
    "                for exog in mb:\n",
    "                    idx+=1\n",
    "                    if exog in seen:\n",
    "                        sum_+=(Bootstrap_regressionParams_dict[vertex][idx+1]*cur_vals[vertexOrdering.index(exog)])\n",
    "                    else:\n",
    "                        sum_+=(Bootstrap_regressionParams_dict[vertex][idx+1]*old_vals[vertexOrdering.index(exog)])\n",
    "                seen.append(vertex)\n",
    "                mu=sum_\n",
    "                if (mu<0):\n",
    "                    mu = 0.001\n",
    "                if var2type[vertex]=='int64':\n",
    "                        actual_sample[vertexOrdering.index(vertex)]=np.random.poisson(mu)\n",
    "                else:\n",
    "                        actual_sample[vertexOrdering.index(vertex)]=np.random.normal(loc=mu)\n",
    "        samples[:,s]=np.copy(actual_sample)\n",
    "    return samples\n",
    "    "
   ]
  },
  {
   "cell_type": "code",
   "execution_count": 118,
   "metadata": {},
   "outputs": [
    {
     "data": {
      "text/plain": [
       "array([[ 1.        ],\n",
       "       [ 0.        ],\n",
       "       [ 0.        ],\n",
       "       [-0.22513444],\n",
       "       [ 0.        ],\n",
       "       [ 0.        ],\n",
       "       [ 4.        ],\n",
       "       [ 1.89427602],\n",
       "       [ 3.91995533],\n",
       "       [ 1.        ],\n",
       "       [ 2.8057178 ],\n",
       "       [ 0.92114069],\n",
       "       [ 1.69046071],\n",
       "       [ 1.39831997],\n",
       "       [ 2.        ],\n",
       "       [ 0.        ],\n",
       "       [ 0.        ],\n",
       "       [ 1.        ],\n",
       "       [ 4.        ],\n",
       "       [ 1.4474536 ],\n",
       "       [ 0.        ],\n",
       "       [ 2.        ],\n",
       "       [ 0.        ],\n",
       "       [ 1.        ],\n",
       "       [ 0.        ],\n",
       "       [ 0.        ],\n",
       "       [ 5.        ],\n",
       "       [ 0.49080985],\n",
       "       [ 0.        ],\n",
       "       [ 2.        ],\n",
       "       [ 0.        ],\n",
       "       [ 0.        ],\n",
       "       [ 0.        ],\n",
       "       [ 2.        ],\n",
       "       [ 0.        ],\n",
       "       [ 0.        ],\n",
       "       [ 0.        ],\n",
       "       [ 0.        ],\n",
       "       [ 0.        ],\n",
       "       [ 1.        ],\n",
       "       [ 0.        ],\n",
       "       [ 0.        ],\n",
       "       [ 0.        ],\n",
       "       [ 4.        ],\n",
       "       [ 1.27547314],\n",
       "       [ 2.2688869 ],\n",
       "       [ 0.        ],\n",
       "       [ 2.61415126],\n",
       "       [-0.90746203],\n",
       "       [ 1.        ],\n",
       "       [-1.84523626],\n",
       "       [ 1.        ]])"
      ]
     },
     "execution_count": 118,
     "metadata": {},
     "output_type": "execute_result"
    }
   ],
   "source": [
    "x=sampleFromCG(1)\n",
    "x"
   ]
  },
  {
   "cell_type": "code",
   "execution_count": 119,
   "metadata": {},
   "outputs": [],
   "source": [
    "x = x.reshape(-1)"
   ]
  },
  {
   "cell_type": "code",
   "execution_count": 120,
   "metadata": {},
   "outputs": [
    {
     "data": {
      "text/plain": [
       "array([ 1.        ,  0.        ,  0.        , -0.22513444,  0.        ,\n",
       "        0.        ,  4.        ,  1.89427602,  3.91995533,  1.        ,\n",
       "        2.8057178 ,  0.92114069,  1.69046071,  1.39831997,  2.        ,\n",
       "        0.        ,  0.        ,  1.        ,  4.        ,  1.4474536 ,\n",
       "        0.        ,  2.        ,  0.        ,  1.        ,  0.        ,\n",
       "        0.        ,  5.        ,  0.49080985,  0.        ,  2.        ,\n",
       "        0.        ,  0.        ,  0.        ,  2.        ,  0.        ,\n",
       "        0.        ,  0.        ,  0.        ,  0.        ,  1.        ,\n",
       "        0.        ,  0.        ,  0.        ,  4.        ,  1.27547314,\n",
       "        2.2688869 ,  0.        ,  2.61415126, -0.90746203,  1.        ,\n",
       "       -1.84523626,  1.        ])"
      ]
     },
     "execution_count": 120,
     "metadata": {},
     "output_type": "execute_result"
    }
   ],
   "source": [
    "x"
   ]
  },
  {
   "cell_type": "code",
   "execution_count": 123,
   "metadata": {},
   "outputs": [],
   "source": [
    "samples = sampleFromCG(10)"
   ]
  },
  {
   "cell_type": "code",
   "execution_count": 124,
   "metadata": {},
   "outputs": [
    {
     "data": {
      "text/plain": [
       "array([ 1.3       ,  0.6       ,  0.5       ,  0.02764407,  0.        ,\n",
       "        0.        ,  0.5       ,  4.76147581,  4.61879192,  1.5       ,\n",
       "        2.70269233,  2.38060322,  2.76898907,  2.49427425,  2.3       ,\n",
       "        1.3       ,  0.2       ,  1.1       ,  4.4       ,  1.23882738,\n",
       "        1.5       ,  0.8       ,  0.2       ,  0.9       ,  0.4       ,\n",
       "        0.6       ,  4.1       ,  0.06778824,  0.2       ,  0.7       ,\n",
       "        0.1       ,  0.4       ,  0.6       ,  1.5       ,  0.4       ,\n",
       "        0.3       ,  0.        ,  0.2       ,  0.8       ,  1.1       ,\n",
       "        0.        ,  0.        ,  0.        ,  1.6       ,  1.79359901,\n",
       "        4.98511472,  1.1       ,  2.80884793, 16.37343055,  1.3       ,\n",
       "        1.13156607,  0.6       ])"
      ]
     },
     "execution_count": 124,
     "metadata": {},
     "output_type": "execute_result"
    }
   ],
   "source": [
    "samples = samples.reshape(52,10)\n",
    "np.mean(samples,axis=1)"
   ]
  },
  {
   "cell_type": "code",
   "execution_count": 126,
   "metadata": {},
   "outputs": [
    {
     "data": {
      "text/plain": [
       "array([ 3.        ,  0.        ,  2.        ,  0.39034713,  0.        ,\n",
       "        0.        ,  0.        ,  4.7405611 ,  4.5165157 ,  1.        ,\n",
       "        0.78045811,  0.66535816,  1.86004667,  2.73829608,  5.        ,\n",
       "        3.        ,  0.        ,  1.        ,  3.        ,  0.10510729,\n",
       "        2.        ,  0.        ,  0.        ,  3.        ,  0.        ,\n",
       "        0.        ,  7.        ,  1.12055227,  0.        ,  0.        ,\n",
       "        0.        ,  1.        ,  0.        ,  0.        ,  0.        ,\n",
       "        0.        ,  0.        ,  0.        ,  0.        ,  1.        ,\n",
       "        0.        ,  0.        ,  0.        ,  1.        ,  1.07328408,\n",
       "        5.09034919,  1.        ,  4.22668766, 24.79215146,  0.        ,\n",
       "        0.78091994,  0.        ])"
      ]
     },
     "execution_count": 126,
     "metadata": {},
     "output_type": "execute_result"
    }
   ],
   "source": [
    "samples[:,2]"
   ]
  },
  {
   "cell_type": "code",
   "execution_count": 127,
   "metadata": {},
   "outputs": [
    {
     "data": {
      "text/plain": [
       "array([ 2.        ,  1.        ,  1.        ,  1.22894563,  0.        ,\n",
       "        0.        ,  0.        ,  5.57805242,  7.07263896,  3.        ,\n",
       "        4.74447405,  4.28745273,  4.71408095,  2.41521794,  2.        ,\n",
       "        2.        ,  0.        ,  0.        ,  3.        ,  3.63188832,\n",
       "        2.        ,  3.        ,  1.        ,  0.        ,  0.        ,\n",
       "        0.        ,  2.        ,  1.15386196,  0.        ,  0.        ,\n",
       "        0.        ,  0.        ,  3.        ,  2.        ,  1.        ,\n",
       "        1.        ,  0.        ,  0.        ,  0.        ,  1.        ,\n",
       "        0.        ,  0.        ,  0.        ,  0.        ,  2.02856231,\n",
       "        7.05911933,  3.        ,  3.43948093, 19.73077911,  1.        ,\n",
       "        3.9160059 ,  0.        ])"
      ]
     },
     "execution_count": 127,
     "metadata": {},
     "output_type": "execute_result"
    }
   ],
   "source": [
    "samples[:,3]"
   ]
  },
  {
   "cell_type": "code",
   "execution_count": 134,
   "metadata": {},
   "outputs": [
    {
     "data": {
      "text/plain": [
       "['Race',\n",
       " 'MothersEducation',\n",
       " 'FathersEducation',\n",
       " 'ParentsHighestEducationLevelfromStuandParqxs',\n",
       " 'Urbanicity',\n",
       " 'Region',\n",
       " 'WhenIworkhardonschoolworkmyteacherspraisemyeffort',\n",
       " 'numcigsyousmokeaday',\n",
       " 'numtimesyouvedrankalcinlifetime',\n",
       " 'AggregateMeasureofControl2',\n",
       " 'historygradesinhs',\n",
       " 'mathgradesinhs',\n",
       " 'englishgradesinhs',\n",
       " 'sciencegradesinhs',\n",
       " 'percentMinorityin8thgrade',\n",
       " 'MaleGuardianOccupation',\n",
       " 'FemGaurdianOccupation',\n",
       " 'AnnualFamilyIncome',\n",
       " 'LanguageSpokeninHome',\n",
       " 'SocioeconomicStatusComposite',\n",
       " 'AskedToDoChores',\n",
       " 'AskedIfHomeworkDone',\n",
       " 'LimitOnTvTime',\n",
       " 'NumTimesDiscussedCourseMaterialWithGuardians',\n",
       " 'Prolbemofstudentalcuse',\n",
       " 'problemofstudentdruguse',\n",
       " 'AggregateMeasureofSelfEsteem1',\n",
       " 'ParentsMaritalStatus',\n",
       " 'TimeSpentAtHomeAfterSchoolWithoutAdult',\n",
       " 'Theteachingisgood',\n",
       " 'MostofmyteachersreallylistentowhatIhavetosay',\n",
       " 'Teachersareinterestedinstudents',\n",
       " 'InclassIoftenfeelputdownbymyteachers',\n",
       " 'Whatkindofworkdoyouexpecttobedoingwhenyouare30yearsold',\n",
       " 'LimitOnTimeWithFriends',\n",
       " 'StudyPlaceinHome',\n",
       " 'GuardiansSpokenToSchool',\n",
       " 'GuardiansAttendedSchoolMeeting',\n",
       " 'percentofSchoolwithDiscountedLunch',\n",
       " 'HistoryAbilityGroup',\n",
       " 'EnglishClassAbilityGroup',\n",
       " 'ScienceAbilityGroup',\n",
       " 'MathAbilityGroup',\n",
       " 'OverallAcademicPerformanceComposite',\n",
       " 'MathStandardizedScore',\n",
       " 'ReadingStandardizedScore',\n",
       " 'AggregateMeasureofControl1',\n",
       " 'HistoryStandardizedScore',\n",
       " 'ScienceStandardizedScore',\n",
       " 'Howsureareyouthatyouwillgraduatefromhighschool',\n",
       " 'AggregateMeasureofSelfEsteem2',\n",
       " 'Asthingsstandnowhowfarinschooldoyouthinkyouwillget']"
      ]
     },
     "execution_count": 134,
     "metadata": {},
     "output_type": "execute_result"
    }
   ],
   "source": [
    "vertexOrdering = []\n",
    "for block in ordering:\n",
    "    for v in block:\n",
    "        vertexOrdering.append(v)\n",
    "vertexOrdering"
   ]
  },
  {
   "cell_type": "code",
   "execution_count": 135,
   "metadata": {},
   "outputs": [
    {
     "data": {
      "text/plain": [
       "43"
      ]
     },
     "execution_count": 135,
     "metadata": {},
     "output_type": "execute_result"
    }
   ],
   "source": [
    "vertexOrdering.index('OverallAcademicPerformanceComposite')"
   ]
  },
  {
   "cell_type": "code",
   "execution_count": 136,
   "metadata": {},
   "outputs": [
    {
     "data": {
      "text/plain": [
       "['ParentsMaritalStatus',\n",
       " 'HistoryAbilityGroup',\n",
       " 'ParentsHighestEducationLevelfromStuandParqxs']"
      ]
     },
     "execution_count": 136,
     "metadata": {},
     "output_type": "execute_result"
    }
   ],
   "source": [
    "Bootstrap_MB_dict['OverallAcademicPerformanceComposite']"
   ]
  },
  {
   "cell_type": "code",
   "execution_count": 137,
   "metadata": {},
   "outputs": [
    {
     "data": {
      "text/plain": [
       "[1.4579299879376975,\n",
       " 0.13159247444867664,\n",
       " 0.04473220414897951,\n",
       " -0.027590547132702495]"
      ]
     },
     "execution_count": 137,
     "metadata": {},
     "output_type": "execute_result"
    }
   ],
   "source": [
    "Bootstrap_regressionParams_dict['OverallAcademicPerformanceComposite']"
   ]
  },
  {
   "cell_type": "code",
   "execution_count": 138,
   "metadata": {},
   "outputs": [
    {
     "data": {
      "text/plain": [
       "count    1814.000000\n",
       "mean        4.665932\n",
       "std         1.294384\n",
       "min         0.000000\n",
       "25%         4.000000\n",
       "50%         5.000000\n",
       "75%         6.000000\n",
       "max         6.000000\n",
       "Name: OverallAcademicPerformanceComposite, dtype: float64"
      ]
     },
     "execution_count": 138,
     "metadata": {},
     "output_type": "execute_result"
    }
   ],
   "source": [
    "data['OverallAcademicPerformanceComposite'].describe()"
   ]
  },
  {
   "cell_type": "code",
   "execution_count": null,
   "metadata": {},
   "outputs": [],
   "source": []
  }
 ],
 "metadata": {
  "kernelspec": {
   "display_name": "Python 3",
   "language": "python",
   "name": "python3"
  },
  "language_info": {
   "codemirror_mode": {
    "name": "ipython",
    "version": 3
   },
   "file_extension": ".py",
   "mimetype": "text/x-python",
   "name": "python",
   "nbconvert_exporter": "python",
   "pygments_lexer": "ipython3",
   "version": "3.7.4"
  }
 },
 "nbformat": 4,
 "nbformat_minor": 2
}
